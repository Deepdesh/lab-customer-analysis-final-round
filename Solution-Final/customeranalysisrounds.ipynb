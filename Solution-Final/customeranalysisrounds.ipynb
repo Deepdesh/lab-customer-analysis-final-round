{
  "nbformat": 4,
  "nbformat_minor": 0,
  "metadata": {
    "colab": {
      "name": "customeranalysisrounds.ipynb",
      "provenance": [],
      "collapsed_sections": [
        "1p12kk949VNO",
        "X3Zlap3-OG1T",
        "yjApgMsKnkJc",
        "MU6VfXjOsrO4",
        "wB0LqCL_uo44"
      ],
      "toc_visible": true
    },
    "kernelspec": {
      "name": "python3",
      "display_name": "Python 3"
    },
    "language_info": {
      "name": "python"
    }
  },
  "cells": [
    {
      "cell_type": "markdown",
      "metadata": {
        "id": "8I7gBNsQ12Lq"
      },
      "source": [
        "# **Lab | Customer Analysis Round 1**"
      ]
    },
    {
      "cell_type": "markdown",
      "metadata": {
        "id": "GWRR7au64Qkz"
      },
      "source": [
        "1. Task 1 Read the three files into python as dataframes\n",
        "\n"
      ]
    },
    {
      "cell_type": "code",
      "metadata": {
        "id": "rMZuOdtC4PqF"
      },
      "source": [
        "#Importing necessary libraries\n",
        "import pandas as pd\n",
        "import numpy as np"
      ],
      "execution_count": null,
      "outputs": []
    },
    {
      "cell_type": "code",
      "metadata": {
        "id": "7zfP2kVz6jxl"
      },
      "source": [
        "# To make run all you ask in one cell\n",
        "from IPython.core.interactiveshell import InteractiveShell\n",
        "InteractiveShell.ast_node_interactivity = \"all\""
      ],
      "execution_count": null,
      "outputs": []
    },
    {
      "cell_type": "code",
      "metadata": {
        "colab": {
          "base_uri": "https://localhost:8080/",
          "height": 323
        },
        "id": "_9_hPsyJ4VO0",
        "outputId": "7ed3c943-8332-4450-e489-89ff72fb26dd"
      },
      "source": [
        "#Assigning and reading the first file (file1.csv)\n",
        "url1 = 'https://raw.githubusercontent.com/ironhack-labs/lab-customer-analysis-round-1/master/files_for_lab/csv_files/file1.csv'\n",
        "data_file1 = pd.read_csv(url1)\n",
        "data_file1.head()\n"
      ],
      "execution_count": null,
      "outputs": [
        {
          "output_type": "execute_result",
          "data": {
            "text/html": [
              "<div>\n",
              "<style scoped>\n",
              "    .dataframe tbody tr th:only-of-type {\n",
              "        vertical-align: middle;\n",
              "    }\n",
              "\n",
              "    .dataframe tbody tr th {\n",
              "        vertical-align: top;\n",
              "    }\n",
              "\n",
              "    .dataframe thead th {\n",
              "        text-align: right;\n",
              "    }\n",
              "</style>\n",
              "<table border=\"1\" class=\"dataframe\">\n",
              "  <thead>\n",
              "    <tr style=\"text-align: right;\">\n",
              "      <th></th>\n",
              "      <th>Customer</th>\n",
              "      <th>ST</th>\n",
              "      <th>GENDER</th>\n",
              "      <th>Education</th>\n",
              "      <th>Customer Lifetime Value</th>\n",
              "      <th>Income</th>\n",
              "      <th>Monthly Premium Auto</th>\n",
              "      <th>Number of Open Complaints</th>\n",
              "      <th>Policy Type</th>\n",
              "      <th>Vehicle Class</th>\n",
              "      <th>Total Claim Amount</th>\n",
              "    </tr>\n",
              "  </thead>\n",
              "  <tbody>\n",
              "    <tr>\n",
              "      <th>0</th>\n",
              "      <td>RB50392</td>\n",
              "      <td>Washington</td>\n",
              "      <td>NaN</td>\n",
              "      <td>Master</td>\n",
              "      <td>NaN</td>\n",
              "      <td>0.0</td>\n",
              "      <td>1000.0</td>\n",
              "      <td>1/0/00</td>\n",
              "      <td>Personal Auto</td>\n",
              "      <td>Four-Door Car</td>\n",
              "      <td>2.704934</td>\n",
              "    </tr>\n",
              "    <tr>\n",
              "      <th>1</th>\n",
              "      <td>QZ44356</td>\n",
              "      <td>Arizona</td>\n",
              "      <td>F</td>\n",
              "      <td>Bachelor</td>\n",
              "      <td>697953.59%</td>\n",
              "      <td>0.0</td>\n",
              "      <td>94.0</td>\n",
              "      <td>1/0/00</td>\n",
              "      <td>Personal Auto</td>\n",
              "      <td>Four-Door Car</td>\n",
              "      <td>1131.464935</td>\n",
              "    </tr>\n",
              "    <tr>\n",
              "      <th>2</th>\n",
              "      <td>AI49188</td>\n",
              "      <td>Nevada</td>\n",
              "      <td>F</td>\n",
              "      <td>Bachelor</td>\n",
              "      <td>1288743.17%</td>\n",
              "      <td>48767.0</td>\n",
              "      <td>108.0</td>\n",
              "      <td>1/0/00</td>\n",
              "      <td>Personal Auto</td>\n",
              "      <td>Two-Door Car</td>\n",
              "      <td>566.472247</td>\n",
              "    </tr>\n",
              "    <tr>\n",
              "      <th>3</th>\n",
              "      <td>WW63253</td>\n",
              "      <td>California</td>\n",
              "      <td>M</td>\n",
              "      <td>Bachelor</td>\n",
              "      <td>764586.18%</td>\n",
              "      <td>0.0</td>\n",
              "      <td>106.0</td>\n",
              "      <td>1/0/00</td>\n",
              "      <td>Corporate Auto</td>\n",
              "      <td>SUV</td>\n",
              "      <td>529.881344</td>\n",
              "    </tr>\n",
              "    <tr>\n",
              "      <th>4</th>\n",
              "      <td>GA49547</td>\n",
              "      <td>Washington</td>\n",
              "      <td>M</td>\n",
              "      <td>High School or Below</td>\n",
              "      <td>536307.65%</td>\n",
              "      <td>36357.0</td>\n",
              "      <td>68.0</td>\n",
              "      <td>1/0/00</td>\n",
              "      <td>Personal Auto</td>\n",
              "      <td>Four-Door Car</td>\n",
              "      <td>17.269323</td>\n",
              "    </tr>\n",
              "  </tbody>\n",
              "</table>\n",
              "</div>"
            ],
            "text/plain": [
              "  Customer          ST  ...  Vehicle Class Total Claim Amount\n",
              "0  RB50392  Washington  ...  Four-Door Car           2.704934\n",
              "1  QZ44356     Arizona  ...  Four-Door Car        1131.464935\n",
              "2  AI49188      Nevada  ...   Two-Door Car         566.472247\n",
              "3  WW63253  California  ...            SUV         529.881344\n",
              "4  GA49547  Washington  ...  Four-Door Car          17.269323\n",
              "\n",
              "[5 rows x 11 columns]"
            ]
          },
          "metadata": {
            "tags": []
          },
          "execution_count": 3
        }
      ]
    },
    {
      "cell_type": "code",
      "metadata": {
        "colab": {
          "base_uri": "https://localhost:8080/",
          "height": 323
        },
        "id": "GUOqlkqN4Va8",
        "outputId": "a70caadf-797e-45f7-fa61-e9b0c8c835e5"
      },
      "source": [
        "#Assigning and reading the second file (file2.csv)\n",
        "url2 = 'https://raw.githubusercontent.com/ironhack-labs/lab-customer-analysis-round-1/master/files_for_lab/csv_files/file2.csv'\n",
        "data_file2 = pd.read_csv(url2)\n",
        "data_file2.head()"
      ],
      "execution_count": null,
      "outputs": [
        {
          "output_type": "execute_result",
          "data": {
            "text/html": [
              "<div>\n",
              "<style scoped>\n",
              "    .dataframe tbody tr th:only-of-type {\n",
              "        vertical-align: middle;\n",
              "    }\n",
              "\n",
              "    .dataframe tbody tr th {\n",
              "        vertical-align: top;\n",
              "    }\n",
              "\n",
              "    .dataframe thead th {\n",
              "        text-align: right;\n",
              "    }\n",
              "</style>\n",
              "<table border=\"1\" class=\"dataframe\">\n",
              "  <thead>\n",
              "    <tr style=\"text-align: right;\">\n",
              "      <th></th>\n",
              "      <th>Customer</th>\n",
              "      <th>ST</th>\n",
              "      <th>GENDER</th>\n",
              "      <th>Education</th>\n",
              "      <th>Customer Lifetime Value</th>\n",
              "      <th>Income</th>\n",
              "      <th>Monthly Premium Auto</th>\n",
              "      <th>Number of Open Complaints</th>\n",
              "      <th>Total Claim Amount</th>\n",
              "      <th>Policy Type</th>\n",
              "      <th>Vehicle Class</th>\n",
              "    </tr>\n",
              "  </thead>\n",
              "  <tbody>\n",
              "    <tr>\n",
              "      <th>0</th>\n",
              "      <td>GS98873</td>\n",
              "      <td>Arizona</td>\n",
              "      <td>F</td>\n",
              "      <td>Bachelor</td>\n",
              "      <td>323912.47%</td>\n",
              "      <td>16061</td>\n",
              "      <td>88</td>\n",
              "      <td>1/0/00</td>\n",
              "      <td>633.6</td>\n",
              "      <td>Personal Auto</td>\n",
              "      <td>Four-Door Car</td>\n",
              "    </tr>\n",
              "    <tr>\n",
              "      <th>1</th>\n",
              "      <td>CW49887</td>\n",
              "      <td>California</td>\n",
              "      <td>F</td>\n",
              "      <td>Master</td>\n",
              "      <td>462680.11%</td>\n",
              "      <td>79487</td>\n",
              "      <td>114</td>\n",
              "      <td>1/0/00</td>\n",
              "      <td>547.2</td>\n",
              "      <td>Special Auto</td>\n",
              "      <td>SUV</td>\n",
              "    </tr>\n",
              "    <tr>\n",
              "      <th>2</th>\n",
              "      <td>MY31220</td>\n",
              "      <td>California</td>\n",
              "      <td>F</td>\n",
              "      <td>College</td>\n",
              "      <td>899704.02%</td>\n",
              "      <td>54230</td>\n",
              "      <td>112</td>\n",
              "      <td>1/0/00</td>\n",
              "      <td>537.6</td>\n",
              "      <td>Personal Auto</td>\n",
              "      <td>Two-Door Car</td>\n",
              "    </tr>\n",
              "    <tr>\n",
              "      <th>3</th>\n",
              "      <td>UH35128</td>\n",
              "      <td>Oregon</td>\n",
              "      <td>F</td>\n",
              "      <td>College</td>\n",
              "      <td>2580706.30%</td>\n",
              "      <td>71210</td>\n",
              "      <td>214</td>\n",
              "      <td>1/1/00</td>\n",
              "      <td>1027.2</td>\n",
              "      <td>Personal Auto</td>\n",
              "      <td>Luxury Car</td>\n",
              "    </tr>\n",
              "    <tr>\n",
              "      <th>4</th>\n",
              "      <td>WH52799</td>\n",
              "      <td>Arizona</td>\n",
              "      <td>F</td>\n",
              "      <td>College</td>\n",
              "      <td>380812.21%</td>\n",
              "      <td>94903</td>\n",
              "      <td>94</td>\n",
              "      <td>1/0/00</td>\n",
              "      <td>451.2</td>\n",
              "      <td>Corporate Auto</td>\n",
              "      <td>Two-Door Car</td>\n",
              "    </tr>\n",
              "  </tbody>\n",
              "</table>\n",
              "</div>"
            ],
            "text/plain": [
              "  Customer          ST  ...     Policy Type  Vehicle Class\n",
              "0  GS98873     Arizona  ...   Personal Auto  Four-Door Car\n",
              "1  CW49887  California  ...    Special Auto            SUV\n",
              "2  MY31220  California  ...   Personal Auto   Two-Door Car\n",
              "3  UH35128      Oregon  ...   Personal Auto     Luxury Car\n",
              "4  WH52799     Arizona  ...  Corporate Auto   Two-Door Car\n",
              "\n",
              "[5 rows x 11 columns]"
            ]
          },
          "metadata": {
            "tags": []
          },
          "execution_count": 4
        }
      ]
    },
    {
      "cell_type": "code",
      "metadata": {
        "colab": {
          "base_uri": "https://localhost:8080/",
          "height": 297
        },
        "id": "Cg5viH7C4Vkz",
        "outputId": "ba0d42e5-27b1-4125-b7c8-ccc845d682ee"
      },
      "source": [
        "data_file1.describe()"
      ],
      "execution_count": null,
      "outputs": [
        {
          "output_type": "execute_result",
          "data": {
            "text/html": [
              "<div>\n",
              "<style scoped>\n",
              "    .dataframe tbody tr th:only-of-type {\n",
              "        vertical-align: middle;\n",
              "    }\n",
              "\n",
              "    .dataframe tbody tr th {\n",
              "        vertical-align: top;\n",
              "    }\n",
              "\n",
              "    .dataframe thead th {\n",
              "        text-align: right;\n",
              "    }\n",
              "</style>\n",
              "<table border=\"1\" class=\"dataframe\">\n",
              "  <thead>\n",
              "    <tr style=\"text-align: right;\">\n",
              "      <th></th>\n",
              "      <th>Income</th>\n",
              "      <th>Monthly Premium Auto</th>\n",
              "      <th>Total Claim Amount</th>\n",
              "    </tr>\n",
              "  </thead>\n",
              "  <tbody>\n",
              "    <tr>\n",
              "      <th>count</th>\n",
              "      <td>1071.000000</td>\n",
              "      <td>1071.000000</td>\n",
              "      <td>1071.000000</td>\n",
              "    </tr>\n",
              "    <tr>\n",
              "      <th>mean</th>\n",
              "      <td>39295.701214</td>\n",
              "      <td>193.234360</td>\n",
              "      <td>404.986909</td>\n",
              "    </tr>\n",
              "    <tr>\n",
              "      <th>std</th>\n",
              "      <td>30469.427060</td>\n",
              "      <td>1601.190369</td>\n",
              "      <td>293.027260</td>\n",
              "    </tr>\n",
              "    <tr>\n",
              "      <th>min</th>\n",
              "      <td>0.000000</td>\n",
              "      <td>61.000000</td>\n",
              "      <td>0.382107</td>\n",
              "    </tr>\n",
              "    <tr>\n",
              "      <th>25%</th>\n",
              "      <td>14072.000000</td>\n",
              "      <td>68.000000</td>\n",
              "      <td>202.157702</td>\n",
              "    </tr>\n",
              "    <tr>\n",
              "      <th>50%</th>\n",
              "      <td>36234.000000</td>\n",
              "      <td>83.000000</td>\n",
              "      <td>354.729129</td>\n",
              "    </tr>\n",
              "    <tr>\n",
              "      <th>75%</th>\n",
              "      <td>64631.000000</td>\n",
              "      <td>109.500000</td>\n",
              "      <td>532.800000</td>\n",
              "    </tr>\n",
              "    <tr>\n",
              "      <th>max</th>\n",
              "      <td>99960.000000</td>\n",
              "      <td>35354.000000</td>\n",
              "      <td>2893.239678</td>\n",
              "    </tr>\n",
              "  </tbody>\n",
              "</table>\n",
              "</div>"
            ],
            "text/plain": [
              "             Income  Monthly Premium Auto  Total Claim Amount\n",
              "count   1071.000000           1071.000000         1071.000000\n",
              "mean   39295.701214            193.234360          404.986909\n",
              "std    30469.427060           1601.190369          293.027260\n",
              "min        0.000000             61.000000            0.382107\n",
              "25%    14072.000000             68.000000          202.157702\n",
              "50%    36234.000000             83.000000          354.729129\n",
              "75%    64631.000000            109.500000          532.800000\n",
              "max    99960.000000          35354.000000         2893.239678"
            ]
          },
          "metadata": {
            "tags": []
          },
          "execution_count": 5
        }
      ]
    },
    {
      "cell_type": "markdown",
      "metadata": {
        "id": "Jq_nclIX4m5m"
      },
      "source": [
        "**Finding**: It is missing Customer Lifetime value- suggests something is wrong in this column."
      ]
    },
    {
      "cell_type": "code",
      "metadata": {
        "colab": {
          "base_uri": "https://localhost:8080/",
          "height": 323
        },
        "id": "SNUZ-bDA4VvG",
        "outputId": "02f595a6-94dc-42b7-8ad3-c676b74eadc6"
      },
      "source": [
        "#Assigning and reading the third file (file3.csv)\n",
        "url3 = 'https://raw.githubusercontent.com/ironhack-labs/lab-customer-analysis-round-1/master/files_for_lab/csv_files/file3.csv'\n",
        "data_file3 = pd.read_csv(url3)\n",
        "data_file3.head()"
      ],
      "execution_count": null,
      "outputs": [
        {
          "output_type": "execute_result",
          "data": {
            "text/html": [
              "<div>\n",
              "<style scoped>\n",
              "    .dataframe tbody tr th:only-of-type {\n",
              "        vertical-align: middle;\n",
              "    }\n",
              "\n",
              "    .dataframe tbody tr th {\n",
              "        vertical-align: top;\n",
              "    }\n",
              "\n",
              "    .dataframe thead th {\n",
              "        text-align: right;\n",
              "    }\n",
              "</style>\n",
              "<table border=\"1\" class=\"dataframe\">\n",
              "  <thead>\n",
              "    <tr style=\"text-align: right;\">\n",
              "      <th></th>\n",
              "      <th>Customer</th>\n",
              "      <th>State</th>\n",
              "      <th>Customer Lifetime Value</th>\n",
              "      <th>Education</th>\n",
              "      <th>Gender</th>\n",
              "      <th>Income</th>\n",
              "      <th>Monthly Premium Auto</th>\n",
              "      <th>Number of Open Complaints</th>\n",
              "      <th>Policy Type</th>\n",
              "      <th>Total Claim Amount</th>\n",
              "      <th>Vehicle Class</th>\n",
              "    </tr>\n",
              "  </thead>\n",
              "  <tbody>\n",
              "    <tr>\n",
              "      <th>0</th>\n",
              "      <td>SA25987</td>\n",
              "      <td>Washington</td>\n",
              "      <td>3479.137523</td>\n",
              "      <td>High School or Below</td>\n",
              "      <td>M</td>\n",
              "      <td>0</td>\n",
              "      <td>104</td>\n",
              "      <td>0</td>\n",
              "      <td>Personal Auto</td>\n",
              "      <td>499.200000</td>\n",
              "      <td>Two-Door Car</td>\n",
              "    </tr>\n",
              "    <tr>\n",
              "      <th>1</th>\n",
              "      <td>TB86706</td>\n",
              "      <td>Arizona</td>\n",
              "      <td>2502.637401</td>\n",
              "      <td>Master</td>\n",
              "      <td>M</td>\n",
              "      <td>0</td>\n",
              "      <td>66</td>\n",
              "      <td>0</td>\n",
              "      <td>Personal Auto</td>\n",
              "      <td>3.468912</td>\n",
              "      <td>Two-Door Car</td>\n",
              "    </tr>\n",
              "    <tr>\n",
              "      <th>2</th>\n",
              "      <td>ZL73902</td>\n",
              "      <td>Nevada</td>\n",
              "      <td>3265.156348</td>\n",
              "      <td>Bachelor</td>\n",
              "      <td>F</td>\n",
              "      <td>25820</td>\n",
              "      <td>82</td>\n",
              "      <td>0</td>\n",
              "      <td>Personal Auto</td>\n",
              "      <td>393.600000</td>\n",
              "      <td>Four-Door Car</td>\n",
              "    </tr>\n",
              "    <tr>\n",
              "      <th>3</th>\n",
              "      <td>KX23516</td>\n",
              "      <td>California</td>\n",
              "      <td>4455.843406</td>\n",
              "      <td>High School or Below</td>\n",
              "      <td>F</td>\n",
              "      <td>0</td>\n",
              "      <td>121</td>\n",
              "      <td>0</td>\n",
              "      <td>Personal Auto</td>\n",
              "      <td>699.615192</td>\n",
              "      <td>SUV</td>\n",
              "    </tr>\n",
              "    <tr>\n",
              "      <th>4</th>\n",
              "      <td>FN77294</td>\n",
              "      <td>California</td>\n",
              "      <td>7704.958480</td>\n",
              "      <td>High School or Below</td>\n",
              "      <td>M</td>\n",
              "      <td>30366</td>\n",
              "      <td>101</td>\n",
              "      <td>2</td>\n",
              "      <td>Personal Auto</td>\n",
              "      <td>484.800000</td>\n",
              "      <td>SUV</td>\n",
              "    </tr>\n",
              "  </tbody>\n",
              "</table>\n",
              "</div>"
            ],
            "text/plain": [
              "  Customer       State  ...  Total Claim Amount  Vehicle Class\n",
              "0  SA25987  Washington  ...          499.200000   Two-Door Car\n",
              "1  TB86706     Arizona  ...            3.468912   Two-Door Car\n",
              "2  ZL73902      Nevada  ...          393.600000  Four-Door Car\n",
              "3  KX23516  California  ...          699.615192            SUV\n",
              "4  FN77294  California  ...          484.800000            SUV\n",
              "\n",
              "[5 rows x 11 columns]"
            ]
          },
          "metadata": {
            "tags": []
          },
          "execution_count": 6
        }
      ]
    },
    {
      "cell_type": "markdown",
      "metadata": {
        "id": "6ikqe60C41BM"
      },
      "source": [
        "2. Show the DataFrame's shape."
      ]
    },
    {
      "cell_type": "code",
      "metadata": {
        "colab": {
          "base_uri": "https://localhost:8080/"
        },
        "id": "obVJkrmc4V5S",
        "outputId": "a25ac97c-ecd7-495d-b849-93af22fbe3b1"
      },
      "source": [
        "#data_file1 shape\n",
        "data_file1.shape"
      ],
      "execution_count": null,
      "outputs": [
        {
          "output_type": "execute_result",
          "data": {
            "text/plain": [
              "(4008, 11)"
            ]
          },
          "metadata": {
            "tags": []
          },
          "execution_count": 7
        }
      ]
    },
    {
      "cell_type": "code",
      "metadata": {
        "colab": {
          "base_uri": "https://localhost:8080/"
        },
        "id": "l1X4BHOc4WDH",
        "outputId": "5707ca62-83aa-462f-c41e-fec4697b59db"
      },
      "source": [
        "#data_file2 shape\n",
        "data_file2.shape"
      ],
      "execution_count": null,
      "outputs": [
        {
          "output_type": "execute_result",
          "data": {
            "text/plain": [
              "(996, 11)"
            ]
          },
          "metadata": {
            "tags": []
          },
          "execution_count": 8
        }
      ]
    },
    {
      "cell_type": "code",
      "metadata": {
        "colab": {
          "base_uri": "https://localhost:8080/"
        },
        "id": "GeM_rrx04WM-",
        "outputId": "e7d93761-91aa-43ed-dbd4-418d5bb8f04a"
      },
      "source": [
        "#data_file3 shape\n",
        "data_file3.shape"
      ],
      "execution_count": null,
      "outputs": [
        {
          "output_type": "execute_result",
          "data": {
            "text/plain": [
              "(7070, 11)"
            ]
          },
          "metadata": {
            "tags": []
          },
          "execution_count": 9
        }
      ]
    },
    {
      "cell_type": "markdown",
      "metadata": {
        "id": "ZWFibPgS5D3a"
      },
      "source": [
        "**Finding:** noticed, the number of columns are the same so we are good to proceed in terms of the number of columns, but the columns are not in order so we may need to rearrange them later."
      ]
    },
    {
      "cell_type": "markdown",
      "metadata": {
        "id": "HU4VjvNj5MAY"
      },
      "source": [
        "3. Standardize header names."
      ]
    },
    {
      "cell_type": "markdown",
      "metadata": {
        "id": "MfT_Opry5TC3"
      },
      "source": [
        "Let's look at column headers first and see what is the easiest way to standardize them across three file dataframes."
      ]
    },
    {
      "cell_type": "code",
      "metadata": {
        "id": "5RzAoUyo4WZk"
      },
      "source": [
        "#assigning variables to column names for each dataframes.\n",
        "column_names1 = data_file1.columns\n",
        "column_names2 = data_file2.columns\n",
        "column_names3 = data_file3.columns"
      ],
      "execution_count": null,
      "outputs": []
    },
    {
      "cell_type": "code",
      "metadata": {
        "id": "MEJcSYw54WnB"
      },
      "source": [
        "#standardizing data_file1\n",
        "cols_1 = []\n",
        "#[column_names1.lower() for column_names1 in data_file1.columns]\n",
        "\n",
        "for column_names1 in data_file1.columns:\n",
        "  cols_1.append(column_names1.lower())\n",
        "\n",
        "data_file1.columns= cols_1\n"
      ],
      "execution_count": null,
      "outputs": []
    },
    {
      "cell_type": "code",
      "metadata": {
        "id": "qvz48cLX4WtQ"
      },
      "source": [
        "#standardizing data_file2\n",
        "cols_2 = []\n",
        "#[column_names2.lower() for column_names2 in data_file2.columns]\n",
        "\n",
        "for column_names2 in data_file2.columns:\n",
        "  cols_2.append(column_names2.lower())\n",
        "\n",
        "data_file2.columns= cols_2"
      ],
      "execution_count": null,
      "outputs": []
    },
    {
      "cell_type": "code",
      "metadata": {
        "id": "viTmnt_94W2g"
      },
      "source": [
        "#standardizing data_file3\n",
        "cols_3 = []\n",
        "#[column_names3.lower() for column_names3 in data_file3.columns]\n",
        "\n",
        "for column_names3 in data_file3.columns:\n",
        "  cols_3.append(column_names3.lower())\n",
        "\n",
        "data_file3.columns= cols_3"
      ],
      "execution_count": null,
      "outputs": []
    },
    {
      "cell_type": "markdown",
      "metadata": {
        "id": "-F1SpziV5410"
      },
      "source": [
        "**Finding**: Datafile1 and Datafile2 contains values in 'customer lifetime value' as strings because it contains % sign. Need to fix it."
      ]
    },
    {
      "cell_type": "code",
      "metadata": {
        "colab": {
          "base_uri": "https://localhost:8080/"
        },
        "id": "aOTFf7wY4XBL",
        "outputId": "6f37bd6a-3bbd-4822-8742-bcb655c3029b"
      },
      "source": [
        "#customer lifetime value - first two files have % in the end, but the third file doesnot have it. We need to correct those.\n",
        "data_file1['customer lifetime value'].dtype\n",
        "\n",
        "#defining a function to remove %\n",
        "def remove_perc_sign(x):\n",
        "  if type(x)==str:\n",
        "    return x.replace(\"%\",\" \")\n",
        "    #if x.endswith('%'):\n",
        "      #return x[:-1]\n",
        "    #else:\n",
        "      #return float(x)\n",
        "  else:\n",
        "    return float(x)"
      ],
      "execution_count": null,
      "outputs": [
        {
          "output_type": "execute_result",
          "data": {
            "text/plain": [
              "dtype('O')"
            ]
          },
          "metadata": {
            "tags": []
          },
          "execution_count": 14
        }
      ]
    },
    {
      "cell_type": "code",
      "metadata": {
        "colab": {
          "base_uri": "https://localhost:8080/"
        },
        "id": "7PdHTv_D4XKQ",
        "outputId": "90133ddd-8d20-40ee-944b-e1ed98dde239"
      },
      "source": [
        "print(\"------\")\n",
        "print(\" \")\n",
        "#using the function created in last line to remove % signs, map function will iterate over each row, and function will remove % sign\n",
        "#then using the list command to create a list of these values\n",
        "\n",
        "data_file1['customer lifetime value'] = list(map(remove_perc_sign,data_file1['customer lifetime value']))\n",
        "data_file1['customer lifetime value'].head()\n",
        "print(\" \")\n",
        "print(\"------\")\n",
        "print(\" \")\n",
        "\n",
        "data_file2['customer lifetime value'] = list(map(remove_perc_sign,data_file2['customer lifetime value']))\n",
        "data_file2['customer lifetime value'].head()\n",
        "print(\" \")\n",
        "print(\"------\")\n",
        "print(\" \")\n",
        "\n"
      ],
      "execution_count": null,
      "outputs": [
        {
          "output_type": "stream",
          "text": [
            "------\n",
            " \n"
          ],
          "name": "stdout"
        },
        {
          "output_type": "execute_result",
          "data": {
            "text/plain": [
              "0            NaN\n",
              "1     697953.59 \n",
              "2    1288743.17 \n",
              "3     764586.18 \n",
              "4     536307.65 \n",
              "Name: customer lifetime value, dtype: object"
            ]
          },
          "metadata": {
            "tags": []
          },
          "execution_count": 15
        },
        {
          "output_type": "stream",
          "text": [
            " \n",
            "------\n",
            " \n"
          ],
          "name": "stdout"
        },
        {
          "output_type": "execute_result",
          "data": {
            "text/plain": [
              "0     323912.47 \n",
              "1     462680.11 \n",
              "2     899704.02 \n",
              "3    2580706.30 \n",
              "4     380812.21 \n",
              "Name: customer lifetime value, dtype: object"
            ]
          },
          "metadata": {
            "tags": []
          },
          "execution_count": 15
        },
        {
          "output_type": "stream",
          "text": [
            " \n",
            "------\n",
            " \n"
          ],
          "name": "stdout"
        }
      ]
    },
    {
      "cell_type": "code",
      "metadata": {
        "id": "6GrsqoZa4XU8"
      },
      "source": [
        "#after removing the % we need to convert customer lifetime values to float, defining a function for that\n",
        "def conv_float(x):\n",
        "  if type(x) == str:\n",
        "    return float(x)\n",
        "  else:\n",
        "    return x"
      ],
      "execution_count": null,
      "outputs": []
    },
    {
      "cell_type": "code",
      "metadata": {
        "colab": {
          "base_uri": "https://localhost:8080/"
        },
        "id": "I4z4v77P4Xem",
        "outputId": "e0861619-d3fc-48ec-bba6-e198adac6058"
      },
      "source": [
        "#now, repeating the process as above for removing % sign to convert the strings into floats\n",
        "print(\" \")\n",
        "print(\"------\")\n",
        "print(\" \")\n",
        "data_file1['customer lifetime value'] = list(map(conv_float,data_file1['customer lifetime value']))\n",
        "data_file1['customer lifetime value'].head()\n",
        "print(\" \")\n",
        "print(\"------\")\n",
        "print(\" \")\n",
        "data_file2['customer lifetime value'] = list(map(conv_float,data_file2['customer lifetime value']))\n",
        "data_file2['customer lifetime value'].head()\n",
        "print(\" \")\n",
        "print(\"------\")\n",
        "print(\" \")\n"
      ],
      "execution_count": null,
      "outputs": [
        {
          "output_type": "stream",
          "text": [
            " \n",
            "------\n",
            " \n"
          ],
          "name": "stdout"
        },
        {
          "output_type": "execute_result",
          "data": {
            "text/plain": [
              "0           NaN\n",
              "1     697953.59\n",
              "2    1288743.17\n",
              "3     764586.18\n",
              "4     536307.65\n",
              "Name: customer lifetime value, dtype: float64"
            ]
          },
          "metadata": {
            "tags": []
          },
          "execution_count": 17
        },
        {
          "output_type": "stream",
          "text": [
            " \n",
            "------\n",
            " \n"
          ],
          "name": "stdout"
        },
        {
          "output_type": "execute_result",
          "data": {
            "text/plain": [
              "0     323912.47\n",
              "1     462680.11\n",
              "2     899704.02\n",
              "3    2580706.30\n",
              "4     380812.21\n",
              "Name: customer lifetime value, dtype: float64"
            ]
          },
          "metadata": {
            "tags": []
          },
          "execution_count": 17
        },
        {
          "output_type": "stream",
          "text": [
            " \n",
            "------\n",
            " \n"
          ],
          "name": "stdout"
        }
      ]
    },
    {
      "cell_type": "markdown",
      "metadata": {
        "id": "qQfsBFWz8W4f"
      },
      "source": [
        "4. Rearrange the columns in the dataframe as needed."
      ]
    },
    {
      "cell_type": "code",
      "metadata": {
        "colab": {
          "base_uri": "https://localhost:8080/"
        },
        "id": "CG1BncpF8Xvz",
        "outputId": "f16b5369-0429-4eb3-b4c3-356c15076c26"
      },
      "source": [
        "#list of column headers data_file1,2,3.\n",
        "print(\" \")\n",
        "print(\"------\")\n",
        "print(\" \")\n",
        "\n",
        "data_file1.columns.tolist()\n",
        "\n",
        "#list of column headers data_file2\n",
        "print(\" \")\n",
        "print(\"------\")\n",
        "print(\" \")\n",
        "\n",
        "data_file2.columns.tolist()\n",
        "\n",
        "#list of column headers data_file2\n",
        "print(\" \")\n",
        "print(\"------\")\n",
        "print(\" \")\n",
        "\n",
        "data_file3.columns.tolist()"
      ],
      "execution_count": null,
      "outputs": [
        {
          "output_type": "stream",
          "text": [
            " \n",
            "------\n",
            " \n"
          ],
          "name": "stdout"
        },
        {
          "output_type": "execute_result",
          "data": {
            "text/plain": [
              "['customer',\n",
              " 'st',\n",
              " 'gender',\n",
              " 'education',\n",
              " 'customer lifetime value',\n",
              " 'income',\n",
              " 'monthly premium auto',\n",
              " 'number of open complaints',\n",
              " 'policy type',\n",
              " 'vehicle class',\n",
              " 'total claim amount']"
            ]
          },
          "metadata": {
            "tags": []
          },
          "execution_count": 18
        },
        {
          "output_type": "stream",
          "text": [
            " \n",
            "------\n",
            " \n"
          ],
          "name": "stdout"
        },
        {
          "output_type": "execute_result",
          "data": {
            "text/plain": [
              "['customer',\n",
              " 'st',\n",
              " 'gender',\n",
              " 'education',\n",
              " 'customer lifetime value',\n",
              " 'income',\n",
              " 'monthly premium auto',\n",
              " 'number of open complaints',\n",
              " 'total claim amount',\n",
              " 'policy type',\n",
              " 'vehicle class']"
            ]
          },
          "metadata": {
            "tags": []
          },
          "execution_count": 18
        },
        {
          "output_type": "stream",
          "text": [
            " \n",
            "------\n",
            " \n"
          ],
          "name": "stdout"
        },
        {
          "output_type": "execute_result",
          "data": {
            "text/plain": [
              "['customer',\n",
              " 'state',\n",
              " 'customer lifetime value',\n",
              " 'education',\n",
              " 'gender',\n",
              " 'income',\n",
              " 'monthly premium auto',\n",
              " 'number of open complaints',\n",
              " 'policy type',\n",
              " 'total claim amount',\n",
              " 'vehicle class']"
            ]
          },
          "metadata": {
            "tags": []
          },
          "execution_count": 18
        }
      ]
    },
    {
      "cell_type": "code",
      "metadata": {
        "colab": {
          "base_uri": "https://localhost:8080/"
        },
        "id": "_HoDFeZG_iht",
        "outputId": "6210a110-add2-4a79-e503-fde386626b38"
      },
      "source": [
        "#in data_file2 has column header 'Total Claim Amount' in the wrong column index. It will be easier to move it to the last position.\n",
        "data_file2 = data_file2.reindex(columns=['customer',\n",
        " 'st',\n",
        " 'gender',\n",
        " 'education',\n",
        " 'customer lifetime value',\n",
        " 'income',\n",
        " 'monthly premium auto',\n",
        " 'number of open complaints',\n",
        " 'policy type',\n",
        " 'vehicle class',\n",
        " 'total claim amount'])\n",
        "data_file2.columns.tolist()\n",
        "\n",
        "print(\" \")\n",
        "print(\"------\")\n",
        "print(\" \")\n",
        "\n",
        "\n",
        "#in data_file3 reindexing the headers to the same column headers as in data_file1\n",
        "data_file3 = data_file3.reindex(columns=['customer',\n",
        " 'st',\n",
        " 'gender',\n",
        " 'education',\n",
        " 'customer lifetime value',\n",
        " 'income',\n",
        " 'monthly premium auto',\n",
        " 'number of open complaints',\n",
        " 'policy type',\n",
        " 'vehicle class',\n",
        " 'total claim amount'])\n",
        "data_file3.columns.tolist()\n"
      ],
      "execution_count": null,
      "outputs": [
        {
          "output_type": "execute_result",
          "data": {
            "text/plain": [
              "['customer',\n",
              " 'st',\n",
              " 'gender',\n",
              " 'education',\n",
              " 'customer lifetime value',\n",
              " 'income',\n",
              " 'monthly premium auto',\n",
              " 'number of open complaints',\n",
              " 'policy type',\n",
              " 'vehicle class',\n",
              " 'total claim amount']"
            ]
          },
          "metadata": {
            "tags": []
          },
          "execution_count": 19
        },
        {
          "output_type": "stream",
          "text": [
            " \n",
            "------\n",
            " \n"
          ],
          "name": "stdout"
        },
        {
          "output_type": "execute_result",
          "data": {
            "text/plain": [
              "['customer',\n",
              " 'st',\n",
              " 'gender',\n",
              " 'education',\n",
              " 'customer lifetime value',\n",
              " 'income',\n",
              " 'monthly premium auto',\n",
              " 'number of open complaints',\n",
              " 'policy type',\n",
              " 'vehicle class',\n",
              " 'total claim amount']"
            ]
          },
          "metadata": {
            "tags": []
          },
          "execution_count": 19
        }
      ]
    },
    {
      "cell_type": "markdown",
      "metadata": {
        "id": "B1VC5Mev_5ik"
      },
      "source": [
        "5. Concatenate the three dataframes"
      ]
    },
    {
      "cell_type": "code",
      "metadata": {
        "colab": {
          "base_uri": "https://localhost:8080/",
          "height": 714
        },
        "id": "WrflwL3M_udK",
        "outputId": "dbc83204-01ad-4442-9912-9b89e4bf3969"
      },
      "source": [
        "#concatenating and checking shape, head and sample to see how it looks after:\n",
        "data = pd.concat([data_file1,data_file2,data_file3],axis =0)\n",
        "data.shape\n",
        "print(\" \")\n",
        "print(\"------\")\n",
        "print(\" \")\n",
        "data.head(5)\n",
        "print(\" \")\n",
        "print(\"------\")\n",
        "print(\" \")\n",
        "data.sample(5)"
      ],
      "execution_count": null,
      "outputs": [
        {
          "output_type": "execute_result",
          "data": {
            "text/plain": [
              "(12074, 11)"
            ]
          },
          "metadata": {
            "tags": []
          },
          "execution_count": 20
        },
        {
          "output_type": "stream",
          "text": [
            " \n",
            "------\n",
            " \n"
          ],
          "name": "stdout"
        },
        {
          "output_type": "execute_result",
          "data": {
            "text/html": [
              "<div>\n",
              "<style scoped>\n",
              "    .dataframe tbody tr th:only-of-type {\n",
              "        vertical-align: middle;\n",
              "    }\n",
              "\n",
              "    .dataframe tbody tr th {\n",
              "        vertical-align: top;\n",
              "    }\n",
              "\n",
              "    .dataframe thead th {\n",
              "        text-align: right;\n",
              "    }\n",
              "</style>\n",
              "<table border=\"1\" class=\"dataframe\">\n",
              "  <thead>\n",
              "    <tr style=\"text-align: right;\">\n",
              "      <th></th>\n",
              "      <th>customer</th>\n",
              "      <th>st</th>\n",
              "      <th>gender</th>\n",
              "      <th>education</th>\n",
              "      <th>customer lifetime value</th>\n",
              "      <th>income</th>\n",
              "      <th>monthly premium auto</th>\n",
              "      <th>number of open complaints</th>\n",
              "      <th>policy type</th>\n",
              "      <th>vehicle class</th>\n",
              "      <th>total claim amount</th>\n",
              "    </tr>\n",
              "  </thead>\n",
              "  <tbody>\n",
              "    <tr>\n",
              "      <th>0</th>\n",
              "      <td>RB50392</td>\n",
              "      <td>Washington</td>\n",
              "      <td>NaN</td>\n",
              "      <td>Master</td>\n",
              "      <td>NaN</td>\n",
              "      <td>0.0</td>\n",
              "      <td>1000.0</td>\n",
              "      <td>1/0/00</td>\n",
              "      <td>Personal Auto</td>\n",
              "      <td>Four-Door Car</td>\n",
              "      <td>2.704934</td>\n",
              "    </tr>\n",
              "    <tr>\n",
              "      <th>1</th>\n",
              "      <td>QZ44356</td>\n",
              "      <td>Arizona</td>\n",
              "      <td>F</td>\n",
              "      <td>Bachelor</td>\n",
              "      <td>697953.59</td>\n",
              "      <td>0.0</td>\n",
              "      <td>94.0</td>\n",
              "      <td>1/0/00</td>\n",
              "      <td>Personal Auto</td>\n",
              "      <td>Four-Door Car</td>\n",
              "      <td>1131.464935</td>\n",
              "    </tr>\n",
              "    <tr>\n",
              "      <th>2</th>\n",
              "      <td>AI49188</td>\n",
              "      <td>Nevada</td>\n",
              "      <td>F</td>\n",
              "      <td>Bachelor</td>\n",
              "      <td>1288743.17</td>\n",
              "      <td>48767.0</td>\n",
              "      <td>108.0</td>\n",
              "      <td>1/0/00</td>\n",
              "      <td>Personal Auto</td>\n",
              "      <td>Two-Door Car</td>\n",
              "      <td>566.472247</td>\n",
              "    </tr>\n",
              "    <tr>\n",
              "      <th>3</th>\n",
              "      <td>WW63253</td>\n",
              "      <td>California</td>\n",
              "      <td>M</td>\n",
              "      <td>Bachelor</td>\n",
              "      <td>764586.18</td>\n",
              "      <td>0.0</td>\n",
              "      <td>106.0</td>\n",
              "      <td>1/0/00</td>\n",
              "      <td>Corporate Auto</td>\n",
              "      <td>SUV</td>\n",
              "      <td>529.881344</td>\n",
              "    </tr>\n",
              "    <tr>\n",
              "      <th>4</th>\n",
              "      <td>GA49547</td>\n",
              "      <td>Washington</td>\n",
              "      <td>M</td>\n",
              "      <td>High School or Below</td>\n",
              "      <td>536307.65</td>\n",
              "      <td>36357.0</td>\n",
              "      <td>68.0</td>\n",
              "      <td>1/0/00</td>\n",
              "      <td>Personal Auto</td>\n",
              "      <td>Four-Door Car</td>\n",
              "      <td>17.269323</td>\n",
              "    </tr>\n",
              "  </tbody>\n",
              "</table>\n",
              "</div>"
            ],
            "text/plain": [
              "  customer          st  ...  vehicle class total claim amount\n",
              "0  RB50392  Washington  ...  Four-Door Car           2.704934\n",
              "1  QZ44356     Arizona  ...  Four-Door Car        1131.464935\n",
              "2  AI49188      Nevada  ...   Two-Door Car         566.472247\n",
              "3  WW63253  California  ...            SUV         529.881344\n",
              "4  GA49547  Washington  ...  Four-Door Car          17.269323\n",
              "\n",
              "[5 rows x 11 columns]"
            ]
          },
          "metadata": {
            "tags": []
          },
          "execution_count": 20
        },
        {
          "output_type": "stream",
          "text": [
            " \n",
            "------\n",
            " \n"
          ],
          "name": "stdout"
        },
        {
          "output_type": "execute_result",
          "data": {
            "text/html": [
              "<div>\n",
              "<style scoped>\n",
              "    .dataframe tbody tr th:only-of-type {\n",
              "        vertical-align: middle;\n",
              "    }\n",
              "\n",
              "    .dataframe tbody tr th {\n",
              "        vertical-align: top;\n",
              "    }\n",
              "\n",
              "    .dataframe thead th {\n",
              "        text-align: right;\n",
              "    }\n",
              "</style>\n",
              "<table border=\"1\" class=\"dataframe\">\n",
              "  <thead>\n",
              "    <tr style=\"text-align: right;\">\n",
              "      <th></th>\n",
              "      <th>customer</th>\n",
              "      <th>st</th>\n",
              "      <th>gender</th>\n",
              "      <th>education</th>\n",
              "      <th>customer lifetime value</th>\n",
              "      <th>income</th>\n",
              "      <th>monthly premium auto</th>\n",
              "      <th>number of open complaints</th>\n",
              "      <th>policy type</th>\n",
              "      <th>vehicle class</th>\n",
              "      <th>total claim amount</th>\n",
              "    </tr>\n",
              "  </thead>\n",
              "  <tbody>\n",
              "    <tr>\n",
              "      <th>4029</th>\n",
              "      <td>AK44985</td>\n",
              "      <td>NaN</td>\n",
              "      <td>F</td>\n",
              "      <td>College</td>\n",
              "      <td>3853.473448</td>\n",
              "      <td>0.0</td>\n",
              "      <td>110.0</td>\n",
              "      <td>0</td>\n",
              "      <td>Personal Auto</td>\n",
              "      <td>SUV</td>\n",
              "      <td>792.000000</td>\n",
              "    </tr>\n",
              "    <tr>\n",
              "      <th>1545</th>\n",
              "      <td>GC34791</td>\n",
              "      <td>NaN</td>\n",
              "      <td>M</td>\n",
              "      <td>High School or Below</td>\n",
              "      <td>9259.729948</td>\n",
              "      <td>17109.0</td>\n",
              "      <td>62.0</td>\n",
              "      <td>0</td>\n",
              "      <td>Personal Auto</td>\n",
              "      <td>Two-Door Car</td>\n",
              "      <td>297.600000</td>\n",
              "    </tr>\n",
              "    <tr>\n",
              "      <th>1379</th>\n",
              "      <td>PW31239</td>\n",
              "      <td>NaN</td>\n",
              "      <td>F</td>\n",
              "      <td>College</td>\n",
              "      <td>4282.947971</td>\n",
              "      <td>40864.0</td>\n",
              "      <td>109.0</td>\n",
              "      <td>1</td>\n",
              "      <td>Personal Auto</td>\n",
              "      <td>SUV</td>\n",
              "      <td>166.937747</td>\n",
              "    </tr>\n",
              "    <tr>\n",
              "      <th>3034</th>\n",
              "      <td>NaN</td>\n",
              "      <td>NaN</td>\n",
              "      <td>NaN</td>\n",
              "      <td>NaN</td>\n",
              "      <td>NaN</td>\n",
              "      <td>NaN</td>\n",
              "      <td>NaN</td>\n",
              "      <td>NaN</td>\n",
              "      <td>NaN</td>\n",
              "      <td>NaN</td>\n",
              "      <td>NaN</td>\n",
              "    </tr>\n",
              "    <tr>\n",
              "      <th>6269</th>\n",
              "      <td>XZ62430</td>\n",
              "      <td>NaN</td>\n",
              "      <td>M</td>\n",
              "      <td>Bachelor</td>\n",
              "      <td>6057.072080</td>\n",
              "      <td>27681.0</td>\n",
              "      <td>83.0</td>\n",
              "      <td>0</td>\n",
              "      <td>Personal Auto</td>\n",
              "      <td>Two-Door Car</td>\n",
              "      <td>398.400000</td>\n",
              "    </tr>\n",
              "  </tbody>\n",
              "</table>\n",
              "</div>"
            ],
            "text/plain": [
              "     customer   st gender  ...    policy type  vehicle class  total claim amount\n",
              "4029  AK44985  NaN      F  ...  Personal Auto            SUV          792.000000\n",
              "1545  GC34791  NaN      M  ...  Personal Auto   Two-Door Car          297.600000\n",
              "1379  PW31239  NaN      F  ...  Personal Auto            SUV          166.937747\n",
              "3034      NaN  NaN    NaN  ...            NaN            NaN                 NaN\n",
              "6269  XZ62430  NaN      M  ...  Personal Auto   Two-Door Car          398.400000\n",
              "\n",
              "[5 rows x 11 columns]"
            ]
          },
          "metadata": {
            "tags": []
          },
          "execution_count": 20
        }
      ]
    },
    {
      "cell_type": "markdown",
      "metadata": {
        "id": "2BacCcwYDW3C"
      },
      "source": [
        "**Findings:**\n",
        "1. Noticed customer column is actually storing car plates. I will keep it as it is for now, as it may not matter in this analysis to change it. \n",
        "2. gender has null values\n",
        "3. CLV needs to be corrected.\n"
      ]
    },
    {
      "cell_type": "markdown",
      "metadata": {
        "id": "KSUvyodtDfxh"
      },
      "source": [
        "6&7. Which columns are numerical? Which columns are categorical?\n",
        "\n",
        "**by looking at the data**\n",
        "\n",
        "1. customer                      - categorical\n",
        "2. st                            - categorical\n",
        "3. gender                        - categorical\n",
        "4. education                     - categorical\n",
        "5. customer lifetime value       - numerical\n",
        "6. income                        - numerical\n",
        "7. monthly premium auto          - numerical\n",
        "8. number of open complaints     - numerical/categorical\n",
        "9. policy type                   - categorical\n",
        "10. vehicle class                - categorical\n",
        "11. total claim amount           - numerical\n",
        "\n",
        "\n"
      ]
    },
    {
      "cell_type": "code",
      "metadata": {
        "colab": {
          "base_uri": "https://localhost:8080/",
          "height": 1000
        },
        "id": "qg7fJdVAAJ9O",
        "outputId": "a55faa8c-a694-4996-ba50-18171516d5d6"
      },
      "source": [
        "#check if data types match the above deductions\n",
        "data.dtypes\n",
        "print(\" \")\n",
        "print(\"------\")\n",
        "print(\" \")\n",
        "#check if numeric data types match the above deductions\n",
        "data.select_dtypes(include = np.object)\n",
        "print(\" \")\n",
        "print(\"------\")\n",
        "print(\" \")\n",
        "#check if object data types match the above deductions\n",
        "data.select_dtypes('object')\n",
        "print(\" \")\n",
        "print(\"------\")\n",
        "print(\" \")\n"
      ],
      "execution_count": null,
      "outputs": [
        {
          "output_type": "execute_result",
          "data": {
            "text/plain": [
              "customer                      object\n",
              "st                            object\n",
              "gender                        object\n",
              "education                     object\n",
              "customer lifetime value      float64\n",
              "income                       float64\n",
              "monthly premium auto         float64\n",
              "number of open complaints     object\n",
              "policy type                   object\n",
              "vehicle class                 object\n",
              "total claim amount           float64\n",
              "dtype: object"
            ]
          },
          "metadata": {
            "tags": []
          },
          "execution_count": 21
        },
        {
          "output_type": "stream",
          "text": [
            " \n",
            "------\n",
            " \n"
          ],
          "name": "stdout"
        },
        {
          "output_type": "execute_result",
          "data": {
            "text/html": [
              "<div>\n",
              "<style scoped>\n",
              "    .dataframe tbody tr th:only-of-type {\n",
              "        vertical-align: middle;\n",
              "    }\n",
              "\n",
              "    .dataframe tbody tr th {\n",
              "        vertical-align: top;\n",
              "    }\n",
              "\n",
              "    .dataframe thead th {\n",
              "        text-align: right;\n",
              "    }\n",
              "</style>\n",
              "<table border=\"1\" class=\"dataframe\">\n",
              "  <thead>\n",
              "    <tr style=\"text-align: right;\">\n",
              "      <th></th>\n",
              "      <th>customer</th>\n",
              "      <th>st</th>\n",
              "      <th>gender</th>\n",
              "      <th>education</th>\n",
              "      <th>number of open complaints</th>\n",
              "      <th>policy type</th>\n",
              "      <th>vehicle class</th>\n",
              "    </tr>\n",
              "  </thead>\n",
              "  <tbody>\n",
              "    <tr>\n",
              "      <th>0</th>\n",
              "      <td>RB50392</td>\n",
              "      <td>Washington</td>\n",
              "      <td>NaN</td>\n",
              "      <td>Master</td>\n",
              "      <td>1/0/00</td>\n",
              "      <td>Personal Auto</td>\n",
              "      <td>Four-Door Car</td>\n",
              "    </tr>\n",
              "    <tr>\n",
              "      <th>1</th>\n",
              "      <td>QZ44356</td>\n",
              "      <td>Arizona</td>\n",
              "      <td>F</td>\n",
              "      <td>Bachelor</td>\n",
              "      <td>1/0/00</td>\n",
              "      <td>Personal Auto</td>\n",
              "      <td>Four-Door Car</td>\n",
              "    </tr>\n",
              "    <tr>\n",
              "      <th>2</th>\n",
              "      <td>AI49188</td>\n",
              "      <td>Nevada</td>\n",
              "      <td>F</td>\n",
              "      <td>Bachelor</td>\n",
              "      <td>1/0/00</td>\n",
              "      <td>Personal Auto</td>\n",
              "      <td>Two-Door Car</td>\n",
              "    </tr>\n",
              "    <tr>\n",
              "      <th>3</th>\n",
              "      <td>WW63253</td>\n",
              "      <td>California</td>\n",
              "      <td>M</td>\n",
              "      <td>Bachelor</td>\n",
              "      <td>1/0/00</td>\n",
              "      <td>Corporate Auto</td>\n",
              "      <td>SUV</td>\n",
              "    </tr>\n",
              "    <tr>\n",
              "      <th>4</th>\n",
              "      <td>GA49547</td>\n",
              "      <td>Washington</td>\n",
              "      <td>M</td>\n",
              "      <td>High School or Below</td>\n",
              "      <td>1/0/00</td>\n",
              "      <td>Personal Auto</td>\n",
              "      <td>Four-Door Car</td>\n",
              "    </tr>\n",
              "    <tr>\n",
              "      <th>...</th>\n",
              "      <td>...</td>\n",
              "      <td>...</td>\n",
              "      <td>...</td>\n",
              "      <td>...</td>\n",
              "      <td>...</td>\n",
              "      <td>...</td>\n",
              "      <td>...</td>\n",
              "    </tr>\n",
              "    <tr>\n",
              "      <th>7065</th>\n",
              "      <td>LA72316</td>\n",
              "      <td>NaN</td>\n",
              "      <td>M</td>\n",
              "      <td>Bachelor</td>\n",
              "      <td>0</td>\n",
              "      <td>Personal Auto</td>\n",
              "      <td>Four-Door Car</td>\n",
              "    </tr>\n",
              "    <tr>\n",
              "      <th>7066</th>\n",
              "      <td>PK87824</td>\n",
              "      <td>NaN</td>\n",
              "      <td>F</td>\n",
              "      <td>College</td>\n",
              "      <td>0</td>\n",
              "      <td>Corporate Auto</td>\n",
              "      <td>Four-Door Car</td>\n",
              "    </tr>\n",
              "    <tr>\n",
              "      <th>7067</th>\n",
              "      <td>TD14365</td>\n",
              "      <td>NaN</td>\n",
              "      <td>M</td>\n",
              "      <td>Bachelor</td>\n",
              "      <td>3</td>\n",
              "      <td>Corporate Auto</td>\n",
              "      <td>Four-Door Car</td>\n",
              "    </tr>\n",
              "    <tr>\n",
              "      <th>7068</th>\n",
              "      <td>UP19263</td>\n",
              "      <td>NaN</td>\n",
              "      <td>M</td>\n",
              "      <td>College</td>\n",
              "      <td>0</td>\n",
              "      <td>Personal Auto</td>\n",
              "      <td>Four-Door Car</td>\n",
              "    </tr>\n",
              "    <tr>\n",
              "      <th>7069</th>\n",
              "      <td>Y167826</td>\n",
              "      <td>NaN</td>\n",
              "      <td>M</td>\n",
              "      <td>College</td>\n",
              "      <td>0</td>\n",
              "      <td>Corporate Auto</td>\n",
              "      <td>Two-Door Car</td>\n",
              "    </tr>\n",
              "  </tbody>\n",
              "</table>\n",
              "<p>12074 rows × 7 columns</p>\n",
              "</div>"
            ],
            "text/plain": [
              "     customer          st  ...     policy type  vehicle class\n",
              "0     RB50392  Washington  ...   Personal Auto  Four-Door Car\n",
              "1     QZ44356     Arizona  ...   Personal Auto  Four-Door Car\n",
              "2     AI49188      Nevada  ...   Personal Auto   Two-Door Car\n",
              "3     WW63253  California  ...  Corporate Auto            SUV\n",
              "4     GA49547  Washington  ...   Personal Auto  Four-Door Car\n",
              "...       ...         ...  ...             ...            ...\n",
              "7065  LA72316         NaN  ...   Personal Auto  Four-Door Car\n",
              "7066  PK87824         NaN  ...  Corporate Auto  Four-Door Car\n",
              "7067  TD14365         NaN  ...  Corporate Auto  Four-Door Car\n",
              "7068  UP19263         NaN  ...   Personal Auto  Four-Door Car\n",
              "7069  Y167826         NaN  ...  Corporate Auto   Two-Door Car\n",
              "\n",
              "[12074 rows x 7 columns]"
            ]
          },
          "metadata": {
            "tags": []
          },
          "execution_count": 21
        },
        {
          "output_type": "stream",
          "text": [
            " \n",
            "------\n",
            " \n"
          ],
          "name": "stdout"
        },
        {
          "output_type": "execute_result",
          "data": {
            "text/html": [
              "<div>\n",
              "<style scoped>\n",
              "    .dataframe tbody tr th:only-of-type {\n",
              "        vertical-align: middle;\n",
              "    }\n",
              "\n",
              "    .dataframe tbody tr th {\n",
              "        vertical-align: top;\n",
              "    }\n",
              "\n",
              "    .dataframe thead th {\n",
              "        text-align: right;\n",
              "    }\n",
              "</style>\n",
              "<table border=\"1\" class=\"dataframe\">\n",
              "  <thead>\n",
              "    <tr style=\"text-align: right;\">\n",
              "      <th></th>\n",
              "      <th>customer</th>\n",
              "      <th>st</th>\n",
              "      <th>gender</th>\n",
              "      <th>education</th>\n",
              "      <th>number of open complaints</th>\n",
              "      <th>policy type</th>\n",
              "      <th>vehicle class</th>\n",
              "    </tr>\n",
              "  </thead>\n",
              "  <tbody>\n",
              "    <tr>\n",
              "      <th>0</th>\n",
              "      <td>RB50392</td>\n",
              "      <td>Washington</td>\n",
              "      <td>NaN</td>\n",
              "      <td>Master</td>\n",
              "      <td>1/0/00</td>\n",
              "      <td>Personal Auto</td>\n",
              "      <td>Four-Door Car</td>\n",
              "    </tr>\n",
              "    <tr>\n",
              "      <th>1</th>\n",
              "      <td>QZ44356</td>\n",
              "      <td>Arizona</td>\n",
              "      <td>F</td>\n",
              "      <td>Bachelor</td>\n",
              "      <td>1/0/00</td>\n",
              "      <td>Personal Auto</td>\n",
              "      <td>Four-Door Car</td>\n",
              "    </tr>\n",
              "    <tr>\n",
              "      <th>2</th>\n",
              "      <td>AI49188</td>\n",
              "      <td>Nevada</td>\n",
              "      <td>F</td>\n",
              "      <td>Bachelor</td>\n",
              "      <td>1/0/00</td>\n",
              "      <td>Personal Auto</td>\n",
              "      <td>Two-Door Car</td>\n",
              "    </tr>\n",
              "    <tr>\n",
              "      <th>3</th>\n",
              "      <td>WW63253</td>\n",
              "      <td>California</td>\n",
              "      <td>M</td>\n",
              "      <td>Bachelor</td>\n",
              "      <td>1/0/00</td>\n",
              "      <td>Corporate Auto</td>\n",
              "      <td>SUV</td>\n",
              "    </tr>\n",
              "    <tr>\n",
              "      <th>4</th>\n",
              "      <td>GA49547</td>\n",
              "      <td>Washington</td>\n",
              "      <td>M</td>\n",
              "      <td>High School or Below</td>\n",
              "      <td>1/0/00</td>\n",
              "      <td>Personal Auto</td>\n",
              "      <td>Four-Door Car</td>\n",
              "    </tr>\n",
              "    <tr>\n",
              "      <th>...</th>\n",
              "      <td>...</td>\n",
              "      <td>...</td>\n",
              "      <td>...</td>\n",
              "      <td>...</td>\n",
              "      <td>...</td>\n",
              "      <td>...</td>\n",
              "      <td>...</td>\n",
              "    </tr>\n",
              "    <tr>\n",
              "      <th>7065</th>\n",
              "      <td>LA72316</td>\n",
              "      <td>NaN</td>\n",
              "      <td>M</td>\n",
              "      <td>Bachelor</td>\n",
              "      <td>0</td>\n",
              "      <td>Personal Auto</td>\n",
              "      <td>Four-Door Car</td>\n",
              "    </tr>\n",
              "    <tr>\n",
              "      <th>7066</th>\n",
              "      <td>PK87824</td>\n",
              "      <td>NaN</td>\n",
              "      <td>F</td>\n",
              "      <td>College</td>\n",
              "      <td>0</td>\n",
              "      <td>Corporate Auto</td>\n",
              "      <td>Four-Door Car</td>\n",
              "    </tr>\n",
              "    <tr>\n",
              "      <th>7067</th>\n",
              "      <td>TD14365</td>\n",
              "      <td>NaN</td>\n",
              "      <td>M</td>\n",
              "      <td>Bachelor</td>\n",
              "      <td>3</td>\n",
              "      <td>Corporate Auto</td>\n",
              "      <td>Four-Door Car</td>\n",
              "    </tr>\n",
              "    <tr>\n",
              "      <th>7068</th>\n",
              "      <td>UP19263</td>\n",
              "      <td>NaN</td>\n",
              "      <td>M</td>\n",
              "      <td>College</td>\n",
              "      <td>0</td>\n",
              "      <td>Personal Auto</td>\n",
              "      <td>Four-Door Car</td>\n",
              "    </tr>\n",
              "    <tr>\n",
              "      <th>7069</th>\n",
              "      <td>Y167826</td>\n",
              "      <td>NaN</td>\n",
              "      <td>M</td>\n",
              "      <td>College</td>\n",
              "      <td>0</td>\n",
              "      <td>Corporate Auto</td>\n",
              "      <td>Two-Door Car</td>\n",
              "    </tr>\n",
              "  </tbody>\n",
              "</table>\n",
              "<p>12074 rows × 7 columns</p>\n",
              "</div>"
            ],
            "text/plain": [
              "     customer          st  ...     policy type  vehicle class\n",
              "0     RB50392  Washington  ...   Personal Auto  Four-Door Car\n",
              "1     QZ44356     Arizona  ...   Personal Auto  Four-Door Car\n",
              "2     AI49188      Nevada  ...   Personal Auto   Two-Door Car\n",
              "3     WW63253  California  ...  Corporate Auto            SUV\n",
              "4     GA49547  Washington  ...   Personal Auto  Four-Door Car\n",
              "...       ...         ...  ...             ...            ...\n",
              "7065  LA72316         NaN  ...   Personal Auto  Four-Door Car\n",
              "7066  PK87824         NaN  ...  Corporate Auto  Four-Door Car\n",
              "7067  TD14365         NaN  ...  Corporate Auto  Four-Door Car\n",
              "7068  UP19263         NaN  ...   Personal Auto  Four-Door Car\n",
              "7069  Y167826         NaN  ...  Corporate Auto   Two-Door Car\n",
              "\n",
              "[12074 rows x 7 columns]"
            ]
          },
          "metadata": {
            "tags": []
          },
          "execution_count": 21
        },
        {
          "output_type": "stream",
          "text": [
            " \n",
            "------\n",
            " \n"
          ],
          "name": "stdout"
        }
      ]
    },
    {
      "cell_type": "markdown",
      "metadata": {
        "id": "nI_SxJp4EtoR"
      },
      "source": [
        "8. Understand the meaning of all columns\n",
        "\n",
        "**by looking at data above- deductions**\n",
        "1. customer - this column identifies individual customer (through car plate numbers in this dataset). Datatype: String\n",
        "2. st - this column idetifies where the customer has the policy registered. Data type: string                        \n",
        "3. gender - this column identifies the gender of the customer. datatype: string \n",
        "4. education- this column probably stores the highest level of education of the customer. \n",
        "5. customer lifetime value - this column is the total amount of money customer is expected to spend in this company. \n",
        "6. income - this column stores the real/reported/predicted income level of the customer.                      \n",
        "7. monthly premium auto - this is the amount of monthly premiums on their policy.          - \n",
        "8. number of open complaints - this column stores the number of open complaints stored from the customer. It is stored in #1/#2/# format so probably it is storing it in categorical way like departments or identifiers.\n",
        "9. policy type - this column stores the type of policy chosen by the customer, so it can be the policy options offered by this company.\n",
        "10. vehicle class - this column is storing the type of vehicle (probably the policy types are dependant on this)\n",
        "11. total claim amount- this column is storing the total amount claimed by the customer. this needs to be checked and probably paid out/rejected dependant on the claim.\n"
      ]
    },
    {
      "cell_type": "markdown",
      "metadata": {
        "id": "mGVk0_EUEzW0"
      },
      "source": [
        "9. Perform the data cleaning operations mentioned so far in class"
      ]
    },
    {
      "cell_type": "code",
      "metadata": {
        "colab": {
          "base_uri": "https://localhost:8080/",
          "height": 306
        },
        "id": "93P5532JAKR7",
        "outputId": "5f721a37-4840-4eef-95e3-e31d29de342d"
      },
      "source": [
        "#drop the columns education and number of open complaints.\n",
        "data = data.drop(['education'],axis=1)\n",
        "data = data.drop(['number of open complaints'],axis = 1)\n",
        "data.head(5)\n",
        "\n",
        "#ran data = above commands, which removed 'education' and 'number of opens' and now it cannot find it, so it gives the KeyError"
      ],
      "execution_count": null,
      "outputs": [
        {
          "output_type": "execute_result",
          "data": {
            "text/html": [
              "<div>\n",
              "<style scoped>\n",
              "    .dataframe tbody tr th:only-of-type {\n",
              "        vertical-align: middle;\n",
              "    }\n",
              "\n",
              "    .dataframe tbody tr th {\n",
              "        vertical-align: top;\n",
              "    }\n",
              "\n",
              "    .dataframe thead th {\n",
              "        text-align: right;\n",
              "    }\n",
              "</style>\n",
              "<table border=\"1\" class=\"dataframe\">\n",
              "  <thead>\n",
              "    <tr style=\"text-align: right;\">\n",
              "      <th></th>\n",
              "      <th>customer</th>\n",
              "      <th>st</th>\n",
              "      <th>gender</th>\n",
              "      <th>customer lifetime value</th>\n",
              "      <th>income</th>\n",
              "      <th>monthly premium auto</th>\n",
              "      <th>policy type</th>\n",
              "      <th>vehicle class</th>\n",
              "      <th>total claim amount</th>\n",
              "    </tr>\n",
              "  </thead>\n",
              "  <tbody>\n",
              "    <tr>\n",
              "      <th>0</th>\n",
              "      <td>RB50392</td>\n",
              "      <td>Washington</td>\n",
              "      <td>NaN</td>\n",
              "      <td>NaN</td>\n",
              "      <td>0.0</td>\n",
              "      <td>1000.0</td>\n",
              "      <td>Personal Auto</td>\n",
              "      <td>Four-Door Car</td>\n",
              "      <td>2.704934</td>\n",
              "    </tr>\n",
              "    <tr>\n",
              "      <th>1</th>\n",
              "      <td>QZ44356</td>\n",
              "      <td>Arizona</td>\n",
              "      <td>F</td>\n",
              "      <td>697953.59</td>\n",
              "      <td>0.0</td>\n",
              "      <td>94.0</td>\n",
              "      <td>Personal Auto</td>\n",
              "      <td>Four-Door Car</td>\n",
              "      <td>1131.464935</td>\n",
              "    </tr>\n",
              "    <tr>\n",
              "      <th>2</th>\n",
              "      <td>AI49188</td>\n",
              "      <td>Nevada</td>\n",
              "      <td>F</td>\n",
              "      <td>1288743.17</td>\n",
              "      <td>48767.0</td>\n",
              "      <td>108.0</td>\n",
              "      <td>Personal Auto</td>\n",
              "      <td>Two-Door Car</td>\n",
              "      <td>566.472247</td>\n",
              "    </tr>\n",
              "    <tr>\n",
              "      <th>3</th>\n",
              "      <td>WW63253</td>\n",
              "      <td>California</td>\n",
              "      <td>M</td>\n",
              "      <td>764586.18</td>\n",
              "      <td>0.0</td>\n",
              "      <td>106.0</td>\n",
              "      <td>Corporate Auto</td>\n",
              "      <td>SUV</td>\n",
              "      <td>529.881344</td>\n",
              "    </tr>\n",
              "    <tr>\n",
              "      <th>4</th>\n",
              "      <td>GA49547</td>\n",
              "      <td>Washington</td>\n",
              "      <td>M</td>\n",
              "      <td>536307.65</td>\n",
              "      <td>36357.0</td>\n",
              "      <td>68.0</td>\n",
              "      <td>Personal Auto</td>\n",
              "      <td>Four-Door Car</td>\n",
              "      <td>17.269323</td>\n",
              "    </tr>\n",
              "  </tbody>\n",
              "</table>\n",
              "</div>"
            ],
            "text/plain": [
              "  customer          st  ...  vehicle class  total claim amount\n",
              "0  RB50392  Washington  ...  Four-Door Car            2.704934\n",
              "1  QZ44356     Arizona  ...  Four-Door Car         1131.464935\n",
              "2  AI49188      Nevada  ...   Two-Door Car          566.472247\n",
              "3  WW63253  California  ...            SUV          529.881344\n",
              "4  GA49547  Washington  ...  Four-Door Car           17.269323\n",
              "\n",
              "[5 rows x 9 columns]"
            ]
          },
          "metadata": {
            "tags": []
          },
          "execution_count": 22
        }
      ]
    },
    {
      "cell_type": "code",
      "metadata": {
        "colab": {
          "base_uri": "https://localhost:8080/",
          "height": 1000
        },
        "id": "deTHVq5SFHpI",
        "outputId": "40dba1f2-0423-4341-eda8-2522a8861e05"
      },
      "source": [
        "#Correct the values in the column customer lifetime value. They are given as a percent, so multiply them by 100 and change dtype to numerical type.\n",
        "\n",
        "mult_100 = lambda x: x*100\n",
        "\n",
        "data['customer lifetime value'] = list(map(mult_100, data['customer lifetime value']))\n",
        "\n",
        "#data['customer lifetime value'].head(10)\n",
        "data.head(10)\n",
        "print(\"Checking dtype for CLV      \")\n",
        "print(\"------\")\n",
        "print(\"      \")\n",
        "#already converted dtypes to float above for datafile1 and datafile2\n",
        "#checking it again\n",
        "data['customer lifetime value'].dtypes\n",
        "print(\"Checking shape     \")\n",
        "print(\"------\")\n",
        "print(\"      \")\n",
        "#check for duplicate rows in the data and remove if any:\n",
        "\n",
        "#make a duplicate copy of the dataframe\n",
        "data_c = data.copy()\n",
        "data_c.shape\n",
        "\n",
        "#removing duplicate rows\n",
        "print(\"Checking first ten rows of copy of dataframe     \")\n",
        "print(\"------\")\n",
        "print(\"      \")\n",
        "data_c = data_c.drop_duplicates(subset=['customer','gender'],keep='last')\n",
        "data_c.head(10)\n",
        "\n"
      ],
      "execution_count": null,
      "outputs": [
        {
          "output_type": "execute_result",
          "data": {
            "text/html": [
              "<div>\n",
              "<style scoped>\n",
              "    .dataframe tbody tr th:only-of-type {\n",
              "        vertical-align: middle;\n",
              "    }\n",
              "\n",
              "    .dataframe tbody tr th {\n",
              "        vertical-align: top;\n",
              "    }\n",
              "\n",
              "    .dataframe thead th {\n",
              "        text-align: right;\n",
              "    }\n",
              "</style>\n",
              "<table border=\"1\" class=\"dataframe\">\n",
              "  <thead>\n",
              "    <tr style=\"text-align: right;\">\n",
              "      <th></th>\n",
              "      <th>customer</th>\n",
              "      <th>st</th>\n",
              "      <th>gender</th>\n",
              "      <th>customer lifetime value</th>\n",
              "      <th>income</th>\n",
              "      <th>monthly premium auto</th>\n",
              "      <th>policy type</th>\n",
              "      <th>vehicle class</th>\n",
              "      <th>total claim amount</th>\n",
              "    </tr>\n",
              "  </thead>\n",
              "  <tbody>\n",
              "    <tr>\n",
              "      <th>0</th>\n",
              "      <td>RB50392</td>\n",
              "      <td>Washington</td>\n",
              "      <td>NaN</td>\n",
              "      <td>NaN</td>\n",
              "      <td>0.0</td>\n",
              "      <td>1000.0</td>\n",
              "      <td>Personal Auto</td>\n",
              "      <td>Four-Door Car</td>\n",
              "      <td>2.704934</td>\n",
              "    </tr>\n",
              "    <tr>\n",
              "      <th>1</th>\n",
              "      <td>QZ44356</td>\n",
              "      <td>Arizona</td>\n",
              "      <td>F</td>\n",
              "      <td>69795359.0</td>\n",
              "      <td>0.0</td>\n",
              "      <td>94.0</td>\n",
              "      <td>Personal Auto</td>\n",
              "      <td>Four-Door Car</td>\n",
              "      <td>1131.464935</td>\n",
              "    </tr>\n",
              "    <tr>\n",
              "      <th>2</th>\n",
              "      <td>AI49188</td>\n",
              "      <td>Nevada</td>\n",
              "      <td>F</td>\n",
              "      <td>128874317.0</td>\n",
              "      <td>48767.0</td>\n",
              "      <td>108.0</td>\n",
              "      <td>Personal Auto</td>\n",
              "      <td>Two-Door Car</td>\n",
              "      <td>566.472247</td>\n",
              "    </tr>\n",
              "    <tr>\n",
              "      <th>3</th>\n",
              "      <td>WW63253</td>\n",
              "      <td>California</td>\n",
              "      <td>M</td>\n",
              "      <td>76458618.0</td>\n",
              "      <td>0.0</td>\n",
              "      <td>106.0</td>\n",
              "      <td>Corporate Auto</td>\n",
              "      <td>SUV</td>\n",
              "      <td>529.881344</td>\n",
              "    </tr>\n",
              "    <tr>\n",
              "      <th>4</th>\n",
              "      <td>GA49547</td>\n",
              "      <td>Washington</td>\n",
              "      <td>M</td>\n",
              "      <td>53630765.0</td>\n",
              "      <td>36357.0</td>\n",
              "      <td>68.0</td>\n",
              "      <td>Personal Auto</td>\n",
              "      <td>Four-Door Car</td>\n",
              "      <td>17.269323</td>\n",
              "    </tr>\n",
              "    <tr>\n",
              "      <th>5</th>\n",
              "      <td>OC83172</td>\n",
              "      <td>Oregon</td>\n",
              "      <td>F</td>\n",
              "      <td>82562978.0</td>\n",
              "      <td>62902.0</td>\n",
              "      <td>69.0</td>\n",
              "      <td>Personal Auto</td>\n",
              "      <td>Two-Door Car</td>\n",
              "      <td>159.383042</td>\n",
              "    </tr>\n",
              "    <tr>\n",
              "      <th>6</th>\n",
              "      <td>XZ87318</td>\n",
              "      <td>Oregon</td>\n",
              "      <td>F</td>\n",
              "      <td>53808986.0</td>\n",
              "      <td>55350.0</td>\n",
              "      <td>67.0</td>\n",
              "      <td>Corporate Auto</td>\n",
              "      <td>Four-Door Car</td>\n",
              "      <td>321.600000</td>\n",
              "    </tr>\n",
              "    <tr>\n",
              "      <th>7</th>\n",
              "      <td>CF85061</td>\n",
              "      <td>Arizona</td>\n",
              "      <td>M</td>\n",
              "      <td>72161003.0</td>\n",
              "      <td>0.0</td>\n",
              "      <td>101.0</td>\n",
              "      <td>Corporate Auto</td>\n",
              "      <td>Four-Door Car</td>\n",
              "      <td>363.029680</td>\n",
              "    </tr>\n",
              "    <tr>\n",
              "      <th>8</th>\n",
              "      <td>DY87989</td>\n",
              "      <td>Oregon</td>\n",
              "      <td>M</td>\n",
              "      <td>241275040.0</td>\n",
              "      <td>14072.0</td>\n",
              "      <td>71.0</td>\n",
              "      <td>Corporate Auto</td>\n",
              "      <td>Four-Door Car</td>\n",
              "      <td>511.200000</td>\n",
              "    </tr>\n",
              "    <tr>\n",
              "      <th>9</th>\n",
              "      <td>BQ94931</td>\n",
              "      <td>Oregon</td>\n",
              "      <td>F</td>\n",
              "      <td>73881781.0</td>\n",
              "      <td>28812.0</td>\n",
              "      <td>93.0</td>\n",
              "      <td>Special Auto</td>\n",
              "      <td>Four-Door Car</td>\n",
              "      <td>425.527834</td>\n",
              "    </tr>\n",
              "  </tbody>\n",
              "</table>\n",
              "</div>"
            ],
            "text/plain": [
              "  customer          st  ...  vehicle class  total claim amount\n",
              "0  RB50392  Washington  ...  Four-Door Car            2.704934\n",
              "1  QZ44356     Arizona  ...  Four-Door Car         1131.464935\n",
              "2  AI49188      Nevada  ...   Two-Door Car          566.472247\n",
              "3  WW63253  California  ...            SUV          529.881344\n",
              "4  GA49547  Washington  ...  Four-Door Car           17.269323\n",
              "5  OC83172      Oregon  ...   Two-Door Car          159.383042\n",
              "6  XZ87318      Oregon  ...  Four-Door Car          321.600000\n",
              "7  CF85061     Arizona  ...  Four-Door Car          363.029680\n",
              "8  DY87989      Oregon  ...  Four-Door Car          511.200000\n",
              "9  BQ94931      Oregon  ...  Four-Door Car          425.527834\n",
              "\n",
              "[10 rows x 9 columns]"
            ]
          },
          "metadata": {
            "tags": []
          },
          "execution_count": 23
        },
        {
          "output_type": "stream",
          "text": [
            "Checking dtype for CLV      \n",
            "------\n",
            "      \n"
          ],
          "name": "stdout"
        },
        {
          "output_type": "execute_result",
          "data": {
            "text/plain": [
              "dtype('float64')"
            ]
          },
          "metadata": {
            "tags": []
          },
          "execution_count": 23
        },
        {
          "output_type": "stream",
          "text": [
            "Checking shape     \n",
            "------\n",
            "      \n"
          ],
          "name": "stdout"
        },
        {
          "output_type": "execute_result",
          "data": {
            "text/plain": [
              "(12074, 9)"
            ]
          },
          "metadata": {
            "tags": []
          },
          "execution_count": 23
        },
        {
          "output_type": "stream",
          "text": [
            "Checking first ten rows of copy of dataframe     \n",
            "------\n",
            "      \n"
          ],
          "name": "stdout"
        },
        {
          "output_type": "execute_result",
          "data": {
            "text/html": [
              "<div>\n",
              "<style scoped>\n",
              "    .dataframe tbody tr th:only-of-type {\n",
              "        vertical-align: middle;\n",
              "    }\n",
              "\n",
              "    .dataframe tbody tr th {\n",
              "        vertical-align: top;\n",
              "    }\n",
              "\n",
              "    .dataframe thead th {\n",
              "        text-align: right;\n",
              "    }\n",
              "</style>\n",
              "<table border=\"1\" class=\"dataframe\">\n",
              "  <thead>\n",
              "    <tr style=\"text-align: right;\">\n",
              "      <th></th>\n",
              "      <th>customer</th>\n",
              "      <th>st</th>\n",
              "      <th>gender</th>\n",
              "      <th>customer lifetime value</th>\n",
              "      <th>income</th>\n",
              "      <th>monthly premium auto</th>\n",
              "      <th>policy type</th>\n",
              "      <th>vehicle class</th>\n",
              "      <th>total claim amount</th>\n",
              "    </tr>\n",
              "  </thead>\n",
              "  <tbody>\n",
              "    <tr>\n",
              "      <th>0</th>\n",
              "      <td>RB50392</td>\n",
              "      <td>Washington</td>\n",
              "      <td>NaN</td>\n",
              "      <td>NaN</td>\n",
              "      <td>0.0</td>\n",
              "      <td>1000.0</td>\n",
              "      <td>Personal Auto</td>\n",
              "      <td>Four-Door Car</td>\n",
              "      <td>2.704934</td>\n",
              "    </tr>\n",
              "    <tr>\n",
              "      <th>1</th>\n",
              "      <td>QZ44356</td>\n",
              "      <td>Arizona</td>\n",
              "      <td>F</td>\n",
              "      <td>69795359.0</td>\n",
              "      <td>0.0</td>\n",
              "      <td>94.0</td>\n",
              "      <td>Personal Auto</td>\n",
              "      <td>Four-Door Car</td>\n",
              "      <td>1131.464935</td>\n",
              "    </tr>\n",
              "    <tr>\n",
              "      <th>2</th>\n",
              "      <td>AI49188</td>\n",
              "      <td>Nevada</td>\n",
              "      <td>F</td>\n",
              "      <td>128874317.0</td>\n",
              "      <td>48767.0</td>\n",
              "      <td>108.0</td>\n",
              "      <td>Personal Auto</td>\n",
              "      <td>Two-Door Car</td>\n",
              "      <td>566.472247</td>\n",
              "    </tr>\n",
              "    <tr>\n",
              "      <th>3</th>\n",
              "      <td>WW63253</td>\n",
              "      <td>California</td>\n",
              "      <td>M</td>\n",
              "      <td>76458618.0</td>\n",
              "      <td>0.0</td>\n",
              "      <td>106.0</td>\n",
              "      <td>Corporate Auto</td>\n",
              "      <td>SUV</td>\n",
              "      <td>529.881344</td>\n",
              "    </tr>\n",
              "    <tr>\n",
              "      <th>5</th>\n",
              "      <td>OC83172</td>\n",
              "      <td>Oregon</td>\n",
              "      <td>F</td>\n",
              "      <td>82562978.0</td>\n",
              "      <td>62902.0</td>\n",
              "      <td>69.0</td>\n",
              "      <td>Personal Auto</td>\n",
              "      <td>Two-Door Car</td>\n",
              "      <td>159.383042</td>\n",
              "    </tr>\n",
              "    <tr>\n",
              "      <th>6</th>\n",
              "      <td>XZ87318</td>\n",
              "      <td>Oregon</td>\n",
              "      <td>F</td>\n",
              "      <td>53808986.0</td>\n",
              "      <td>55350.0</td>\n",
              "      <td>67.0</td>\n",
              "      <td>Corporate Auto</td>\n",
              "      <td>Four-Door Car</td>\n",
              "      <td>321.600000</td>\n",
              "    </tr>\n",
              "    <tr>\n",
              "      <th>7</th>\n",
              "      <td>CF85061</td>\n",
              "      <td>Arizona</td>\n",
              "      <td>M</td>\n",
              "      <td>72161003.0</td>\n",
              "      <td>0.0</td>\n",
              "      <td>101.0</td>\n",
              "      <td>Corporate Auto</td>\n",
              "      <td>Four-Door Car</td>\n",
              "      <td>363.029680</td>\n",
              "    </tr>\n",
              "    <tr>\n",
              "      <th>8</th>\n",
              "      <td>DY87989</td>\n",
              "      <td>Oregon</td>\n",
              "      <td>M</td>\n",
              "      <td>241275040.0</td>\n",
              "      <td>14072.0</td>\n",
              "      <td>71.0</td>\n",
              "      <td>Corporate Auto</td>\n",
              "      <td>Four-Door Car</td>\n",
              "      <td>511.200000</td>\n",
              "    </tr>\n",
              "    <tr>\n",
              "      <th>9</th>\n",
              "      <td>BQ94931</td>\n",
              "      <td>Oregon</td>\n",
              "      <td>F</td>\n",
              "      <td>73881781.0</td>\n",
              "      <td>28812.0</td>\n",
              "      <td>93.0</td>\n",
              "      <td>Special Auto</td>\n",
              "      <td>Four-Door Car</td>\n",
              "      <td>425.527834</td>\n",
              "    </tr>\n",
              "    <tr>\n",
              "      <th>10</th>\n",
              "      <td>SX51350</td>\n",
              "      <td>California</td>\n",
              "      <td>M</td>\n",
              "      <td>47389920.0</td>\n",
              "      <td>0.0</td>\n",
              "      <td>67.0</td>\n",
              "      <td>Personal Auto</td>\n",
              "      <td>Four-Door Car</td>\n",
              "      <td>482.400000</td>\n",
              "    </tr>\n",
              "  </tbody>\n",
              "</table>\n",
              "</div>"
            ],
            "text/plain": [
              "   customer          st  ...  vehicle class  total claim amount\n",
              "0   RB50392  Washington  ...  Four-Door Car            2.704934\n",
              "1   QZ44356     Arizona  ...  Four-Door Car         1131.464935\n",
              "2   AI49188      Nevada  ...   Two-Door Car          566.472247\n",
              "3   WW63253  California  ...            SUV          529.881344\n",
              "5   OC83172      Oregon  ...   Two-Door Car          159.383042\n",
              "6   XZ87318      Oregon  ...  Four-Door Car          321.600000\n",
              "7   CF85061     Arizona  ...  Four-Door Car          363.029680\n",
              "8   DY87989      Oregon  ...  Four-Door Car          511.200000\n",
              "9   BQ94931      Oregon  ...  Four-Door Car          425.527834\n",
              "10  SX51350  California  ...  Four-Door Car          482.400000\n",
              "\n",
              "[10 rows x 9 columns]"
            ]
          },
          "metadata": {
            "tags": []
          },
          "execution_count": 23
        }
      ]
    },
    {
      "cell_type": "code",
      "metadata": {
        "colab": {
          "base_uri": "https://localhost:8080/",
          "height": 631
        },
        "id": "5RFY0w4UFuwB",
        "outputId": "12a4d0bb-7c59-4655-de2c-4669c68bf7da"
      },
      "source": [
        "#check for duplicate rows in the data and remove if any:\n",
        "\n",
        "#make a duplicate copy of the dataframe\n",
        "data_c = data.copy()\n",
        "data_c.shape\n",
        "print(\"      \")\n",
        "print(\"------\")\n",
        "print(\"      \")\n",
        "\n",
        "#removing duplicate rows\n",
        "\n",
        "data_c = data_c.drop_duplicates(subset=['customer','gender'],keep='last')\n",
        "data_c.head(10)\n",
        "print(\"      \")\n",
        "print(\"------\")\n",
        "print(\"      \")"
      ],
      "execution_count": null,
      "outputs": [
        {
          "output_type": "execute_result",
          "data": {
            "text/plain": [
              "(12074, 9)"
            ]
          },
          "metadata": {
            "tags": []
          },
          "execution_count": 24
        },
        {
          "output_type": "stream",
          "text": [
            "      \n",
            "------\n",
            "      \n"
          ],
          "name": "stdout"
        },
        {
          "output_type": "execute_result",
          "data": {
            "text/html": [
              "<div>\n",
              "<style scoped>\n",
              "    .dataframe tbody tr th:only-of-type {\n",
              "        vertical-align: middle;\n",
              "    }\n",
              "\n",
              "    .dataframe tbody tr th {\n",
              "        vertical-align: top;\n",
              "    }\n",
              "\n",
              "    .dataframe thead th {\n",
              "        text-align: right;\n",
              "    }\n",
              "</style>\n",
              "<table border=\"1\" class=\"dataframe\">\n",
              "  <thead>\n",
              "    <tr style=\"text-align: right;\">\n",
              "      <th></th>\n",
              "      <th>customer</th>\n",
              "      <th>st</th>\n",
              "      <th>gender</th>\n",
              "      <th>customer lifetime value</th>\n",
              "      <th>income</th>\n",
              "      <th>monthly premium auto</th>\n",
              "      <th>policy type</th>\n",
              "      <th>vehicle class</th>\n",
              "      <th>total claim amount</th>\n",
              "    </tr>\n",
              "  </thead>\n",
              "  <tbody>\n",
              "    <tr>\n",
              "      <th>0</th>\n",
              "      <td>RB50392</td>\n",
              "      <td>Washington</td>\n",
              "      <td>NaN</td>\n",
              "      <td>NaN</td>\n",
              "      <td>0.0</td>\n",
              "      <td>1000.0</td>\n",
              "      <td>Personal Auto</td>\n",
              "      <td>Four-Door Car</td>\n",
              "      <td>2.704934</td>\n",
              "    </tr>\n",
              "    <tr>\n",
              "      <th>1</th>\n",
              "      <td>QZ44356</td>\n",
              "      <td>Arizona</td>\n",
              "      <td>F</td>\n",
              "      <td>69795359.0</td>\n",
              "      <td>0.0</td>\n",
              "      <td>94.0</td>\n",
              "      <td>Personal Auto</td>\n",
              "      <td>Four-Door Car</td>\n",
              "      <td>1131.464935</td>\n",
              "    </tr>\n",
              "    <tr>\n",
              "      <th>2</th>\n",
              "      <td>AI49188</td>\n",
              "      <td>Nevada</td>\n",
              "      <td>F</td>\n",
              "      <td>128874317.0</td>\n",
              "      <td>48767.0</td>\n",
              "      <td>108.0</td>\n",
              "      <td>Personal Auto</td>\n",
              "      <td>Two-Door Car</td>\n",
              "      <td>566.472247</td>\n",
              "    </tr>\n",
              "    <tr>\n",
              "      <th>3</th>\n",
              "      <td>WW63253</td>\n",
              "      <td>California</td>\n",
              "      <td>M</td>\n",
              "      <td>76458618.0</td>\n",
              "      <td>0.0</td>\n",
              "      <td>106.0</td>\n",
              "      <td>Corporate Auto</td>\n",
              "      <td>SUV</td>\n",
              "      <td>529.881344</td>\n",
              "    </tr>\n",
              "    <tr>\n",
              "      <th>5</th>\n",
              "      <td>OC83172</td>\n",
              "      <td>Oregon</td>\n",
              "      <td>F</td>\n",
              "      <td>82562978.0</td>\n",
              "      <td>62902.0</td>\n",
              "      <td>69.0</td>\n",
              "      <td>Personal Auto</td>\n",
              "      <td>Two-Door Car</td>\n",
              "      <td>159.383042</td>\n",
              "    </tr>\n",
              "    <tr>\n",
              "      <th>6</th>\n",
              "      <td>XZ87318</td>\n",
              "      <td>Oregon</td>\n",
              "      <td>F</td>\n",
              "      <td>53808986.0</td>\n",
              "      <td>55350.0</td>\n",
              "      <td>67.0</td>\n",
              "      <td>Corporate Auto</td>\n",
              "      <td>Four-Door Car</td>\n",
              "      <td>321.600000</td>\n",
              "    </tr>\n",
              "    <tr>\n",
              "      <th>7</th>\n",
              "      <td>CF85061</td>\n",
              "      <td>Arizona</td>\n",
              "      <td>M</td>\n",
              "      <td>72161003.0</td>\n",
              "      <td>0.0</td>\n",
              "      <td>101.0</td>\n",
              "      <td>Corporate Auto</td>\n",
              "      <td>Four-Door Car</td>\n",
              "      <td>363.029680</td>\n",
              "    </tr>\n",
              "    <tr>\n",
              "      <th>8</th>\n",
              "      <td>DY87989</td>\n",
              "      <td>Oregon</td>\n",
              "      <td>M</td>\n",
              "      <td>241275040.0</td>\n",
              "      <td>14072.0</td>\n",
              "      <td>71.0</td>\n",
              "      <td>Corporate Auto</td>\n",
              "      <td>Four-Door Car</td>\n",
              "      <td>511.200000</td>\n",
              "    </tr>\n",
              "    <tr>\n",
              "      <th>9</th>\n",
              "      <td>BQ94931</td>\n",
              "      <td>Oregon</td>\n",
              "      <td>F</td>\n",
              "      <td>73881781.0</td>\n",
              "      <td>28812.0</td>\n",
              "      <td>93.0</td>\n",
              "      <td>Special Auto</td>\n",
              "      <td>Four-Door Car</td>\n",
              "      <td>425.527834</td>\n",
              "    </tr>\n",
              "    <tr>\n",
              "      <th>10</th>\n",
              "      <td>SX51350</td>\n",
              "      <td>California</td>\n",
              "      <td>M</td>\n",
              "      <td>47389920.0</td>\n",
              "      <td>0.0</td>\n",
              "      <td>67.0</td>\n",
              "      <td>Personal Auto</td>\n",
              "      <td>Four-Door Car</td>\n",
              "      <td>482.400000</td>\n",
              "    </tr>\n",
              "  </tbody>\n",
              "</table>\n",
              "</div>"
            ],
            "text/plain": [
              "   customer          st  ...  vehicle class  total claim amount\n",
              "0   RB50392  Washington  ...  Four-Door Car            2.704934\n",
              "1   QZ44356     Arizona  ...  Four-Door Car         1131.464935\n",
              "2   AI49188      Nevada  ...   Two-Door Car          566.472247\n",
              "3   WW63253  California  ...            SUV          529.881344\n",
              "5   OC83172      Oregon  ...   Two-Door Car          159.383042\n",
              "6   XZ87318      Oregon  ...  Four-Door Car          321.600000\n",
              "7   CF85061     Arizona  ...  Four-Door Car          363.029680\n",
              "8   DY87989      Oregon  ...  Four-Door Car          511.200000\n",
              "9   BQ94931      Oregon  ...  Four-Door Car          425.527834\n",
              "10  SX51350  California  ...  Four-Door Car          482.400000\n",
              "\n",
              "[10 rows x 9 columns]"
            ]
          },
          "metadata": {
            "tags": []
          },
          "execution_count": 24
        },
        {
          "output_type": "stream",
          "text": [
            "      \n",
            "------\n",
            "      \n"
          ],
          "name": "stdout"
        }
      ]
    },
    {
      "cell_type": "code",
      "metadata": {
        "colab": {
          "base_uri": "https://localhost:8080/",
          "height": 728
        },
        "id": "q5FBByTcF2NB",
        "outputId": "e3f4bcf1-3c72-4ba3-eaab-5ff2986f860b"
      },
      "source": [
        "#filtering the data for customers who have an income of 0 or less\n",
        "data_c['income_zero']=data_c['income']=0\n",
        "data_c['income_0_less']=data_c['income']<0\n",
        "data_c.sample(6)\n",
        "print(\"      \")\n",
        "print(\"------\")\n",
        "print(\"      \")\n",
        "#data_c['income_0_less'] = [(data_c['income']<0)|(data_c['income_zero'])]\n",
        "data_c.head()"
      ],
      "execution_count": null,
      "outputs": [
        {
          "output_type": "execute_result",
          "data": {
            "text/html": [
              "<div>\n",
              "<style scoped>\n",
              "    .dataframe tbody tr th:only-of-type {\n",
              "        vertical-align: middle;\n",
              "    }\n",
              "\n",
              "    .dataframe tbody tr th {\n",
              "        vertical-align: top;\n",
              "    }\n",
              "\n",
              "    .dataframe thead th {\n",
              "        text-align: right;\n",
              "    }\n",
              "</style>\n",
              "<table border=\"1\" class=\"dataframe\">\n",
              "  <thead>\n",
              "    <tr style=\"text-align: right;\">\n",
              "      <th></th>\n",
              "      <th>customer</th>\n",
              "      <th>st</th>\n",
              "      <th>gender</th>\n",
              "      <th>customer lifetime value</th>\n",
              "      <th>income</th>\n",
              "      <th>monthly premium auto</th>\n",
              "      <th>policy type</th>\n",
              "      <th>vehicle class</th>\n",
              "      <th>total claim amount</th>\n",
              "      <th>income_zero</th>\n",
              "      <th>income_0_less</th>\n",
              "    </tr>\n",
              "  </thead>\n",
              "  <tbody>\n",
              "    <tr>\n",
              "      <th>2932</th>\n",
              "      <td>GB68813</td>\n",
              "      <td>NaN</td>\n",
              "      <td>F</td>\n",
              "      <td>8.502237e+05</td>\n",
              "      <td>0</td>\n",
              "      <td>111.0</td>\n",
              "      <td>Corporate Auto</td>\n",
              "      <td>Four-Door Car</td>\n",
              "      <td>1143.494486</td>\n",
              "      <td>0</td>\n",
              "      <td>False</td>\n",
              "    </tr>\n",
              "    <tr>\n",
              "      <th>3008</th>\n",
              "      <td>HI98447</td>\n",
              "      <td>NaN</td>\n",
              "      <td>M</td>\n",
              "      <td>1.055243e+06</td>\n",
              "      <td>0</td>\n",
              "      <td>88.0</td>\n",
              "      <td>Personal Auto</td>\n",
              "      <td>Four-Door Car</td>\n",
              "      <td>422.400000</td>\n",
              "      <td>0</td>\n",
              "      <td>False</td>\n",
              "    </tr>\n",
              "    <tr>\n",
              "      <th>3170</th>\n",
              "      <td>HE72629</td>\n",
              "      <td>NaN</td>\n",
              "      <td>F</td>\n",
              "      <td>3.007386e+05</td>\n",
              "      <td>0</td>\n",
              "      <td>80.0</td>\n",
              "      <td>Personal Auto</td>\n",
              "      <td>Two-Door Car</td>\n",
              "      <td>16.524885</td>\n",
              "      <td>0</td>\n",
              "      <td>False</td>\n",
              "    </tr>\n",
              "    <tr>\n",
              "      <th>3113</th>\n",
              "      <td>GA89827</td>\n",
              "      <td>NaN</td>\n",
              "      <td>M</td>\n",
              "      <td>7.329829e+05</td>\n",
              "      <td>0</td>\n",
              "      <td>70.0</td>\n",
              "      <td>Personal Auto</td>\n",
              "      <td>Four-Door Car</td>\n",
              "      <td>622.381217</td>\n",
              "      <td>0</td>\n",
              "      <td>False</td>\n",
              "    </tr>\n",
              "    <tr>\n",
              "      <th>1128</th>\n",
              "      <td>JZ63423</td>\n",
              "      <td>NaN</td>\n",
              "      <td>M</td>\n",
              "      <td>5.321109e+05</td>\n",
              "      <td>0</td>\n",
              "      <td>136.0</td>\n",
              "      <td>Personal Auto</td>\n",
              "      <td>SUV</td>\n",
              "      <td>652.800000</td>\n",
              "      <td>0</td>\n",
              "      <td>False</td>\n",
              "    </tr>\n",
              "    <tr>\n",
              "      <th>913</th>\n",
              "      <td>KZ84621</td>\n",
              "      <td>NaN</td>\n",
              "      <td>F</td>\n",
              "      <td>8.253267e+05</td>\n",
              "      <td>0</td>\n",
              "      <td>103.0</td>\n",
              "      <td>Personal Auto</td>\n",
              "      <td>SUV</td>\n",
              "      <td>411.228571</td>\n",
              "      <td>0</td>\n",
              "      <td>False</td>\n",
              "    </tr>\n",
              "  </tbody>\n",
              "</table>\n",
              "</div>"
            ],
            "text/plain": [
              "     customer   st gender  ...  total claim amount  income_zero  income_0_less\n",
              "2932  GB68813  NaN      F  ...         1143.494486            0          False\n",
              "3008  HI98447  NaN      M  ...          422.400000            0          False\n",
              "3170  HE72629  NaN      F  ...           16.524885            0          False\n",
              "3113  GA89827  NaN      M  ...          622.381217            0          False\n",
              "1128  JZ63423  NaN      M  ...          652.800000            0          False\n",
              "913   KZ84621  NaN      F  ...          411.228571            0          False\n",
              "\n",
              "[6 rows x 11 columns]"
            ]
          },
          "metadata": {
            "tags": []
          },
          "execution_count": 25
        },
        {
          "output_type": "stream",
          "text": [
            "      \n",
            "------\n",
            "      \n"
          ],
          "name": "stdout"
        },
        {
          "output_type": "execute_result",
          "data": {
            "text/html": [
              "<div>\n",
              "<style scoped>\n",
              "    .dataframe tbody tr th:only-of-type {\n",
              "        vertical-align: middle;\n",
              "    }\n",
              "\n",
              "    .dataframe tbody tr th {\n",
              "        vertical-align: top;\n",
              "    }\n",
              "\n",
              "    .dataframe thead th {\n",
              "        text-align: right;\n",
              "    }\n",
              "</style>\n",
              "<table border=\"1\" class=\"dataframe\">\n",
              "  <thead>\n",
              "    <tr style=\"text-align: right;\">\n",
              "      <th></th>\n",
              "      <th>customer</th>\n",
              "      <th>st</th>\n",
              "      <th>gender</th>\n",
              "      <th>customer lifetime value</th>\n",
              "      <th>income</th>\n",
              "      <th>monthly premium auto</th>\n",
              "      <th>policy type</th>\n",
              "      <th>vehicle class</th>\n",
              "      <th>total claim amount</th>\n",
              "      <th>income_zero</th>\n",
              "      <th>income_0_less</th>\n",
              "    </tr>\n",
              "  </thead>\n",
              "  <tbody>\n",
              "    <tr>\n",
              "      <th>0</th>\n",
              "      <td>RB50392</td>\n",
              "      <td>Washington</td>\n",
              "      <td>NaN</td>\n",
              "      <td>NaN</td>\n",
              "      <td>0</td>\n",
              "      <td>1000.0</td>\n",
              "      <td>Personal Auto</td>\n",
              "      <td>Four-Door Car</td>\n",
              "      <td>2.704934</td>\n",
              "      <td>0</td>\n",
              "      <td>False</td>\n",
              "    </tr>\n",
              "    <tr>\n",
              "      <th>1</th>\n",
              "      <td>QZ44356</td>\n",
              "      <td>Arizona</td>\n",
              "      <td>F</td>\n",
              "      <td>69795359.0</td>\n",
              "      <td>0</td>\n",
              "      <td>94.0</td>\n",
              "      <td>Personal Auto</td>\n",
              "      <td>Four-Door Car</td>\n",
              "      <td>1131.464935</td>\n",
              "      <td>0</td>\n",
              "      <td>False</td>\n",
              "    </tr>\n",
              "    <tr>\n",
              "      <th>2</th>\n",
              "      <td>AI49188</td>\n",
              "      <td>Nevada</td>\n",
              "      <td>F</td>\n",
              "      <td>128874317.0</td>\n",
              "      <td>0</td>\n",
              "      <td>108.0</td>\n",
              "      <td>Personal Auto</td>\n",
              "      <td>Two-Door Car</td>\n",
              "      <td>566.472247</td>\n",
              "      <td>0</td>\n",
              "      <td>False</td>\n",
              "    </tr>\n",
              "    <tr>\n",
              "      <th>3</th>\n",
              "      <td>WW63253</td>\n",
              "      <td>California</td>\n",
              "      <td>M</td>\n",
              "      <td>76458618.0</td>\n",
              "      <td>0</td>\n",
              "      <td>106.0</td>\n",
              "      <td>Corporate Auto</td>\n",
              "      <td>SUV</td>\n",
              "      <td>529.881344</td>\n",
              "      <td>0</td>\n",
              "      <td>False</td>\n",
              "    </tr>\n",
              "    <tr>\n",
              "      <th>5</th>\n",
              "      <td>OC83172</td>\n",
              "      <td>Oregon</td>\n",
              "      <td>F</td>\n",
              "      <td>82562978.0</td>\n",
              "      <td>0</td>\n",
              "      <td>69.0</td>\n",
              "      <td>Personal Auto</td>\n",
              "      <td>Two-Door Car</td>\n",
              "      <td>159.383042</td>\n",
              "      <td>0</td>\n",
              "      <td>False</td>\n",
              "    </tr>\n",
              "  </tbody>\n",
              "</table>\n",
              "</div>"
            ],
            "text/plain": [
              "  customer          st gender  ...  total claim amount  income_zero  income_0_less\n",
              "0  RB50392  Washington    NaN  ...            2.704934            0          False\n",
              "1  QZ44356     Arizona      F  ...         1131.464935            0          False\n",
              "2  AI49188      Nevada      F  ...          566.472247            0          False\n",
              "3  WW63253  California      M  ...          529.881344            0          False\n",
              "5  OC83172      Oregon      F  ...          159.383042            0          False\n",
              "\n",
              "[5 rows x 11 columns]"
            ]
          },
          "metadata": {
            "tags": []
          },
          "execution_count": 25
        }
      ]
    },
    {
      "cell_type": "code",
      "metadata": {
        "colab": {
          "base_uri": "https://localhost:8080/",
          "height": 323
        },
        "id": "5IL2ppItGTZ3",
        "outputId": "8cfb9963-f46a-4d41-8e9a-0a7c8e460d75"
      },
      "source": [
        "data_c['income_0_less'] = data_c[(data_c['income_zero']|data_c['income_0_less']==True)]\n",
        "data_c.head()"
      ],
      "execution_count": null,
      "outputs": [
        {
          "output_type": "execute_result",
          "data": {
            "text/html": [
              "<div>\n",
              "<style scoped>\n",
              "    .dataframe tbody tr th:only-of-type {\n",
              "        vertical-align: middle;\n",
              "    }\n",
              "\n",
              "    .dataframe tbody tr th {\n",
              "        vertical-align: top;\n",
              "    }\n",
              "\n",
              "    .dataframe thead th {\n",
              "        text-align: right;\n",
              "    }\n",
              "</style>\n",
              "<table border=\"1\" class=\"dataframe\">\n",
              "  <thead>\n",
              "    <tr style=\"text-align: right;\">\n",
              "      <th></th>\n",
              "      <th>customer</th>\n",
              "      <th>st</th>\n",
              "      <th>gender</th>\n",
              "      <th>customer lifetime value</th>\n",
              "      <th>income</th>\n",
              "      <th>monthly premium auto</th>\n",
              "      <th>policy type</th>\n",
              "      <th>vehicle class</th>\n",
              "      <th>total claim amount</th>\n",
              "      <th>income_zero</th>\n",
              "      <th>income_0_less</th>\n",
              "    </tr>\n",
              "  </thead>\n",
              "  <tbody>\n",
              "    <tr>\n",
              "      <th>0</th>\n",
              "      <td>RB50392</td>\n",
              "      <td>Washington</td>\n",
              "      <td>NaN</td>\n",
              "      <td>NaN</td>\n",
              "      <td>0</td>\n",
              "      <td>1000.0</td>\n",
              "      <td>Personal Auto</td>\n",
              "      <td>Four-Door Car</td>\n",
              "      <td>2.704934</td>\n",
              "      <td>0</td>\n",
              "      <td>NaN</td>\n",
              "    </tr>\n",
              "    <tr>\n",
              "      <th>1</th>\n",
              "      <td>QZ44356</td>\n",
              "      <td>Arizona</td>\n",
              "      <td>F</td>\n",
              "      <td>69795359.0</td>\n",
              "      <td>0</td>\n",
              "      <td>94.0</td>\n",
              "      <td>Personal Auto</td>\n",
              "      <td>Four-Door Car</td>\n",
              "      <td>1131.464935</td>\n",
              "      <td>0</td>\n",
              "      <td>NaN</td>\n",
              "    </tr>\n",
              "    <tr>\n",
              "      <th>2</th>\n",
              "      <td>AI49188</td>\n",
              "      <td>Nevada</td>\n",
              "      <td>F</td>\n",
              "      <td>128874317.0</td>\n",
              "      <td>0</td>\n",
              "      <td>108.0</td>\n",
              "      <td>Personal Auto</td>\n",
              "      <td>Two-Door Car</td>\n",
              "      <td>566.472247</td>\n",
              "      <td>0</td>\n",
              "      <td>NaN</td>\n",
              "    </tr>\n",
              "    <tr>\n",
              "      <th>3</th>\n",
              "      <td>WW63253</td>\n",
              "      <td>California</td>\n",
              "      <td>M</td>\n",
              "      <td>76458618.0</td>\n",
              "      <td>0</td>\n",
              "      <td>106.0</td>\n",
              "      <td>Corporate Auto</td>\n",
              "      <td>SUV</td>\n",
              "      <td>529.881344</td>\n",
              "      <td>0</td>\n",
              "      <td>NaN</td>\n",
              "    </tr>\n",
              "    <tr>\n",
              "      <th>5</th>\n",
              "      <td>OC83172</td>\n",
              "      <td>Oregon</td>\n",
              "      <td>F</td>\n",
              "      <td>82562978.0</td>\n",
              "      <td>0</td>\n",
              "      <td>69.0</td>\n",
              "      <td>Personal Auto</td>\n",
              "      <td>Two-Door Car</td>\n",
              "      <td>159.383042</td>\n",
              "      <td>0</td>\n",
              "      <td>NaN</td>\n",
              "    </tr>\n",
              "  </tbody>\n",
              "</table>\n",
              "</div>"
            ],
            "text/plain": [
              "  customer          st gender  ...  total claim amount  income_zero  income_0_less\n",
              "0  RB50392  Washington    NaN  ...            2.704934            0            NaN\n",
              "1  QZ44356     Arizona      F  ...         1131.464935            0            NaN\n",
              "2  AI49188      Nevada      F  ...          566.472247            0            NaN\n",
              "3  WW63253  California      M  ...          529.881344            0            NaN\n",
              "5  OC83172      Oregon      F  ...          159.383042            0            NaN\n",
              "\n",
              "[5 rows x 11 columns]"
            ]
          },
          "metadata": {
            "tags": []
          },
          "execution_count": 26
        }
      ]
    },
    {
      "cell_type": "markdown",
      "metadata": {
        "id": "qSfUpTrs7ppf"
      },
      "source": [
        "\n",
        "\n",
        "# **Lab | Customer Analysis Round 2**"
      ]
    },
    {
      "cell_type": "code",
      "metadata": {
        "id": "K-YKX7W371iN"
      },
      "source": [
        "#import relevant libraries\n",
        "import matplotlib.pyplot as plt\n",
        "import seaborn as sns"
      ],
      "execution_count": null,
      "outputs": []
    },
    {
      "cell_type": "code",
      "metadata": {
        "colab": {
          "base_uri": "https://localhost:8080/",
          "height": 360
        },
        "id": "7t_j9NvU7Zkm",
        "outputId": "b3d31942-901d-4ce3-a339-00a40af56851"
      },
      "source": [
        "#creating dataframa from source file\n",
        "url='https://raw.githubusercontent.com/ironhack-labs/lab-customer-analysis-round-2/master/files_for_lab/csv_files/marketing_customer_analysis.csv'\n",
        "data = pd.read_csv(url)\n",
        "data.head()"
      ],
      "execution_count": null,
      "outputs": [
        {
          "output_type": "execute_result",
          "data": {
            "text/html": [
              "<div>\n",
              "<style scoped>\n",
              "    .dataframe tbody tr th:only-of-type {\n",
              "        vertical-align: middle;\n",
              "    }\n",
              "\n",
              "    .dataframe tbody tr th {\n",
              "        vertical-align: top;\n",
              "    }\n",
              "\n",
              "    .dataframe thead th {\n",
              "        text-align: right;\n",
              "    }\n",
              "</style>\n",
              "<table border=\"1\" class=\"dataframe\">\n",
              "  <thead>\n",
              "    <tr style=\"text-align: right;\">\n",
              "      <th></th>\n",
              "      <th>Customer</th>\n",
              "      <th>State</th>\n",
              "      <th>Customer Lifetime Value</th>\n",
              "      <th>Response</th>\n",
              "      <th>Coverage</th>\n",
              "      <th>Education</th>\n",
              "      <th>Effective To Date</th>\n",
              "      <th>EmploymentStatus</th>\n",
              "      <th>Gender</th>\n",
              "      <th>Income</th>\n",
              "      <th>Location Code</th>\n",
              "      <th>Marital Status</th>\n",
              "      <th>Monthly Premium Auto</th>\n",
              "      <th>Months Since Last Claim</th>\n",
              "      <th>Months Since Policy Inception</th>\n",
              "      <th>Number of Open Complaints</th>\n",
              "      <th>Number of Policies</th>\n",
              "      <th>Policy Type</th>\n",
              "      <th>Policy</th>\n",
              "      <th>Renew Offer Type</th>\n",
              "      <th>Sales Channel</th>\n",
              "      <th>Total Claim Amount</th>\n",
              "      <th>Vehicle Class</th>\n",
              "      <th>Vehicle Size</th>\n",
              "    </tr>\n",
              "  </thead>\n",
              "  <tbody>\n",
              "    <tr>\n",
              "      <th>0</th>\n",
              "      <td>BU79786</td>\n",
              "      <td>Washington</td>\n",
              "      <td>2763.519279</td>\n",
              "      <td>No</td>\n",
              "      <td>Basic</td>\n",
              "      <td>Bachelor</td>\n",
              "      <td>2/24/11</td>\n",
              "      <td>Employed</td>\n",
              "      <td>F</td>\n",
              "      <td>56274</td>\n",
              "      <td>Suburban</td>\n",
              "      <td>Married</td>\n",
              "      <td>69</td>\n",
              "      <td>32</td>\n",
              "      <td>5</td>\n",
              "      <td>0</td>\n",
              "      <td>1</td>\n",
              "      <td>Corporate Auto</td>\n",
              "      <td>Corporate L3</td>\n",
              "      <td>Offer1</td>\n",
              "      <td>Agent</td>\n",
              "      <td>384.811147</td>\n",
              "      <td>Two-Door Car</td>\n",
              "      <td>Medsize</td>\n",
              "    </tr>\n",
              "    <tr>\n",
              "      <th>1</th>\n",
              "      <td>QZ44356</td>\n",
              "      <td>Arizona</td>\n",
              "      <td>6979.535903</td>\n",
              "      <td>No</td>\n",
              "      <td>Extended</td>\n",
              "      <td>Bachelor</td>\n",
              "      <td>1/31/11</td>\n",
              "      <td>Unemployed</td>\n",
              "      <td>F</td>\n",
              "      <td>0</td>\n",
              "      <td>Suburban</td>\n",
              "      <td>Single</td>\n",
              "      <td>94</td>\n",
              "      <td>13</td>\n",
              "      <td>42</td>\n",
              "      <td>0</td>\n",
              "      <td>8</td>\n",
              "      <td>Personal Auto</td>\n",
              "      <td>Personal L3</td>\n",
              "      <td>Offer3</td>\n",
              "      <td>Agent</td>\n",
              "      <td>1131.464935</td>\n",
              "      <td>Four-Door Car</td>\n",
              "      <td>Medsize</td>\n",
              "    </tr>\n",
              "    <tr>\n",
              "      <th>2</th>\n",
              "      <td>AI49188</td>\n",
              "      <td>Nevada</td>\n",
              "      <td>12887.431650</td>\n",
              "      <td>No</td>\n",
              "      <td>Premium</td>\n",
              "      <td>Bachelor</td>\n",
              "      <td>2/19/11</td>\n",
              "      <td>Employed</td>\n",
              "      <td>F</td>\n",
              "      <td>48767</td>\n",
              "      <td>Suburban</td>\n",
              "      <td>Married</td>\n",
              "      <td>108</td>\n",
              "      <td>18</td>\n",
              "      <td>38</td>\n",
              "      <td>0</td>\n",
              "      <td>2</td>\n",
              "      <td>Personal Auto</td>\n",
              "      <td>Personal L3</td>\n",
              "      <td>Offer1</td>\n",
              "      <td>Agent</td>\n",
              "      <td>566.472247</td>\n",
              "      <td>Two-Door Car</td>\n",
              "      <td>Medsize</td>\n",
              "    </tr>\n",
              "    <tr>\n",
              "      <th>3</th>\n",
              "      <td>WW63253</td>\n",
              "      <td>California</td>\n",
              "      <td>7645.861827</td>\n",
              "      <td>No</td>\n",
              "      <td>Basic</td>\n",
              "      <td>Bachelor</td>\n",
              "      <td>1/20/11</td>\n",
              "      <td>Unemployed</td>\n",
              "      <td>M</td>\n",
              "      <td>0</td>\n",
              "      <td>Suburban</td>\n",
              "      <td>Married</td>\n",
              "      <td>106</td>\n",
              "      <td>18</td>\n",
              "      <td>65</td>\n",
              "      <td>0</td>\n",
              "      <td>7</td>\n",
              "      <td>Corporate Auto</td>\n",
              "      <td>Corporate L2</td>\n",
              "      <td>Offer1</td>\n",
              "      <td>Call Center</td>\n",
              "      <td>529.881344</td>\n",
              "      <td>SUV</td>\n",
              "      <td>Medsize</td>\n",
              "    </tr>\n",
              "    <tr>\n",
              "      <th>4</th>\n",
              "      <td>HB64268</td>\n",
              "      <td>Washington</td>\n",
              "      <td>2813.692575</td>\n",
              "      <td>No</td>\n",
              "      <td>Basic</td>\n",
              "      <td>Bachelor</td>\n",
              "      <td>2/3/11</td>\n",
              "      <td>Employed</td>\n",
              "      <td>M</td>\n",
              "      <td>43836</td>\n",
              "      <td>Rural</td>\n",
              "      <td>Single</td>\n",
              "      <td>73</td>\n",
              "      <td>12</td>\n",
              "      <td>44</td>\n",
              "      <td>0</td>\n",
              "      <td>1</td>\n",
              "      <td>Personal Auto</td>\n",
              "      <td>Personal L1</td>\n",
              "      <td>Offer1</td>\n",
              "      <td>Agent</td>\n",
              "      <td>138.130879</td>\n",
              "      <td>Four-Door Car</td>\n",
              "      <td>Medsize</td>\n",
              "    </tr>\n",
              "  </tbody>\n",
              "</table>\n",
              "</div>"
            ],
            "text/plain": [
              "  Customer       State  ...  Vehicle Class Vehicle Size\n",
              "0  BU79786  Washington  ...   Two-Door Car      Medsize\n",
              "1  QZ44356     Arizona  ...  Four-Door Car      Medsize\n",
              "2  AI49188      Nevada  ...   Two-Door Car      Medsize\n",
              "3  WW63253  California  ...            SUV      Medsize\n",
              "4  HB64268  Washington  ...  Four-Door Car      Medsize\n",
              "\n",
              "[5 rows x 24 columns]"
            ]
          },
          "metadata": {
            "tags": []
          },
          "execution_count": 28
        }
      ]
    },
    {
      "cell_type": "code",
      "metadata": {
        "id": "XdiyC7Kh9Cvh"
      },
      "source": [
        "# To make run all you ask in one cell, not only the last required\n",
        "from IPython.core.interactiveshell import InteractiveShell\n",
        "InteractiveShell.ast_node_interactivity = \"all\""
      ],
      "execution_count": null,
      "outputs": []
    },
    {
      "cell_type": "code",
      "metadata": {
        "colab": {
          "base_uri": "https://localhost:8080/"
        },
        "id": "h5S1UvPT7dJZ",
        "outputId": "294d00b4-7c62-469a-ca89-f8fcb411c033"
      },
      "source": [
        "#standardizing the header names\n",
        "column_names = data.columns\n",
        "column_names"
      ],
      "execution_count": null,
      "outputs": [
        {
          "output_type": "execute_result",
          "data": {
            "text/plain": [
              "Index(['Customer', 'State', 'Customer Lifetime Value', 'Response', 'Coverage',\n",
              "       'Education', 'Effective To Date', 'EmploymentStatus', 'Gender',\n",
              "       'Income', 'Location Code', 'Marital Status', 'Monthly Premium Auto',\n",
              "       'Months Since Last Claim', 'Months Since Policy Inception',\n",
              "       'Number of Open Complaints', 'Number of Policies', 'Policy Type',\n",
              "       'Policy', 'Renew Offer Type', 'Sales Channel', 'Total Claim Amount',\n",
              "       'Vehicle Class', 'Vehicle Size'],\n",
              "      dtype='object')"
            ]
          },
          "metadata": {
            "tags": []
          },
          "execution_count": 30
        }
      ]
    },
    {
      "cell_type": "code",
      "metadata": {
        "id": "Ti-LoN3r8sYP"
      },
      "source": [
        "#changing column headers to lowercase\n",
        "cols =[]\n",
        "for column_name in data.columns:\n",
        "  cols.append(column_name.lower())\n",
        "column_names = cols\n",
        "\n",
        "#cols"
      ],
      "execution_count": null,
      "outputs": []
    },
    {
      "cell_type": "code",
      "metadata": {
        "colab": {
          "base_uri": "https://localhost:8080/"
        },
        "id": "Q9mAgeGL9DMU",
        "outputId": "3e28f36a-0477-4100-dffc-6f99a83604e7"
      },
      "source": [
        "data.shape"
      ],
      "execution_count": null,
      "outputs": [
        {
          "output_type": "execute_result",
          "data": {
            "text/plain": [
              "(9134, 24)"
            ]
          },
          "metadata": {
            "tags": []
          },
          "execution_count": 32
        }
      ]
    },
    {
      "cell_type": "code",
      "metadata": {
        "colab": {
          "base_uri": "https://localhost:8080/",
          "height": 558
        },
        "id": "MQ9uDyFg9lAk",
        "outputId": "9f9ff833-6166-49a4-c93e-9213e56c6eeb"
      },
      "source": [
        "# numeric data\n",
        "\n",
        "data._get_numeric_data()"
      ],
      "execution_count": null,
      "outputs": [
        {
          "output_type": "execute_result",
          "data": {
            "text/html": [
              "<div>\n",
              "<style scoped>\n",
              "    .dataframe tbody tr th:only-of-type {\n",
              "        vertical-align: middle;\n",
              "    }\n",
              "\n",
              "    .dataframe tbody tr th {\n",
              "        vertical-align: top;\n",
              "    }\n",
              "\n",
              "    .dataframe thead th {\n",
              "        text-align: right;\n",
              "    }\n",
              "</style>\n",
              "<table border=\"1\" class=\"dataframe\">\n",
              "  <thead>\n",
              "    <tr style=\"text-align: right;\">\n",
              "      <th></th>\n",
              "      <th>Customer Lifetime Value</th>\n",
              "      <th>Income</th>\n",
              "      <th>Monthly Premium Auto</th>\n",
              "      <th>Months Since Last Claim</th>\n",
              "      <th>Months Since Policy Inception</th>\n",
              "      <th>Number of Open Complaints</th>\n",
              "      <th>Number of Policies</th>\n",
              "      <th>Total Claim Amount</th>\n",
              "    </tr>\n",
              "  </thead>\n",
              "  <tbody>\n",
              "    <tr>\n",
              "      <th>0</th>\n",
              "      <td>2763.519279</td>\n",
              "      <td>56274</td>\n",
              "      <td>69</td>\n",
              "      <td>32</td>\n",
              "      <td>5</td>\n",
              "      <td>0</td>\n",
              "      <td>1</td>\n",
              "      <td>384.811147</td>\n",
              "    </tr>\n",
              "    <tr>\n",
              "      <th>1</th>\n",
              "      <td>6979.535903</td>\n",
              "      <td>0</td>\n",
              "      <td>94</td>\n",
              "      <td>13</td>\n",
              "      <td>42</td>\n",
              "      <td>0</td>\n",
              "      <td>8</td>\n",
              "      <td>1131.464935</td>\n",
              "    </tr>\n",
              "    <tr>\n",
              "      <th>2</th>\n",
              "      <td>12887.431650</td>\n",
              "      <td>48767</td>\n",
              "      <td>108</td>\n",
              "      <td>18</td>\n",
              "      <td>38</td>\n",
              "      <td>0</td>\n",
              "      <td>2</td>\n",
              "      <td>566.472247</td>\n",
              "    </tr>\n",
              "    <tr>\n",
              "      <th>3</th>\n",
              "      <td>7645.861827</td>\n",
              "      <td>0</td>\n",
              "      <td>106</td>\n",
              "      <td>18</td>\n",
              "      <td>65</td>\n",
              "      <td>0</td>\n",
              "      <td>7</td>\n",
              "      <td>529.881344</td>\n",
              "    </tr>\n",
              "    <tr>\n",
              "      <th>4</th>\n",
              "      <td>2813.692575</td>\n",
              "      <td>43836</td>\n",
              "      <td>73</td>\n",
              "      <td>12</td>\n",
              "      <td>44</td>\n",
              "      <td>0</td>\n",
              "      <td>1</td>\n",
              "      <td>138.130879</td>\n",
              "    </tr>\n",
              "    <tr>\n",
              "      <th>...</th>\n",
              "      <td>...</td>\n",
              "      <td>...</td>\n",
              "      <td>...</td>\n",
              "      <td>...</td>\n",
              "      <td>...</td>\n",
              "      <td>...</td>\n",
              "      <td>...</td>\n",
              "      <td>...</td>\n",
              "    </tr>\n",
              "    <tr>\n",
              "      <th>9129</th>\n",
              "      <td>23405.987980</td>\n",
              "      <td>71941</td>\n",
              "      <td>73</td>\n",
              "      <td>18</td>\n",
              "      <td>89</td>\n",
              "      <td>0</td>\n",
              "      <td>2</td>\n",
              "      <td>198.234764</td>\n",
              "    </tr>\n",
              "    <tr>\n",
              "      <th>9130</th>\n",
              "      <td>3096.511217</td>\n",
              "      <td>21604</td>\n",
              "      <td>79</td>\n",
              "      <td>14</td>\n",
              "      <td>28</td>\n",
              "      <td>0</td>\n",
              "      <td>1</td>\n",
              "      <td>379.200000</td>\n",
              "    </tr>\n",
              "    <tr>\n",
              "      <th>9131</th>\n",
              "      <td>8163.890428</td>\n",
              "      <td>0</td>\n",
              "      <td>85</td>\n",
              "      <td>9</td>\n",
              "      <td>37</td>\n",
              "      <td>3</td>\n",
              "      <td>2</td>\n",
              "      <td>790.784983</td>\n",
              "    </tr>\n",
              "    <tr>\n",
              "      <th>9132</th>\n",
              "      <td>7524.442436</td>\n",
              "      <td>21941</td>\n",
              "      <td>96</td>\n",
              "      <td>34</td>\n",
              "      <td>3</td>\n",
              "      <td>0</td>\n",
              "      <td>3</td>\n",
              "      <td>691.200000</td>\n",
              "    </tr>\n",
              "    <tr>\n",
              "      <th>9133</th>\n",
              "      <td>2611.836866</td>\n",
              "      <td>0</td>\n",
              "      <td>77</td>\n",
              "      <td>3</td>\n",
              "      <td>90</td>\n",
              "      <td>0</td>\n",
              "      <td>1</td>\n",
              "      <td>369.600000</td>\n",
              "    </tr>\n",
              "  </tbody>\n",
              "</table>\n",
              "<p>9134 rows × 8 columns</p>\n",
              "</div>"
            ],
            "text/plain": [
              "      Customer Lifetime Value  Income  ...  Number of Policies  Total Claim Amount\n",
              "0                 2763.519279   56274  ...                   1          384.811147\n",
              "1                 6979.535903       0  ...                   8         1131.464935\n",
              "2                12887.431650   48767  ...                   2          566.472247\n",
              "3                 7645.861827       0  ...                   7          529.881344\n",
              "4                 2813.692575   43836  ...                   1          138.130879\n",
              "...                       ...     ...  ...                 ...                 ...\n",
              "9129             23405.987980   71941  ...                   2          198.234764\n",
              "9130              3096.511217   21604  ...                   1          379.200000\n",
              "9131              8163.890428       0  ...                   2          790.784983\n",
              "9132              7524.442436   21941  ...                   3          691.200000\n",
              "9133              2611.836866       0  ...                   1          369.600000\n",
              "\n",
              "[9134 rows x 8 columns]"
            ]
          },
          "metadata": {
            "tags": []
          },
          "execution_count": 33
        }
      ]
    },
    {
      "cell_type": "code",
      "metadata": {
        "colab": {
          "base_uri": "https://localhost:8080/",
          "height": 711
        },
        "id": "_OR0bRIi_9Zm",
        "outputId": "0c310e51-377b-4965-eaac-eb41347d052a"
      },
      "source": [
        "data.select_dtypes('object')"
      ],
      "execution_count": null,
      "outputs": [
        {
          "output_type": "execute_result",
          "data": {
            "text/html": [
              "<div>\n",
              "<style scoped>\n",
              "    .dataframe tbody tr th:only-of-type {\n",
              "        vertical-align: middle;\n",
              "    }\n",
              "\n",
              "    .dataframe tbody tr th {\n",
              "        vertical-align: top;\n",
              "    }\n",
              "\n",
              "    .dataframe thead th {\n",
              "        text-align: right;\n",
              "    }\n",
              "</style>\n",
              "<table border=\"1\" class=\"dataframe\">\n",
              "  <thead>\n",
              "    <tr style=\"text-align: right;\">\n",
              "      <th></th>\n",
              "      <th>Customer</th>\n",
              "      <th>State</th>\n",
              "      <th>Response</th>\n",
              "      <th>Coverage</th>\n",
              "      <th>Education</th>\n",
              "      <th>Effective To Date</th>\n",
              "      <th>EmploymentStatus</th>\n",
              "      <th>Gender</th>\n",
              "      <th>Location Code</th>\n",
              "      <th>Marital Status</th>\n",
              "      <th>Policy Type</th>\n",
              "      <th>Policy</th>\n",
              "      <th>Renew Offer Type</th>\n",
              "      <th>Sales Channel</th>\n",
              "      <th>Vehicle Class</th>\n",
              "      <th>Vehicle Size</th>\n",
              "    </tr>\n",
              "  </thead>\n",
              "  <tbody>\n",
              "    <tr>\n",
              "      <th>0</th>\n",
              "      <td>BU79786</td>\n",
              "      <td>Washington</td>\n",
              "      <td>No</td>\n",
              "      <td>Basic</td>\n",
              "      <td>Bachelor</td>\n",
              "      <td>2/24/11</td>\n",
              "      <td>Employed</td>\n",
              "      <td>F</td>\n",
              "      <td>Suburban</td>\n",
              "      <td>Married</td>\n",
              "      <td>Corporate Auto</td>\n",
              "      <td>Corporate L3</td>\n",
              "      <td>Offer1</td>\n",
              "      <td>Agent</td>\n",
              "      <td>Two-Door Car</td>\n",
              "      <td>Medsize</td>\n",
              "    </tr>\n",
              "    <tr>\n",
              "      <th>1</th>\n",
              "      <td>QZ44356</td>\n",
              "      <td>Arizona</td>\n",
              "      <td>No</td>\n",
              "      <td>Extended</td>\n",
              "      <td>Bachelor</td>\n",
              "      <td>1/31/11</td>\n",
              "      <td>Unemployed</td>\n",
              "      <td>F</td>\n",
              "      <td>Suburban</td>\n",
              "      <td>Single</td>\n",
              "      <td>Personal Auto</td>\n",
              "      <td>Personal L3</td>\n",
              "      <td>Offer3</td>\n",
              "      <td>Agent</td>\n",
              "      <td>Four-Door Car</td>\n",
              "      <td>Medsize</td>\n",
              "    </tr>\n",
              "    <tr>\n",
              "      <th>2</th>\n",
              "      <td>AI49188</td>\n",
              "      <td>Nevada</td>\n",
              "      <td>No</td>\n",
              "      <td>Premium</td>\n",
              "      <td>Bachelor</td>\n",
              "      <td>2/19/11</td>\n",
              "      <td>Employed</td>\n",
              "      <td>F</td>\n",
              "      <td>Suburban</td>\n",
              "      <td>Married</td>\n",
              "      <td>Personal Auto</td>\n",
              "      <td>Personal L3</td>\n",
              "      <td>Offer1</td>\n",
              "      <td>Agent</td>\n",
              "      <td>Two-Door Car</td>\n",
              "      <td>Medsize</td>\n",
              "    </tr>\n",
              "    <tr>\n",
              "      <th>3</th>\n",
              "      <td>WW63253</td>\n",
              "      <td>California</td>\n",
              "      <td>No</td>\n",
              "      <td>Basic</td>\n",
              "      <td>Bachelor</td>\n",
              "      <td>1/20/11</td>\n",
              "      <td>Unemployed</td>\n",
              "      <td>M</td>\n",
              "      <td>Suburban</td>\n",
              "      <td>Married</td>\n",
              "      <td>Corporate Auto</td>\n",
              "      <td>Corporate L2</td>\n",
              "      <td>Offer1</td>\n",
              "      <td>Call Center</td>\n",
              "      <td>SUV</td>\n",
              "      <td>Medsize</td>\n",
              "    </tr>\n",
              "    <tr>\n",
              "      <th>4</th>\n",
              "      <td>HB64268</td>\n",
              "      <td>Washington</td>\n",
              "      <td>No</td>\n",
              "      <td>Basic</td>\n",
              "      <td>Bachelor</td>\n",
              "      <td>2/3/11</td>\n",
              "      <td>Employed</td>\n",
              "      <td>M</td>\n",
              "      <td>Rural</td>\n",
              "      <td>Single</td>\n",
              "      <td>Personal Auto</td>\n",
              "      <td>Personal L1</td>\n",
              "      <td>Offer1</td>\n",
              "      <td>Agent</td>\n",
              "      <td>Four-Door Car</td>\n",
              "      <td>Medsize</td>\n",
              "    </tr>\n",
              "    <tr>\n",
              "      <th>...</th>\n",
              "      <td>...</td>\n",
              "      <td>...</td>\n",
              "      <td>...</td>\n",
              "      <td>...</td>\n",
              "      <td>...</td>\n",
              "      <td>...</td>\n",
              "      <td>...</td>\n",
              "      <td>...</td>\n",
              "      <td>...</td>\n",
              "      <td>...</td>\n",
              "      <td>...</td>\n",
              "      <td>...</td>\n",
              "      <td>...</td>\n",
              "      <td>...</td>\n",
              "      <td>...</td>\n",
              "      <td>...</td>\n",
              "    </tr>\n",
              "    <tr>\n",
              "      <th>9129</th>\n",
              "      <td>LA72316</td>\n",
              "      <td>California</td>\n",
              "      <td>No</td>\n",
              "      <td>Basic</td>\n",
              "      <td>Bachelor</td>\n",
              "      <td>2/10/11</td>\n",
              "      <td>Employed</td>\n",
              "      <td>M</td>\n",
              "      <td>Urban</td>\n",
              "      <td>Married</td>\n",
              "      <td>Personal Auto</td>\n",
              "      <td>Personal L1</td>\n",
              "      <td>Offer2</td>\n",
              "      <td>Web</td>\n",
              "      <td>Four-Door Car</td>\n",
              "      <td>Medsize</td>\n",
              "    </tr>\n",
              "    <tr>\n",
              "      <th>9130</th>\n",
              "      <td>PK87824</td>\n",
              "      <td>California</td>\n",
              "      <td>Yes</td>\n",
              "      <td>Extended</td>\n",
              "      <td>College</td>\n",
              "      <td>2/12/11</td>\n",
              "      <td>Employed</td>\n",
              "      <td>F</td>\n",
              "      <td>Suburban</td>\n",
              "      <td>Divorced</td>\n",
              "      <td>Corporate Auto</td>\n",
              "      <td>Corporate L3</td>\n",
              "      <td>Offer1</td>\n",
              "      <td>Branch</td>\n",
              "      <td>Four-Door Car</td>\n",
              "      <td>Medsize</td>\n",
              "    </tr>\n",
              "    <tr>\n",
              "      <th>9131</th>\n",
              "      <td>TD14365</td>\n",
              "      <td>California</td>\n",
              "      <td>No</td>\n",
              "      <td>Extended</td>\n",
              "      <td>Bachelor</td>\n",
              "      <td>2/6/11</td>\n",
              "      <td>Unemployed</td>\n",
              "      <td>M</td>\n",
              "      <td>Suburban</td>\n",
              "      <td>Single</td>\n",
              "      <td>Corporate Auto</td>\n",
              "      <td>Corporate L2</td>\n",
              "      <td>Offer1</td>\n",
              "      <td>Branch</td>\n",
              "      <td>Four-Door Car</td>\n",
              "      <td>Medsize</td>\n",
              "    </tr>\n",
              "    <tr>\n",
              "      <th>9132</th>\n",
              "      <td>UP19263</td>\n",
              "      <td>California</td>\n",
              "      <td>No</td>\n",
              "      <td>Extended</td>\n",
              "      <td>College</td>\n",
              "      <td>2/3/11</td>\n",
              "      <td>Employed</td>\n",
              "      <td>M</td>\n",
              "      <td>Suburban</td>\n",
              "      <td>Married</td>\n",
              "      <td>Personal Auto</td>\n",
              "      <td>Personal L2</td>\n",
              "      <td>Offer3</td>\n",
              "      <td>Branch</td>\n",
              "      <td>Four-Door Car</td>\n",
              "      <td>Large</td>\n",
              "    </tr>\n",
              "    <tr>\n",
              "      <th>9133</th>\n",
              "      <td>Y167826</td>\n",
              "      <td>California</td>\n",
              "      <td>No</td>\n",
              "      <td>Extended</td>\n",
              "      <td>College</td>\n",
              "      <td>2/14/11</td>\n",
              "      <td>Unemployed</td>\n",
              "      <td>M</td>\n",
              "      <td>Suburban</td>\n",
              "      <td>Single</td>\n",
              "      <td>Corporate Auto</td>\n",
              "      <td>Corporate L3</td>\n",
              "      <td>Offer4</td>\n",
              "      <td>Call Center</td>\n",
              "      <td>Two-Door Car</td>\n",
              "      <td>Medsize</td>\n",
              "    </tr>\n",
              "  </tbody>\n",
              "</table>\n",
              "<p>9134 rows × 16 columns</p>\n",
              "</div>"
            ],
            "text/plain": [
              "     Customer       State Response  ... Sales Channel  Vehicle Class Vehicle Size\n",
              "0     BU79786  Washington       No  ...         Agent   Two-Door Car      Medsize\n",
              "1     QZ44356     Arizona       No  ...         Agent  Four-Door Car      Medsize\n",
              "2     AI49188      Nevada       No  ...         Agent   Two-Door Car      Medsize\n",
              "3     WW63253  California       No  ...   Call Center            SUV      Medsize\n",
              "4     HB64268  Washington       No  ...         Agent  Four-Door Car      Medsize\n",
              "...       ...         ...      ...  ...           ...            ...          ...\n",
              "9129  LA72316  California       No  ...           Web  Four-Door Car      Medsize\n",
              "9130  PK87824  California      Yes  ...        Branch  Four-Door Car      Medsize\n",
              "9131  TD14365  California       No  ...        Branch  Four-Door Car      Medsize\n",
              "9132  UP19263  California       No  ...        Branch  Four-Door Car        Large\n",
              "9133  Y167826  California       No  ...   Call Center   Two-Door Car      Medsize\n",
              "\n",
              "[9134 rows x 16 columns]"
            ]
          },
          "metadata": {
            "tags": []
          },
          "execution_count": 34
        }
      ]
    },
    {
      "cell_type": "code",
      "metadata": {
        "colab": {
          "base_uri": "https://localhost:8080/"
        },
        "id": "cAl_1pPUACuY",
        "outputId": "9cddf616-71ea-4dc1-e70f-8748bf89bc87"
      },
      "source": [
        "#find null values\n",
        "data.isna().sum()\n",
        "#data.dtypes"
      ],
      "execution_count": null,
      "outputs": [
        {
          "output_type": "execute_result",
          "data": {
            "text/plain": [
              "Customer                         0\n",
              "State                            0\n",
              "Customer Lifetime Value          0\n",
              "Response                         0\n",
              "Coverage                         0\n",
              "Education                        0\n",
              "Effective To Date                0\n",
              "EmploymentStatus                 0\n",
              "Gender                           0\n",
              "Income                           0\n",
              "Location Code                    0\n",
              "Marital Status                   0\n",
              "Monthly Premium Auto             0\n",
              "Months Since Last Claim          0\n",
              "Months Since Policy Inception    0\n",
              "Number of Open Complaints        0\n",
              "Number of Policies               0\n",
              "Policy Type                      0\n",
              "Policy                           0\n",
              "Renew Offer Type                 0\n",
              "Sales Channel                    0\n",
              "Total Claim Amount               0\n",
              "Vehicle Class                    0\n",
              "Vehicle Size                     0\n",
              "dtype: int64"
            ]
          },
          "metadata": {
            "tags": []
          },
          "execution_count": 35
        }
      ]
    },
    {
      "cell_type": "code",
      "metadata": {
        "colab": {
          "base_uri": "https://localhost:8080/"
        },
        "id": "D-KQmpA-AM08",
        "outputId": "943ab432-fec1-4b14-d4af-e94f49e0150a"
      },
      "source": [
        "#Datetime format- Extract the months from the dataset and store in a separate column. Then filter the data to show only the information for the first quarter , ie Jan Feb and March\n",
        "import time\n",
        "from datetime import time\n",
        "\n",
        "data['Effective To Date'] = pd.to_datetime(data['Effective To Date'],errors='coerce')\n",
        "data.dtypes"
      ],
      "execution_count": null,
      "outputs": [
        {
          "output_type": "execute_result",
          "data": {
            "text/plain": [
              "Customer                                 object\n",
              "State                                    object\n",
              "Customer Lifetime Value                 float64\n",
              "Response                                 object\n",
              "Coverage                                 object\n",
              "Education                                object\n",
              "Effective To Date                datetime64[ns]\n",
              "EmploymentStatus                         object\n",
              "Gender                                   object\n",
              "Income                                    int64\n",
              "Location Code                            object\n",
              "Marital Status                           object\n",
              "Monthly Premium Auto                      int64\n",
              "Months Since Last Claim                   int64\n",
              "Months Since Policy Inception             int64\n",
              "Number of Open Complaints                 int64\n",
              "Number of Policies                        int64\n",
              "Policy Type                              object\n",
              "Policy                                   object\n",
              "Renew Offer Type                         object\n",
              "Sales Channel                            object\n",
              "Total Claim Amount                      float64\n",
              "Vehicle Class                            object\n",
              "Vehicle Size                             object\n",
              "dtype: object"
            ]
          },
          "metadata": {
            "tags": []
          },
          "execution_count": 36
        }
      ]
    },
    {
      "cell_type": "code",
      "metadata": {
        "id": "sh5oqPBqBiXT"
      },
      "source": [
        "#filter the data for the first quarter:\n",
        "data['months']=pd.DatetimeIndex(data['Effective To Date']).month\n",
        "#data.loc[data['months']<4]\n",
        "#data.loc[data['Effective To Date']<'2011-04-01']\n",
        "#data['Effective To Date'][0].month\n",
        "#month_li = lambda x:data['Effective To Date'][x].month\n",
        "#data['month1'] = list(map(lambda x:data['Effective To Date'][x].month,data['Effective To Date']))\n",
        "#data.head()\n",
        "\n"
      ],
      "execution_count": null,
      "outputs": []
    },
    {
      "cell_type": "code",
      "metadata": {
        "colab": {
          "base_uri": "https://localhost:8080/",
          "height": 612
        },
        "id": "p4p6RIOzPEbV",
        "outputId": "82afa8f2-968f-4c98-9980-06ece7f6a302"
      },
      "source": [
        "#filter the data for first 4 months:\n",
        "data['months']<4\n",
        "\n",
        "data.sample(6)"
      ],
      "execution_count": null,
      "outputs": [
        {
          "output_type": "execute_result",
          "data": {
            "text/plain": [
              "0       True\n",
              "1       True\n",
              "2       True\n",
              "3       True\n",
              "4       True\n",
              "        ... \n",
              "9129    True\n",
              "9130    True\n",
              "9131    True\n",
              "9132    True\n",
              "9133    True\n",
              "Name: months, Length: 9134, dtype: bool"
            ]
          },
          "metadata": {
            "tags": []
          },
          "execution_count": 38
        },
        {
          "output_type": "execute_result",
          "data": {
            "text/html": [
              "<div>\n",
              "<style scoped>\n",
              "    .dataframe tbody tr th:only-of-type {\n",
              "        vertical-align: middle;\n",
              "    }\n",
              "\n",
              "    .dataframe tbody tr th {\n",
              "        vertical-align: top;\n",
              "    }\n",
              "\n",
              "    .dataframe thead th {\n",
              "        text-align: right;\n",
              "    }\n",
              "</style>\n",
              "<table border=\"1\" class=\"dataframe\">\n",
              "  <thead>\n",
              "    <tr style=\"text-align: right;\">\n",
              "      <th></th>\n",
              "      <th>Customer</th>\n",
              "      <th>State</th>\n",
              "      <th>Customer Lifetime Value</th>\n",
              "      <th>Response</th>\n",
              "      <th>Coverage</th>\n",
              "      <th>Education</th>\n",
              "      <th>Effective To Date</th>\n",
              "      <th>EmploymentStatus</th>\n",
              "      <th>Gender</th>\n",
              "      <th>Income</th>\n",
              "      <th>Location Code</th>\n",
              "      <th>Marital Status</th>\n",
              "      <th>Monthly Premium Auto</th>\n",
              "      <th>Months Since Last Claim</th>\n",
              "      <th>Months Since Policy Inception</th>\n",
              "      <th>Number of Open Complaints</th>\n",
              "      <th>Number of Policies</th>\n",
              "      <th>Policy Type</th>\n",
              "      <th>Policy</th>\n",
              "      <th>Renew Offer Type</th>\n",
              "      <th>Sales Channel</th>\n",
              "      <th>Total Claim Amount</th>\n",
              "      <th>Vehicle Class</th>\n",
              "      <th>Vehicle Size</th>\n",
              "      <th>months</th>\n",
              "    </tr>\n",
              "  </thead>\n",
              "  <tbody>\n",
              "    <tr>\n",
              "      <th>2173</th>\n",
              "      <td>BK21146</td>\n",
              "      <td>Arizona</td>\n",
              "      <td>22103.507200</td>\n",
              "      <td>Yes</td>\n",
              "      <td>Basic</td>\n",
              "      <td>College</td>\n",
              "      <td>2011-01-30</td>\n",
              "      <td>Unemployed</td>\n",
              "      <td>M</td>\n",
              "      <td>0</td>\n",
              "      <td>Suburban</td>\n",
              "      <td>Married</td>\n",
              "      <td>102</td>\n",
              "      <td>35</td>\n",
              "      <td>48</td>\n",
              "      <td>0</td>\n",
              "      <td>2</td>\n",
              "      <td>Personal Auto</td>\n",
              "      <td>Personal L2</td>\n",
              "      <td>Offer1</td>\n",
              "      <td>Branch</td>\n",
              "      <td>489.600000</td>\n",
              "      <td>SUV</td>\n",
              "      <td>Medsize</td>\n",
              "      <td>1</td>\n",
              "    </tr>\n",
              "    <tr>\n",
              "      <th>6131</th>\n",
              "      <td>CV63337</td>\n",
              "      <td>Oregon</td>\n",
              "      <td>3499.139864</td>\n",
              "      <td>No</td>\n",
              "      <td>Extended</td>\n",
              "      <td>Bachelor</td>\n",
              "      <td>2011-01-08</td>\n",
              "      <td>Employed</td>\n",
              "      <td>F</td>\n",
              "      <td>37273</td>\n",
              "      <td>Suburban</td>\n",
              "      <td>Divorced</td>\n",
              "      <td>88</td>\n",
              "      <td>10</td>\n",
              "      <td>87</td>\n",
              "      <td>0</td>\n",
              "      <td>1</td>\n",
              "      <td>Personal Auto</td>\n",
              "      <td>Personal L3</td>\n",
              "      <td>Offer1</td>\n",
              "      <td>Branch</td>\n",
              "      <td>422.400000</td>\n",
              "      <td>Two-Door Car</td>\n",
              "      <td>Large</td>\n",
              "      <td>1</td>\n",
              "    </tr>\n",
              "    <tr>\n",
              "      <th>6789</th>\n",
              "      <td>GE39783</td>\n",
              "      <td>Oregon</td>\n",
              "      <td>5356.137712</td>\n",
              "      <td>No</td>\n",
              "      <td>Basic</td>\n",
              "      <td>College</td>\n",
              "      <td>2011-01-04</td>\n",
              "      <td>Employed</td>\n",
              "      <td>F</td>\n",
              "      <td>60752</td>\n",
              "      <td>Suburban</td>\n",
              "      <td>Married</td>\n",
              "      <td>67</td>\n",
              "      <td>4</td>\n",
              "      <td>19</td>\n",
              "      <td>0</td>\n",
              "      <td>7</td>\n",
              "      <td>Personal Auto</td>\n",
              "      <td>Personal L1</td>\n",
              "      <td>Offer1</td>\n",
              "      <td>Agent</td>\n",
              "      <td>414.106436</td>\n",
              "      <td>Four-Door Car</td>\n",
              "      <td>Medsize</td>\n",
              "      <td>1</td>\n",
              "    </tr>\n",
              "    <tr>\n",
              "      <th>4724</th>\n",
              "      <td>MD44130</td>\n",
              "      <td>Oregon</td>\n",
              "      <td>5712.380598</td>\n",
              "      <td>No</td>\n",
              "      <td>Basic</td>\n",
              "      <td>High School or Below</td>\n",
              "      <td>2011-01-28</td>\n",
              "      <td>Employed</td>\n",
              "      <td>M</td>\n",
              "      <td>24882</td>\n",
              "      <td>Suburban</td>\n",
              "      <td>Married</td>\n",
              "      <td>72</td>\n",
              "      <td>13</td>\n",
              "      <td>20</td>\n",
              "      <td>0</td>\n",
              "      <td>8</td>\n",
              "      <td>Corporate Auto</td>\n",
              "      <td>Corporate L2</td>\n",
              "      <td>Offer4</td>\n",
              "      <td>Branch</td>\n",
              "      <td>345.600000</td>\n",
              "      <td>Two-Door Car</td>\n",
              "      <td>Large</td>\n",
              "      <td>1</td>\n",
              "    </tr>\n",
              "    <tr>\n",
              "      <th>5110</th>\n",
              "      <td>JV12632</td>\n",
              "      <td>Washington</td>\n",
              "      <td>2858.992036</td>\n",
              "      <td>No</td>\n",
              "      <td>Extended</td>\n",
              "      <td>Master</td>\n",
              "      <td>2011-01-20</td>\n",
              "      <td>Unemployed</td>\n",
              "      <td>F</td>\n",
              "      <td>0</td>\n",
              "      <td>Urban</td>\n",
              "      <td>Married</td>\n",
              "      <td>83</td>\n",
              "      <td>25</td>\n",
              "      <td>91</td>\n",
              "      <td>4</td>\n",
              "      <td>1</td>\n",
              "      <td>Corporate Auto</td>\n",
              "      <td>Corporate L2</td>\n",
              "      <td>Offer4</td>\n",
              "      <td>Branch</td>\n",
              "      <td>355.385287</td>\n",
              "      <td>Four-Door Car</td>\n",
              "      <td>Medsize</td>\n",
              "      <td>1</td>\n",
              "    </tr>\n",
              "    <tr>\n",
              "      <th>3048</th>\n",
              "      <td>QG25195</td>\n",
              "      <td>Oregon</td>\n",
              "      <td>4866.647452</td>\n",
              "      <td>No</td>\n",
              "      <td>Basic</td>\n",
              "      <td>Bachelor</td>\n",
              "      <td>2011-01-10</td>\n",
              "      <td>Unemployed</td>\n",
              "      <td>F</td>\n",
              "      <td>0</td>\n",
              "      <td>Suburban</td>\n",
              "      <td>Single</td>\n",
              "      <td>68</td>\n",
              "      <td>4</td>\n",
              "      <td>17</td>\n",
              "      <td>0</td>\n",
              "      <td>9</td>\n",
              "      <td>Personal Auto</td>\n",
              "      <td>Personal L3</td>\n",
              "      <td>Offer1</td>\n",
              "      <td>Agent</td>\n",
              "      <td>444.030724</td>\n",
              "      <td>Four-Door Car</td>\n",
              "      <td>Medsize</td>\n",
              "      <td>1</td>\n",
              "    </tr>\n",
              "  </tbody>\n",
              "</table>\n",
              "</div>"
            ],
            "text/plain": [
              "     Customer       State  ...  Vehicle Size months\n",
              "2173  BK21146     Arizona  ...       Medsize      1\n",
              "6131  CV63337      Oregon  ...         Large      1\n",
              "6789  GE39783      Oregon  ...       Medsize      1\n",
              "4724  MD44130      Oregon  ...         Large      1\n",
              "5110  JV12632  Washington  ...       Medsize      1\n",
              "3048  QG25195      Oregon  ...       Medsize      1\n",
              "\n",
              "[6 rows x 25 columns]"
            ]
          },
          "metadata": {
            "tags": []
          },
          "execution_count": 38
        }
      ]
    },
    {
      "cell_type": "code",
      "metadata": {
        "id": "l4dKGe2sByQF"
      },
      "source": [
        "#BONUS: Put all the previously mentioned data transformations into a function.\n",
        "\n",
        "def std_col(dataframe,columnheader):\n",
        "  cols =[]\n",
        "  for column_name in dataframe.columns:\n",
        "    cols.append(column_name.lower())\n",
        "  column_names = cols\n",
        "  return column_names\n",
        "\n",
        "def months_df(dataframe,columnheader):\n",
        "  dataframe['columnheader']=pd.to_datetime(['columnheader'],errors='coerce')\n",
        "  return pd.DatetimeIndex(dataframe['columnheader']).month\n",
        "\n",
        "\n",
        "\n"
      ],
      "execution_count": null,
      "outputs": []
    },
    {
      "cell_type": "markdown",
      "metadata": {
        "id": "1p12kk949VNO"
      },
      "source": [
        "# **Lab | Customer Analysis Round 3**"
      ]
    },
    {
      "cell_type": "markdown",
      "metadata": {
        "id": "SVITEouU2E4K"
      },
      "source": [
        "**EDA (Exploratory Data Analysis)**"
      ]
    },
    {
      "cell_type": "code",
      "metadata": {
        "colab": {
          "base_uri": "https://localhost:8080/",
          "height": 360
        },
        "id": "_FSNjXeR676z",
        "outputId": "322c2b8d-3079-42a5-b8f7-49521b4dbeb9"
      },
      "source": [
        "#show info of the dataframe\n",
        "\n",
        "data.head()\n"
      ],
      "execution_count": null,
      "outputs": [
        {
          "output_type": "execute_result",
          "data": {
            "text/html": [
              "<div>\n",
              "<style scoped>\n",
              "    .dataframe tbody tr th:only-of-type {\n",
              "        vertical-align: middle;\n",
              "    }\n",
              "\n",
              "    .dataframe tbody tr th {\n",
              "        vertical-align: top;\n",
              "    }\n",
              "\n",
              "    .dataframe thead th {\n",
              "        text-align: right;\n",
              "    }\n",
              "</style>\n",
              "<table border=\"1\" class=\"dataframe\">\n",
              "  <thead>\n",
              "    <tr style=\"text-align: right;\">\n",
              "      <th></th>\n",
              "      <th>Customer</th>\n",
              "      <th>State</th>\n",
              "      <th>Customer Lifetime Value</th>\n",
              "      <th>Response</th>\n",
              "      <th>Coverage</th>\n",
              "      <th>Education</th>\n",
              "      <th>Effective To Date</th>\n",
              "      <th>EmploymentStatus</th>\n",
              "      <th>Gender</th>\n",
              "      <th>Income</th>\n",
              "      <th>Location Code</th>\n",
              "      <th>Marital Status</th>\n",
              "      <th>Monthly Premium Auto</th>\n",
              "      <th>Months Since Last Claim</th>\n",
              "      <th>Months Since Policy Inception</th>\n",
              "      <th>Number of Open Complaints</th>\n",
              "      <th>Number of Policies</th>\n",
              "      <th>Policy Type</th>\n",
              "      <th>Policy</th>\n",
              "      <th>Renew Offer Type</th>\n",
              "      <th>Sales Channel</th>\n",
              "      <th>Total Claim Amount</th>\n",
              "      <th>Vehicle Class</th>\n",
              "      <th>Vehicle Size</th>\n",
              "      <th>months</th>\n",
              "    </tr>\n",
              "  </thead>\n",
              "  <tbody>\n",
              "    <tr>\n",
              "      <th>0</th>\n",
              "      <td>BU79786</td>\n",
              "      <td>Washington</td>\n",
              "      <td>2763.519279</td>\n",
              "      <td>No</td>\n",
              "      <td>Basic</td>\n",
              "      <td>Bachelor</td>\n",
              "      <td>2011-02-24</td>\n",
              "      <td>Employed</td>\n",
              "      <td>F</td>\n",
              "      <td>56274</td>\n",
              "      <td>Suburban</td>\n",
              "      <td>Married</td>\n",
              "      <td>69</td>\n",
              "      <td>32</td>\n",
              "      <td>5</td>\n",
              "      <td>0</td>\n",
              "      <td>1</td>\n",
              "      <td>Corporate Auto</td>\n",
              "      <td>Corporate L3</td>\n",
              "      <td>Offer1</td>\n",
              "      <td>Agent</td>\n",
              "      <td>384.811147</td>\n",
              "      <td>Two-Door Car</td>\n",
              "      <td>Medsize</td>\n",
              "      <td>2</td>\n",
              "    </tr>\n",
              "    <tr>\n",
              "      <th>1</th>\n",
              "      <td>QZ44356</td>\n",
              "      <td>Arizona</td>\n",
              "      <td>6979.535903</td>\n",
              "      <td>No</td>\n",
              "      <td>Extended</td>\n",
              "      <td>Bachelor</td>\n",
              "      <td>2011-01-31</td>\n",
              "      <td>Unemployed</td>\n",
              "      <td>F</td>\n",
              "      <td>0</td>\n",
              "      <td>Suburban</td>\n",
              "      <td>Single</td>\n",
              "      <td>94</td>\n",
              "      <td>13</td>\n",
              "      <td>42</td>\n",
              "      <td>0</td>\n",
              "      <td>8</td>\n",
              "      <td>Personal Auto</td>\n",
              "      <td>Personal L3</td>\n",
              "      <td>Offer3</td>\n",
              "      <td>Agent</td>\n",
              "      <td>1131.464935</td>\n",
              "      <td>Four-Door Car</td>\n",
              "      <td>Medsize</td>\n",
              "      <td>1</td>\n",
              "    </tr>\n",
              "    <tr>\n",
              "      <th>2</th>\n",
              "      <td>AI49188</td>\n",
              "      <td>Nevada</td>\n",
              "      <td>12887.431650</td>\n",
              "      <td>No</td>\n",
              "      <td>Premium</td>\n",
              "      <td>Bachelor</td>\n",
              "      <td>2011-02-19</td>\n",
              "      <td>Employed</td>\n",
              "      <td>F</td>\n",
              "      <td>48767</td>\n",
              "      <td>Suburban</td>\n",
              "      <td>Married</td>\n",
              "      <td>108</td>\n",
              "      <td>18</td>\n",
              "      <td>38</td>\n",
              "      <td>0</td>\n",
              "      <td>2</td>\n",
              "      <td>Personal Auto</td>\n",
              "      <td>Personal L3</td>\n",
              "      <td>Offer1</td>\n",
              "      <td>Agent</td>\n",
              "      <td>566.472247</td>\n",
              "      <td>Two-Door Car</td>\n",
              "      <td>Medsize</td>\n",
              "      <td>2</td>\n",
              "    </tr>\n",
              "    <tr>\n",
              "      <th>3</th>\n",
              "      <td>WW63253</td>\n",
              "      <td>California</td>\n",
              "      <td>7645.861827</td>\n",
              "      <td>No</td>\n",
              "      <td>Basic</td>\n",
              "      <td>Bachelor</td>\n",
              "      <td>2011-01-20</td>\n",
              "      <td>Unemployed</td>\n",
              "      <td>M</td>\n",
              "      <td>0</td>\n",
              "      <td>Suburban</td>\n",
              "      <td>Married</td>\n",
              "      <td>106</td>\n",
              "      <td>18</td>\n",
              "      <td>65</td>\n",
              "      <td>0</td>\n",
              "      <td>7</td>\n",
              "      <td>Corporate Auto</td>\n",
              "      <td>Corporate L2</td>\n",
              "      <td>Offer1</td>\n",
              "      <td>Call Center</td>\n",
              "      <td>529.881344</td>\n",
              "      <td>SUV</td>\n",
              "      <td>Medsize</td>\n",
              "      <td>1</td>\n",
              "    </tr>\n",
              "    <tr>\n",
              "      <th>4</th>\n",
              "      <td>HB64268</td>\n",
              "      <td>Washington</td>\n",
              "      <td>2813.692575</td>\n",
              "      <td>No</td>\n",
              "      <td>Basic</td>\n",
              "      <td>Bachelor</td>\n",
              "      <td>2011-02-03</td>\n",
              "      <td>Employed</td>\n",
              "      <td>M</td>\n",
              "      <td>43836</td>\n",
              "      <td>Rural</td>\n",
              "      <td>Single</td>\n",
              "      <td>73</td>\n",
              "      <td>12</td>\n",
              "      <td>44</td>\n",
              "      <td>0</td>\n",
              "      <td>1</td>\n",
              "      <td>Personal Auto</td>\n",
              "      <td>Personal L1</td>\n",
              "      <td>Offer1</td>\n",
              "      <td>Agent</td>\n",
              "      <td>138.130879</td>\n",
              "      <td>Four-Door Car</td>\n",
              "      <td>Medsize</td>\n",
              "      <td>2</td>\n",
              "    </tr>\n",
              "  </tbody>\n",
              "</table>\n",
              "</div>"
            ],
            "text/plain": [
              "  Customer       State  ...  Vehicle Size months\n",
              "0  BU79786  Washington  ...       Medsize      2\n",
              "1  QZ44356     Arizona  ...       Medsize      1\n",
              "2  AI49188      Nevada  ...       Medsize      2\n",
              "3  WW63253  California  ...       Medsize      1\n",
              "4  HB64268  Washington  ...       Medsize      2\n",
              "\n",
              "[5 rows x 25 columns]"
            ]
          },
          "metadata": {
            "tags": []
          },
          "execution_count": 40
        }
      ]
    },
    {
      "cell_type": "code",
      "metadata": {
        "colab": {
          "base_uri": "https://localhost:8080/",
          "height": 244
        },
        "id": "WQiboEnz9TR-",
        "outputId": "6d91f71d-fbf2-4073-a8e4-d483fecde0eb"
      },
      "source": [
        "data.describe(include =[np.object])"
      ],
      "execution_count": null,
      "outputs": [
        {
          "output_type": "execute_result",
          "data": {
            "text/html": [
              "<div>\n",
              "<style scoped>\n",
              "    .dataframe tbody tr th:only-of-type {\n",
              "        vertical-align: middle;\n",
              "    }\n",
              "\n",
              "    .dataframe tbody tr th {\n",
              "        vertical-align: top;\n",
              "    }\n",
              "\n",
              "    .dataframe thead th {\n",
              "        text-align: right;\n",
              "    }\n",
              "</style>\n",
              "<table border=\"1\" class=\"dataframe\">\n",
              "  <thead>\n",
              "    <tr style=\"text-align: right;\">\n",
              "      <th></th>\n",
              "      <th>Customer</th>\n",
              "      <th>State</th>\n",
              "      <th>Response</th>\n",
              "      <th>Coverage</th>\n",
              "      <th>Education</th>\n",
              "      <th>EmploymentStatus</th>\n",
              "      <th>Gender</th>\n",
              "      <th>Location Code</th>\n",
              "      <th>Marital Status</th>\n",
              "      <th>Policy Type</th>\n",
              "      <th>Policy</th>\n",
              "      <th>Renew Offer Type</th>\n",
              "      <th>Sales Channel</th>\n",
              "      <th>Vehicle Class</th>\n",
              "      <th>Vehicle Size</th>\n",
              "    </tr>\n",
              "  </thead>\n",
              "  <tbody>\n",
              "    <tr>\n",
              "      <th>count</th>\n",
              "      <td>9134</td>\n",
              "      <td>9134</td>\n",
              "      <td>9134</td>\n",
              "      <td>9134</td>\n",
              "      <td>9134</td>\n",
              "      <td>9134</td>\n",
              "      <td>9134</td>\n",
              "      <td>9134</td>\n",
              "      <td>9134</td>\n",
              "      <td>9134</td>\n",
              "      <td>9134</td>\n",
              "      <td>9134</td>\n",
              "      <td>9134</td>\n",
              "      <td>9134</td>\n",
              "      <td>9134</td>\n",
              "    </tr>\n",
              "    <tr>\n",
              "      <th>unique</th>\n",
              "      <td>9134</td>\n",
              "      <td>5</td>\n",
              "      <td>2</td>\n",
              "      <td>3</td>\n",
              "      <td>5</td>\n",
              "      <td>5</td>\n",
              "      <td>2</td>\n",
              "      <td>3</td>\n",
              "      <td>3</td>\n",
              "      <td>3</td>\n",
              "      <td>9</td>\n",
              "      <td>4</td>\n",
              "      <td>4</td>\n",
              "      <td>6</td>\n",
              "      <td>3</td>\n",
              "    </tr>\n",
              "    <tr>\n",
              "      <th>top</th>\n",
              "      <td>NK53902</td>\n",
              "      <td>California</td>\n",
              "      <td>No</td>\n",
              "      <td>Basic</td>\n",
              "      <td>Bachelor</td>\n",
              "      <td>Employed</td>\n",
              "      <td>F</td>\n",
              "      <td>Suburban</td>\n",
              "      <td>Married</td>\n",
              "      <td>Personal Auto</td>\n",
              "      <td>Personal L3</td>\n",
              "      <td>Offer1</td>\n",
              "      <td>Agent</td>\n",
              "      <td>Four-Door Car</td>\n",
              "      <td>Medsize</td>\n",
              "    </tr>\n",
              "    <tr>\n",
              "      <th>freq</th>\n",
              "      <td>1</td>\n",
              "      <td>3150</td>\n",
              "      <td>7826</td>\n",
              "      <td>5568</td>\n",
              "      <td>2748</td>\n",
              "      <td>5698</td>\n",
              "      <td>4658</td>\n",
              "      <td>5779</td>\n",
              "      <td>5298</td>\n",
              "      <td>6788</td>\n",
              "      <td>3426</td>\n",
              "      <td>3752</td>\n",
              "      <td>3477</td>\n",
              "      <td>4621</td>\n",
              "      <td>6424</td>\n",
              "    </tr>\n",
              "  </tbody>\n",
              "</table>\n",
              "</div>"
            ],
            "text/plain": [
              "       Customer       State Response  ... Sales Channel  Vehicle Class Vehicle Size\n",
              "count      9134        9134     9134  ...          9134           9134         9134\n",
              "unique     9134           5        2  ...             4              6            3\n",
              "top     NK53902  California       No  ...         Agent  Four-Door Car      Medsize\n",
              "freq          1        3150     7826  ...          3477           4621         6424\n",
              "\n",
              "[4 rows x 15 columns]"
            ]
          },
          "metadata": {
            "tags": []
          },
          "execution_count": 41
        }
      ]
    },
    {
      "cell_type": "code",
      "metadata": {
        "colab": {
          "base_uri": "https://localhost:8080/",
          "height": 54
        },
        "id": "ivNn40Sa9kQG",
        "outputId": "7451e3bd-d428-44c1-fc1f-d2493c0536a5"
      },
      "source": [
        "#plotting histogram for response\n",
        "\n",
        "x = data['Response']\n",
        "plt.hist(x, bins=2)\n",
        "plt.gca().set(title='Frequency Histogram', ylabel='Frequency');"
      ],
      "execution_count": null,
      "outputs": [
        {
          "output_type": "display_data",
          "data": {
            "image/png": "[encoded data removed]",
            "text/plain": [
              "<Figure size 432x288 with 1 Axes>"
            ]
          },
          "metadata": {
            "tags": [],
            "needs_background": "light"
          }
        }
      ]
    },
    {
      "cell_type": "code",
      "metadata": {
        "id": "FpN7JzK-984n",
        "colab": {
          "base_uri": "https://localhost:8080/",
          "height": 71
        },
        "outputId": "0d4f916d-3bfc-44c0-b1e4-2fd9a63e991c"
      },
      "source": [
        "#Show a plot of the response rate by the sales channel.\n",
        "\n",
        "\n",
        "#from collections import counter\n",
        "def resp_rate(x):\n",
        "  if x== \"No\":\n",
        "    return 0\n",
        "  else:\n",
        "    return 1\n",
        "\n",
        "data['response rate'] = list(map(resp_rate,data['Response']))\n",
        "#objects = data['response rate']\n",
        "#y_pos = np.arange(len(objects))\n",
        "#performance = [10,8,6,4,2,1]\n",
        "ax = sns.barplot(x=\"response rate\",y=\"Sales Channel\", data=data)\n",
        "#plt.barh(y_pos, performance, align='center')\n",
        "#plt.xlabel('Usage')\n",
        "plt.title('Sales Channel v response rate')\n",
        "\n",
        "plt.show()\n",
        "\n",
        "#plt.scatter(x=\"response rate\",y=\"Sales Channel\")\n",
        "\n",
        "#plt.show()\n",
        "\n",
        "#plt.hist(x, bins=)\n",
        "#plt.gca().set(title='Frequency Histogram', ylabel='Frequency');\n",
        "\n",
        "#plt.hist(x, bins=2)\n",
        "#plt.gca().set(title='Frequency Histogram', ylabel='Frequency');\n",
        "#Show a plot of the response rate by income.\n",
        "#plt.scatter(x=data['reponse rate'],y=data['Sales Channel'])\n",
        "#plt.show()"
      ],
      "execution_count": null,
      "outputs": [
        {
          "output_type": "execute_result",
          "data": {
            "text/plain": [
              "Text(0.5, 1.0, 'Sales Channel v response rate')"
            ]
          },
          "metadata": {
            "tags": []
          },
          "execution_count": 43
        },
        {
          "output_type": "display_data",
          "data": {
            "image/png": "[encoded data removed]",
            "text/plain": [
              "<Figure size 432x288 with 1 Axes>"
            ]
          },
          "metadata": {
            "tags": [],
            "needs_background": "light"
          }
        }
      ]
    },
    {
      "cell_type": "code",
      "metadata": {
        "colab": {
          "base_uri": "https://localhost:8080/",
          "height": 71
        },
        "id": "JCvtn1bnAN8D",
        "outputId": "395e20a1-914d-4950-c429-b8ee9ac73478"
      },
      "source": [
        "#Show a plot of the response rate by the total claim amount.\n",
        "#ax = sns.barplot(x=\"response rate\", y=\"Total Claim Amount\", data=data,estimator = np.sum)\n",
        "#plt.title('Total Claim Amount v response rate')\n",
        "ax = sns.barplot(x=\"response rate\", y=\"Total Claim Amount\", hue=\"Sales Channel\", data=data,estimator = np.sum)\n",
        "\n",
        "plt.title('Total Claim Amount v response rate by Sales Channel')\n",
        "#ax = sns.barplot(x=\"response rate\", y=\"Total Claim Amount\", data=data, label = \"Response rate\", color=\"b\")\n",
        "\n",
        "#plt.barh(y_pos, performance, align='center')\n",
        "#plt.xlabel('Usage')\n",
        "\n",
        "\n",
        "plt.show()"
      ],
      "execution_count": null,
      "outputs": [
        {
          "output_type": "execute_result",
          "data": {
            "text/plain": [
              "Text(0.5, 1.0, 'Total Claim Amount v response rate by Sales Channel')"
            ]
          },
          "metadata": {
            "tags": []
          },
          "execution_count": 44
        },
        {
          "output_type": "display_data",
          "data": {
            "image/png": "[encoded data removed]",
            "text/plain": [
              "<Figure size 432x288 with 1 Axes>"
            ]
          },
          "metadata": {
            "tags": [],
            "needs_background": "light"
          }
        }
      ]
    },
    {
      "cell_type": "code",
      "metadata": {
        "colab": {
          "base_uri": "https://localhost:8080/",
          "height": 71
        },
        "id": "vJ-d73J7GAXW",
        "outputId": "b77289dc-81eb-40a2-bd78-43440c6adddc"
      },
      "source": [
        "#Show a plot of the response rate by income\n",
        "#y_positions = range(len(data['response rate']))\n",
        "\n",
        "ax = sns.barplot(x=\"response rate\", y=\"Income\", hue=\"Sales Channel\", data=data, estimator=np.sum)\n",
        "\n",
        "\n",
        "plt.title(\"Reponse vs Income\")\n",
        "plt.show()\n",
        "\n",
        "\n"
      ],
      "execution_count": null,
      "outputs": [
        {
          "output_type": "execute_result",
          "data": {
            "text/plain": [
              "Text(0.5, 1.0, 'Reponse vs Income')"
            ]
          },
          "metadata": {
            "tags": []
          },
          "execution_count": 45
        },
        {
          "output_type": "display_data",
          "data": {
            "image/png": "[encoded data removed]",
            "text/plain": [
              "<Figure size 432x288 with 1 Axes>"
            ]
          },
          "metadata": {
            "tags": [],
            "needs_background": "light"
          }
        }
      ]
    },
    {
      "cell_type": "markdown",
      "metadata": {
        "id": "X3Zlap3-OG1T"
      },
      "source": [
        "# **Lab | Customer Analysis Round 4**"
      ]
    },
    {
      "cell_type": "code",
      "metadata": {
        "colab": {
          "base_uri": "https://localhost:8080/"
        },
        "id": "2eKKAGiuOb1c",
        "outputId": "3569e220-4f46-4d6c-b0e1-011255341f15"
      },
      "source": [
        "data.shape"
      ],
      "execution_count": null,
      "outputs": [
        {
          "output_type": "execute_result",
          "data": {
            "text/plain": [
              "(9134, 26)"
            ]
          },
          "metadata": {
            "tags": []
          },
          "execution_count": 46
        }
      ]
    },
    {
      "cell_type": "markdown",
      "metadata": {
        "id": "S_Xy12qqOsn0"
      },
      "source": [
        "1. Check the data types of the columns. Get the numeric data into dataframe called numerical and categorical columns in a dataframe called categoricals. (You can use np.number and np.object to select the numerical data types and categorical data types respectively)"
      ]
    },
    {
      "cell_type": "code",
      "metadata": {
        "colab": {
          "base_uri": "https://localhost:8080/"
        },
        "id": "HfbCQQMOOdv3",
        "outputId": "d771e7f6-76db-4a69-e5bf-402c0afa37f0"
      },
      "source": [
        "data.dtypes #checking the data types of the columns\n"
      ],
      "execution_count": null,
      "outputs": [
        {
          "output_type": "execute_result",
          "data": {
            "text/plain": [
              "Customer                                 object\n",
              "State                                    object\n",
              "Customer Lifetime Value                 float64\n",
              "Response                                 object\n",
              "Coverage                                 object\n",
              "Education                                object\n",
              "Effective To Date                datetime64[ns]\n",
              "EmploymentStatus                         object\n",
              "Gender                                   object\n",
              "Income                                    int64\n",
              "Location Code                            object\n",
              "Marital Status                           object\n",
              "Monthly Premium Auto                      int64\n",
              "Months Since Last Claim                   int64\n",
              "Months Since Policy Inception             int64\n",
              "Number of Open Complaints                 int64\n",
              "Number of Policies                        int64\n",
              "Policy Type                              object\n",
              "Policy                                   object\n",
              "Renew Offer Type                         object\n",
              "Sales Channel                            object\n",
              "Total Claim Amount                      float64\n",
              "Vehicle Class                            object\n",
              "Vehicle Size                             object\n",
              "months                                    int64\n",
              "response rate                             int64\n",
              "dtype: object"
            ]
          },
          "metadata": {
            "tags": []
          },
          "execution_count": 47
        }
      ]
    },
    {
      "cell_type": "code",
      "metadata": {
        "colab": {
          "base_uri": "https://localhost:8080/"
        },
        "id": "0m8eabbnQCAq",
        "outputId": "fe19b4d3-226e-4d87-eeb3-b412e235992e"
      },
      "source": [
        "numerical = data.select_dtypes(include = np.number)\n",
        "categorical = data.select_dtypes(include = np.object)\n",
        "print(\"------\")\n",
        "numerical.dtypes\n",
        "print(\"------\")\n",
        "print(\"------\")\n",
        "categorical.dtypes\n",
        "#data['numerical'] = data._get_numeric_data()  #getting numeric data types, and creating a column\n",
        "#data['categorical'] =data.select_dtypes('object') #getting categorical data types, and creating a column\n",
        "#data['numerical'].dtypes"
      ],
      "execution_count": null,
      "outputs": [
        {
          "output_type": "stream",
          "text": [
            "------\n"
          ],
          "name": "stdout"
        },
        {
          "output_type": "execute_result",
          "data": {
            "text/plain": [
              "Customer Lifetime Value          float64\n",
              "Income                             int64\n",
              "Monthly Premium Auto               int64\n",
              "Months Since Last Claim            int64\n",
              "Months Since Policy Inception      int64\n",
              "Number of Open Complaints          int64\n",
              "Number of Policies                 int64\n",
              "Total Claim Amount               float64\n",
              "months                             int64\n",
              "response rate                      int64\n",
              "dtype: object"
            ]
          },
          "metadata": {
            "tags": []
          },
          "execution_count": 48
        },
        {
          "output_type": "stream",
          "text": [
            "------\n",
            "------\n"
          ],
          "name": "stdout"
        },
        {
          "output_type": "execute_result",
          "data": {
            "text/plain": [
              "Customer            object\n",
              "State               object\n",
              "Response            object\n",
              "Coverage            object\n",
              "Education           object\n",
              "EmploymentStatus    object\n",
              "Gender              object\n",
              "Location Code       object\n",
              "Marital Status      object\n",
              "Policy Type         object\n",
              "Policy              object\n",
              "Renew Offer Type    object\n",
              "Sales Channel       object\n",
              "Vehicle Class       object\n",
              "Vehicle Size        object\n",
              "dtype: object"
            ]
          },
          "metadata": {
            "tags": []
          },
          "execution_count": 48
        }
      ]
    },
    {
      "cell_type": "code",
      "metadata": {
        "colab": {
          "base_uri": "https://localhost:8080/"
        },
        "id": "qZZYA8YmQYPy",
        "outputId": "76f3c048-8f89-455f-e67b-95b70bfaf235"
      },
      "source": [
        "#data.select_dtypes('object')\n",
        "numerical.shape"
      ],
      "execution_count": null,
      "outputs": [
        {
          "output_type": "execute_result",
          "data": {
            "text/plain": [
              "(9134, 10)"
            ]
          },
          "metadata": {
            "tags": []
          },
          "execution_count": 49
        }
      ]
    },
    {
      "cell_type": "code",
      "metadata": {
        "colab": {
          "base_uri": "https://localhost:8080/"
        },
        "id": "MLD-emB1bW2O",
        "outputId": "da68c233-15cf-4a1c-9f7a-e5da9234b01b"
      },
      "source": [
        "categorical.shape"
      ],
      "execution_count": null,
      "outputs": [
        {
          "output_type": "execute_result",
          "data": {
            "text/plain": [
              "(9134, 15)"
            ]
          },
          "metadata": {
            "tags": []
          },
          "execution_count": 50
        }
      ]
    },
    {
      "cell_type": "markdown",
      "metadata": {
        "id": "GZWjgrJfOum3"
      },
      "source": [
        "2. Now we will try to check the normality of the numerical variables visually\n",
        "\n",
        "  1. Use seaborn library to construct distribution plots for the numerical variables\n",
        "  2. Use Matplotlib to construct histograms\n",
        "  3. Do the distributions for different numerical variables look like a normal distribution"
      ]
    },
    {
      "cell_type": "code",
      "metadata": {
        "colab": {
          "base_uri": "https://localhost:8080/",
          "height": 309
        },
        "id": "3UjTqhH6O19D",
        "outputId": "f3f1d6e3-5bc9-4dac-c336-12058e13e50b"
      },
      "source": [
        "#print distribution plots\n",
        "%matplotlib inline\n",
        "for i in range(8):\n",
        "  sns.displot(numerical.iloc[:,i])\n",
        "  plt.show()\n",
        "#sns.(numerical.iloc[:i])\n",
        "#plt.show()\n",
        "#plt.show()\n"
      ],
      "execution_count": null,
      "outputs": [
        {
          "output_type": "execute_result",
          "data": {
            "text/plain": [
              "<seaborn.axisgrid.FacetGrid at 0x7fc81e4a8a90>"
            ]
          },
          "metadata": {
            "tags": []
          },
          "execution_count": 51
        },
        {
          "output_type": "display_data",
          "data": {
            "image/png": "[encoded data removed]",
            "text/plain": [
              "<Figure size 360x360 with 1 Axes>"
            ]
          },
          "metadata": {
            "tags": [],
            "needs_background": "light"
          }
        },
        {
          "output_type": "execute_result",
          "data": {
            "text/plain": [
              "<seaborn.axisgrid.FacetGrid at 0x7fc7ffe66f90>"
            ]
          },
          "metadata": {
            "tags": []
          },
          "execution_count": 51
        },
        {
          "output_type": "display_data",
          "data": {
            "image/png": "[encoded data removed]",
            "text/plain": [
              "<Figure size 360x360 with 1 Axes>"
            ]
          },
          "metadata": {
            "tags": [],
            "needs_background": "light"
          }
        },
        {
          "output_type": "execute_result",
          "data": {
            "text/plain": [
              "<seaborn.axisgrid.FacetGrid at 0x7fc817f61590>"
            ]
          },
          "metadata": {
            "tags": []
          },
          "execution_count": 51
        },
        {
          "output_type": "display_data",
          "data": {
            "image/png": "[encoded data removed]",
            "text/plain": [
              "<Figure size 360x360 with 1 Axes>"
            ]
          },
          "metadata": {
            "tags": [],
            "needs_background": "light"
          }
        },
        {
          "output_type": "execute_result",
          "data": {
            "text/plain": [
              "<seaborn.axisgrid.FacetGrid at 0x7fc7ffe7cd10>"
            ]
          },
          "metadata": {
            "tags": []
          },
          "execution_count": 51
        },
        {
          "output_type": "display_data",
          "data": {
            "image/png": "[encoded data removed]",
            "text/plain": [
              "<Figure size 360x360 with 1 Axes>"
            ]
          },
          "metadata": {
            "tags": [],
            "needs_background": "light"
          }
        },
        {
          "output_type": "execute_result",
          "data": {
            "text/plain": [
              "<seaborn.axisgrid.FacetGrid at 0x7fc7ffca9090>"
            ]
          },
          "metadata": {
            "tags": []
          },
          "execution_count": 51
        },
        {
          "output_type": "display_data",
          "data": {
            "image/png": "[encoded data removed]",
            "text/plain": [
              "<Figure size 360x360 with 1 Axes>"
            ]
          },
          "metadata": {
            "tags": [],
            "needs_background": "light"
          }
        },
        {
          "output_type": "execute_result",
          "data": {
            "text/plain": [
              "<seaborn.axisgrid.FacetGrid at 0x7fc7ffb5dc10>"
            ]
          },
          "metadata": {
            "tags": []
          },
          "execution_count": 51
        },
        {
          "output_type": "display_data",
          "data": {
            "image/png": "[encoded data removed]",
            "text/plain": [
              "<Figure size 360x360 with 1 Axes>"
            ]
          },
          "metadata": {
            "tags": [],
            "needs_background": "light"
          }
        },
        {
          "output_type": "execute_result",
          "data": {
            "text/plain": [
              "<seaborn.axisgrid.FacetGrid at 0x7fc7ffc90390>"
            ]
          },
          "metadata": {
            "tags": []
          },
          "execution_count": 51
        },
        {
          "output_type": "display_data",
          "data": {
            "image/png": "[encoded data removed]",
            "text/plain": [
              "<Figure size 360x360 with 1 Axes>"
            ]
          },
          "metadata": {
            "tags": [],
            "needs_background": "light"
          }
        },
        {
          "output_type": "execute_result",
          "data": {
            "text/plain": [
              "<seaborn.axisgrid.FacetGrid at 0x7fc7ffb12310>"
            ]
          },
          "metadata": {
            "tags": []
          },
          "execution_count": 51
        },
        {
          "output_type": "display_data",
          "data": {
            "image/png": "[encoded data removed]",
            "text/plain": [
              "<Figure size 360x360 with 1 Axes>"
            ]
          },
          "metadata": {
            "tags": [],
            "needs_background": "light"
          }
        }
      ]
    },
    {
      "cell_type": "code",
      "metadata": {
        "colab": {
          "base_uri": "https://localhost:8080/",
          "height": 1000
        },
        "id": "UnV9LWwEebGJ",
        "outputId": "6d4cc101-f3a6-41b4-b50c-0b7f943f98a6"
      },
      "source": [
        "#using matplotlib to create histograms:\n",
        "%matplotlib inline**Pa\n",
        "#plt.hist(numerical['Monthly Premium Auto'],bins=3)\n",
        "#plt.show\n",
        "\n",
        "for i in range(8):\n",
        "  plt.hist(numerical.iloc[:,i],bins=20)\n",
        "  #plt.hist(numerical[i],bins=3)\n",
        "  plt.show()"
      ],
      "execution_count": null,
      "outputs": [
        {
          "output_type": "execute_result",
          "data": {
            "text/plain": [
              "(array([4.726e+03, 2.534e+03, 7.960e+02, 3.970e+02, 2.400e+02, 1.730e+02,\n",
              "        8.800e+01, 6.600e+01, 4.700e+01, 2.800e+01, 1.300e+01, 7.000e+00,\n",
              "        4.000e+00, 6.000e+00, 3.000e+00, 2.000e+00, 1.000e+00, 2.000e+00,\n",
              "        0.000e+00, 1.000e+00]),\n",
              " array([ 1898.007675  ,  5969.37635075, 10040.7450265 , 14112.11370225,\n",
              "        18183.482378  , 22254.85105375, 26326.2197295 , 30397.58840525,\n",
              "        34468.957081  , 38540.32575675, 42611.6944325 , 46683.06310825,\n",
              "        50754.431784  , 54825.80045975, 58897.1691355 , 62968.53781125,\n",
              "        67039.906487  , 71111.27516275, 75182.6438385 , 79254.01251425,\n",
              "        83325.38119   ]),\n",
              " <a list of 20 Patch objects>)"
            ]
          },
          "metadata": {
            "tags": []
          },
          "execution_count": 52
        },
        {
          "output_type": "display_data",
          "data": {
            "image/png": "[encoded data removed]",
            "text/plain": [
              "<Figure size 432x288 with 1 Axes>"
            ]
          },
          "metadata": {
            "tags": [],
            "needs_background": "light"
          }
        },
        {
          "output_type": "execute_result",
          "data": {
            "text/plain": [
              "(array([2317.,    0.,  247.,  275.,  690.,  691.,  441.,  452.,  422.,\n",
              "         327.,  381.,  410.,  410.,  349.,  375.,  323.,  271.,  274.,\n",
              "         238.,  241.]),\n",
              " array([    0.  ,  4999.05,  9998.1 , 14997.15, 19996.2 , 24995.25,\n",
              "        29994.3 , 34993.35, 39992.4 , 44991.45, 49990.5 , 54989.55,\n",
              "        59988.6 , 64987.65, 69986.7 , 74985.75, 79984.8 , 84983.85,\n",
              "        89982.9 , 94981.95, 99981.  ]),\n",
              " <a list of 20 Patch objects>)"
            ]
          },
          "metadata": {
            "tags": []
          },
          "execution_count": 52
        },
        {
          "output_type": "display_data",
          "data": {
            "image/png": "[encoded data removed]",
            "text/plain": [
              "<Figure size 432x288 with 1 Axes>"
            ]
          },
          "metadata": {
            "tags": [],
            "needs_background": "light"
          }
        },
        {
          "output_type": "execute_result",
          "data": {
            "text/plain": [
              "(array([3413., 1302.,  983., 1091., 1127.,  426.,  262.,   48.,   41.,\n",
              "          39.,  141.,  106.,   38.,   24.,   16.,   29.,   10.,   11.,\n",
              "          19.,    8.]),\n",
              " array([ 61.  ,  72.85,  84.7 ,  96.55, 108.4 , 120.25, 132.1 , 143.95,\n",
              "        155.8 , 167.65, 179.5 , 191.35, 203.2 , 215.05, 226.9 , 238.75,\n",
              "        250.6 , 262.45, 274.3 , 286.15, 298.  ]),\n",
              " <a list of 20 Patch objects>)"
            ]
          },
          "metadata": {
            "tags": []
          },
          "execution_count": 52
        },
        {
          "output_type": "display_data",
          "data": {
            "image/png": "[encoded data removed]",
            "text/plain": [
              "<Figure size 432x288 with 1 Axes>"
            ]
          },
          "metadata": {
            "tags": [],
            "needs_background": "light"
          }
        },
        {
          "output_type": "execute_result",
          "data": {
            "text/plain": [
              "(array([659., 710., 648., 364., 612., 556., 570., 285., 554., 558., 475.,\n",
              "        231., 451., 450., 422., 182., 407., 372., 317., 311.]),\n",
              " array([ 0.  ,  1.75,  3.5 ,  5.25,  7.  ,  8.75, 10.5 , 12.25, 14.  ,\n",
              "        15.75, 17.5 , 19.25, 21.  , 22.75, 24.5 , 26.25, 28.  , 29.75,\n",
              "        31.5 , 33.25, 35.  ]),\n",
              " <a list of 20 Patch objects>)"
            ]
          },
          "metadata": {
            "tags": []
          },
          "execution_count": 52
        },
        {
          "output_type": "display_data",
          "data": {
            "image/png": "[encoded data removed]",
            "text/plain": [
              "<Figure size 432x288 with 1 Axes>"
            ]
          },
          "metadata": {
            "tags": [],
            "needs_background": "light"
          }
        },
        {
          "output_type": "execute_result",
          "data": {
            "text/plain": [
              "(array([462., 416., 482., 476., 471., 467., 487., 497., 494., 466., 495.,\n",
              "        505., 513., 435., 482., 462., 380., 421., 395., 328.]),\n",
              " array([ 0.  ,  4.95,  9.9 , 14.85, 19.8 , 24.75, 29.7 , 34.65, 39.6 ,\n",
              "        44.55, 49.5 , 54.45, 59.4 , 64.35, 69.3 , 74.25, 79.2 , 84.15,\n",
              "        89.1 , 94.05, 99.  ]),\n",
              " <a list of 20 Patch objects>)"
            ]
          },
          "metadata": {
            "tags": []
          },
          "execution_count": 52
        },
        {
          "output_type": "display_data",
          "data": {
            "image/png": "[encoded data removed]",
            "text/plain": [
              "<Figure size 432x288 with 1 Axes>"
            ]
          },
          "metadata": {
            "tags": [],
            "needs_background": "light"
          }
        },
        {
          "output_type": "execute_result",
          "data": {
            "text/plain": [
              "(array([7252.,    0.,    0.,    0., 1011.,    0.,    0.,    0.,  374.,\n",
              "           0.,    0.,    0.,  292.,    0.,    0.,    0.,  149.,    0.,\n",
              "           0.,   56.]),\n",
              " array([0.  , 0.25, 0.5 , 0.75, 1.  , 1.25, 1.5 , 1.75, 2.  , 2.25, 2.5 ,\n",
              "        2.75, 3.  , 3.25, 3.5 , 3.75, 4.  , 4.25, 4.5 , 4.75, 5.  ]),\n",
              " <a list of 20 Patch objects>)"
            ]
          },
          "metadata": {
            "tags": []
          },
          "execution_count": 52
        },
        {
          "output_type": "display_data",
          "data": {
            "image/png": "[encoded data removed]",
            "text/plain": [
              "<Figure size 432x288 with 1 Axes>"
            ]
          },
          "metadata": {
            "tags": [],
            "needs_background": "light"
          }
        },
        {
          "output_type": "execute_result",
          "data": {
            "text/plain": [
              "(array([3251.,    0., 2294.,    0.,    0., 1168.,    0.,  409.,    0.,\n",
              "           0.,  407.,    0.,  372.,    0.,    0.,  433.,    0.,  384.,\n",
              "           0.,  416.]),\n",
              " array([1. , 1.4, 1.8, 2.2, 2.6, 3. , 3.4, 3.8, 4.2, 4.6, 5. , 5.4, 5.8,\n",
              "        6.2, 6.6, 7. , 7.4, 7.8, 8.2, 8.6, 9. ]),\n",
              " <a list of 20 Patch objects>)"
            ]
          },
          "metadata": {
            "tags": []
          },
          "execution_count": 52
        },
        {
          "output_type": "display_data",
          "data": {
            "image/png": "[encoded data removed]",
            "text/plain": [
              "<Figure size 432x288 with 1 Axes>"
            ]
          },
          "metadata": {
            "tags": [],
            "needs_background": "light"
          }
        },
        {
          "output_type": "execute_result",
          "data": {
            "text/plain": [
              "(array([1.279e+03, 1.171e+03, 2.764e+03, 1.971e+03, 8.450e+02, 4.570e+02,\n",
              "        2.650e+02, 1.210e+02, 1.010e+02, 8.200e+01, 2.500e+01, 1.100e+01,\n",
              "        1.200e+01, 1.100e+01, 8.000e+00, 5.000e+00, 3.000e+00, 1.000e+00,\n",
              "        0.000e+00, 2.000e+00]),\n",
              " array([9.90070000e-02, 1.44756041e+02, 2.89413074e+02, 4.34070108e+02,\n",
              "        5.78727141e+02, 7.23384175e+02, 8.68041208e+02, 1.01269824e+03,\n",
              "        1.15735528e+03, 1.30201231e+03, 1.44666934e+03, 1.59132638e+03,\n",
              "        1.73598341e+03, 1.88064044e+03, 2.02529748e+03, 2.16995451e+03,\n",
              "        2.31461154e+03, 2.45926858e+03, 2.60392561e+03, 2.74858264e+03,\n",
              "        2.89323968e+03]),\n",
              " <a list of 20 Patch objects>)"
            ]
          },
          "metadata": {
            "tags": []
          },
          "execution_count": 52
        },
        {
          "output_type": "display_data",
          "data": {
            "image/png": "[encoded data removed]",
            "text/plain": [
              "<Figure size 432x288 with 1 Axes>"
            ]
          },
          "metadata": {
            "tags": [],
            "needs_background": "light"
          }
        }
      ]
    },
    {
      "cell_type": "markdown",
      "metadata": {
        "id": "x1Q4JnBJm4jO"
      },
      "source": [
        "None of them are normal distributions. But there are a couple in there that could be transformed into normal distributions by using some of the methods we know."
      ]
    },
    {
      "cell_type": "markdown",
      "metadata": {
        "id": "btFcYeluO5jz"
      },
      "source": [
        "3. For the numerical variables, check the multicollinearity between the features. Please note that we will use the column total_claim_amount later as the target variable."
      ]
    },
    {
      "cell_type": "code",
      "metadata": {
        "colab": {
          "base_uri": "https://localhost:8080/"
        },
        "id": "KuLrNGsAsQPI",
        "outputId": "e3f982f1-718b-43a8-dcbc-eedf57a32d7a"
      },
      "source": [
        "#target variable is total_claim_amount so it is a label, so we should drop it.\n",
        "\n",
        "numerical1 = numerical.drop(['Total Claim Amount'], axis=1)\n",
        "numerical1.columns"
      ],
      "execution_count": null,
      "outputs": [
        {
          "output_type": "execute_result",
          "data": {
            "text/plain": [
              "Index(['Customer Lifetime Value', 'Income', 'Monthly Premium Auto',\n",
              "       'Months Since Last Claim', 'Months Since Policy Inception',\n",
              "       'Number of Open Complaints', 'Number of Policies', 'months',\n",
              "       'response rate'],\n",
              "      dtype='object')"
            ]
          },
          "metadata": {
            "tags": []
          },
          "execution_count": 53
        }
      ]
    },
    {
      "cell_type": "code",
      "metadata": {
        "colab": {
          "base_uri": "https://localhost:8080/",
          "height": 620
        },
        "id": "cWzeNK9EY-Oy",
        "outputId": "843018c2-8203-4ba7-fe2e-7a5a7ad97598"
      },
      "source": [
        "correlations_matrix = numerical1.corr()\n",
        "correlations_matrix"
      ],
      "execution_count": null,
      "outputs": [
        {
          "output_type": "execute_result",
          "data": {
            "text/html": [
              "<div>\n",
              "<style scoped>\n",
              "    .dataframe tbody tr th:only-of-type {\n",
              "        vertical-align: middle;\n",
              "    }\n",
              "\n",
              "    .dataframe tbody tr th {\n",
              "        vertical-align: top;\n",
              "    }\n",
              "\n",
              "    .dataframe thead th {\n",
              "        text-align: right;\n",
              "    }\n",
              "</style>\n",
              "<table border=\"1\" class=\"dataframe\">\n",
              "  <thead>\n",
              "    <tr style=\"text-align: right;\">\n",
              "      <th></th>\n",
              "      <th>Customer Lifetime Value</th>\n",
              "      <th>Income</th>\n",
              "      <th>Monthly Premium Auto</th>\n",
              "      <th>Months Since Last Claim</th>\n",
              "      <th>Months Since Policy Inception</th>\n",
              "      <th>Number of Open Complaints</th>\n",
              "      <th>Number of Policies</th>\n",
              "      <th>months</th>\n",
              "      <th>response rate</th>\n",
              "    </tr>\n",
              "  </thead>\n",
              "  <tbody>\n",
              "    <tr>\n",
              "      <th>Customer Lifetime Value</th>\n",
              "      <td>1.000000</td>\n",
              "      <td>0.024366</td>\n",
              "      <td>0.396262</td>\n",
              "      <td>0.011517</td>\n",
              "      <td>0.009418</td>\n",
              "      <td>-0.036343</td>\n",
              "      <td>0.021955</td>\n",
              "      <td>-0.006096</td>\n",
              "      <td>-0.008930</td>\n",
              "    </tr>\n",
              "    <tr>\n",
              "      <th>Income</th>\n",
              "      <td>0.024366</td>\n",
              "      <td>1.000000</td>\n",
              "      <td>-0.016665</td>\n",
              "      <td>-0.026715</td>\n",
              "      <td>-0.000875</td>\n",
              "      <td>0.006408</td>\n",
              "      <td>-0.008656</td>\n",
              "      <td>0.000169</td>\n",
              "      <td>0.011932</td>\n",
              "    </tr>\n",
              "    <tr>\n",
              "      <th>Monthly Premium Auto</th>\n",
              "      <td>0.396262</td>\n",
              "      <td>-0.016665</td>\n",
              "      <td>1.000000</td>\n",
              "      <td>0.005026</td>\n",
              "      <td>0.020257</td>\n",
              "      <td>-0.013122</td>\n",
              "      <td>-0.011233</td>\n",
              "      <td>0.011467</td>\n",
              "      <td>0.010966</td>\n",
              "    </tr>\n",
              "    <tr>\n",
              "      <th>Months Since Last Claim</th>\n",
              "      <td>0.011517</td>\n",
              "      <td>-0.026715</td>\n",
              "      <td>0.005026</td>\n",
              "      <td>1.000000</td>\n",
              "      <td>-0.042959</td>\n",
              "      <td>0.005354</td>\n",
              "      <td>0.009136</td>\n",
              "      <td>-0.020921</td>\n",
              "      <td>-0.016597</td>\n",
              "    </tr>\n",
              "    <tr>\n",
              "      <th>Months Since Policy Inception</th>\n",
              "      <td>0.009418</td>\n",
              "      <td>-0.000875</td>\n",
              "      <td>0.020257</td>\n",
              "      <td>-0.042959</td>\n",
              "      <td>1.000000</td>\n",
              "      <td>-0.001158</td>\n",
              "      <td>-0.013333</td>\n",
              "      <td>0.011010</td>\n",
              "      <td>0.002952</td>\n",
              "    </tr>\n",
              "    <tr>\n",
              "      <th>Number of Open Complaints</th>\n",
              "      <td>-0.036343</td>\n",
              "      <td>0.006408</td>\n",
              "      <td>-0.013122</td>\n",
              "      <td>0.005354</td>\n",
              "      <td>-0.001158</td>\n",
              "      <td>1.000000</td>\n",
              "      <td>0.001498</td>\n",
              "      <td>-0.006335</td>\n",
              "      <td>-0.009881</td>\n",
              "    </tr>\n",
              "    <tr>\n",
              "      <th>Number of Policies</th>\n",
              "      <td>0.021955</td>\n",
              "      <td>-0.008656</td>\n",
              "      <td>-0.011233</td>\n",
              "      <td>0.009136</td>\n",
              "      <td>-0.013333</td>\n",
              "      <td>0.001498</td>\n",
              "      <td>1.000000</td>\n",
              "      <td>0.009305</td>\n",
              "      <td>-0.020891</td>\n",
              "    </tr>\n",
              "    <tr>\n",
              "      <th>months</th>\n",
              "      <td>-0.006096</td>\n",
              "      <td>0.000169</td>\n",
              "      <td>0.011467</td>\n",
              "      <td>-0.020921</td>\n",
              "      <td>0.011010</td>\n",
              "      <td>-0.006335</td>\n",
              "      <td>0.009305</td>\n",
              "      <td>1.000000</td>\n",
              "      <td>-0.034221</td>\n",
              "    </tr>\n",
              "    <tr>\n",
              "      <th>response rate</th>\n",
              "      <td>-0.008930</td>\n",
              "      <td>0.011932</td>\n",
              "      <td>0.010966</td>\n",
              "      <td>-0.016597</td>\n",
              "      <td>0.002952</td>\n",
              "      <td>-0.009881</td>\n",
              "      <td>-0.020891</td>\n",
              "      <td>-0.034221</td>\n",
              "      <td>1.000000</td>\n",
              "    </tr>\n",
              "  </tbody>\n",
              "</table>\n",
              "</div>"
            ],
            "text/plain": [
              "                               Customer Lifetime Value  ...  response rate\n",
              "Customer Lifetime Value                       1.000000  ...      -0.008930\n",
              "Income                                        0.024366  ...       0.011932\n",
              "Monthly Premium Auto                          0.396262  ...       0.010966\n",
              "Months Since Last Claim                       0.011517  ...      -0.016597\n",
              "Months Since Policy Inception                 0.009418  ...       0.002952\n",
              "Number of Open Complaints                    -0.036343  ...      -0.009881\n",
              "Number of Policies                            0.021955  ...      -0.020891\n",
              "months                                       -0.006096  ...      -0.034221\n",
              "response rate                                -0.008930  ...       1.000000\n",
              "\n",
              "[9 rows x 9 columns]"
            ]
          },
          "metadata": {
            "tags": []
          },
          "execution_count": 54
        }
      ]
    },
    {
      "cell_type": "code",
      "metadata": {
        "colab": {
          "base_uri": "https://localhost:8080/"
        },
        "id": "idsg6H9Jezcg",
        "outputId": "f2e52bd9-10fe-4fba-8dbe-065e6492686c"
      },
      "source": [
        "#checking multicollinearty with VIF\n",
        "import pandas.util.testing as tm\n",
        "from statsmodels.stats.outliers_influence import variance_inflation_factor\n",
        "#creating VIF dataframe\n",
        "vif_data = pd.DataFrame()\n",
        "vif_data['feature'] = numerical1.columns\n",
        "\n",
        "#calculating VIF for each feature\n",
        "\n",
        "vif_data['VIF'] = [variance_inflation_factor(numerical1.values,i) for i in range(len(numerical1.columns))]\n",
        "\n",
        "print(vif_data)\n"
      ],
      "execution_count": null,
      "outputs": [
        {
          "output_type": "stream",
          "text": [
            "/usr/local/lib/python3.7/dist-packages/ipykernel_launcher.py:2: FutureWarning: pandas.util.testing is deprecated. Use the functions in the public API at pandas.testing instead.\n",
            "  \n"
          ],
          "name": "stderr"
        },
        {
          "output_type": "stream",
          "text": [
            "                         feature       VIF\n",
            "0        Customer Lifetime Value  2.806485\n",
            "1                         Income  2.369922\n",
            "2           Monthly Premium Auto  7.662958\n",
            "3        Months Since Last Claim  2.916716\n",
            "4  Months Since Policy Inception  3.521986\n",
            "5      Number of Open Complaints  1.170289\n",
            "6             Number of Policies  2.386211\n",
            "7                         months  6.452077\n",
            "8                  response rate  1.157929\n"
          ],
          "name": "stdout"
        }
      ]
    },
    {
      "cell_type": "markdown",
      "metadata": {
        "id": "7v5-tx0Ng_nY"
      },
      "source": [
        "A greater VIF means greater correlation. This is because it is inversely proportional to 1-R^2. VIF above 5 indicates a high multicollinearity. From the VIF calcualted above, only \"Monthly Premium auto\" has value over 5 (its about 6.419968). This suggests that Monthly Premium Auto might be highly multicollinear."
      ]
    },
    {
      "cell_type": "markdown",
      "metadata": {
        "id": "CPACze_FkBQd"
      },
      "source": [
        "Collinearity is a linear association between two predictors. Multicollinearity is a situation where two or more predictors are highly linearly related. In general, an absolute correlation coefficient of >0.7 among two or more predictors indicates the presence of multicollinearity.\n"
      ]
    },
    {
      "cell_type": "markdown",
      "metadata": {
        "id": "-z7BGWjmO_lK"
      },
      "source": [
        "**Task** Drop one of the two features that show a high correlation between them (greater than 0.9). Write code for both the correlation matrix and for seaborn heatmap. If there is no pair of features that have a high correlation, then do not drop any features"
      ]
    },
    {
      "cell_type": "code",
      "metadata": {
        "id": "8rccMPHHPALK",
        "colab": {
          "base_uri": "https://localhost:8080/",
          "height": 71
        },
        "outputId": "51b6a53d-9804-48d3-f075-963a813dfcc2"
      },
      "source": [
        "#creating heatmap\n",
        "plt.figure(figsize = (12,5))\n",
        "sns.heatmap(correlations_matrix,annot =True, linewidths =.10, data=numerical1)\n",
        "plt.show()"
      ],
      "execution_count": null,
      "outputs": [
        {
          "output_type": "execute_result",
          "data": {
            "text/plain": [
              "<Figure size 864x360 with 0 Axes>"
            ]
          },
          "metadata": {
            "tags": []
          },
          "execution_count": 56
        },
        {
          "output_type": "execute_result",
          "data": {
            "text/plain": [
              "<matplotlib.axes._subplots.AxesSubplot at 0x7fc7ff5a6fd0>"
            ]
          },
          "metadata": {
            "tags": []
          },
          "execution_count": 56
        },
        {
          "output_type": "display_data",
          "data": {
            "image/png": "[encoded data removed]",
            "text/plain": [
              "<Figure size 864x360 with 2 Axes>"
            ]
          },
          "metadata": {
            "tags": [],
            "needs_background": "light"
          }
        }
      ]
    },
    {
      "cell_type": "markdown",
      "metadata": {
        "id": "CRGtZq5JjB5m"
      },
      "source": [
        "Do not see any values that are greater than 0.9. So deciding not to drop anything."
      ]
    },
    {
      "cell_type": "markdown",
      "metadata": {
        "id": "yjApgMsKnkJc"
      },
      "source": [
        "#**Lab | Customer Analysis Round 5**"
      ]
    },
    {
      "cell_type": "markdown",
      "metadata": {
        "id": "092PpjsHoLq8"
      },
      "source": [
        "**Processing Data**\n",
        "(Further processing...)\n"
      ]
    },
    {
      "cell_type": "markdown",
      "metadata": {
        "id": "ItN_eshqoOyZ"
      },
      "source": [
        "**1. X-y split.**"
      ]
    },
    {
      "cell_type": "code",
      "metadata": {
        "colab": {
          "base_uri": "https://localhost:8080/",
          "height": 558
        },
        "id": "sHaoHV-anwTl",
        "outputId": "9f856d97-cb47-4c47-b5c3-4c4992c11a64"
      },
      "source": [
        "y=numerical['Total Claim Amount']\n",
        "X=numerical1\n",
        "\n",
        "X"
      ],
      "execution_count": null,
      "outputs": [
        {
          "output_type": "execute_result",
          "data": {
            "text/html": [
              "<div>\n",
              "<style scoped>\n",
              "    .dataframe tbody tr th:only-of-type {\n",
              "        vertical-align: middle;\n",
              "    }\n",
              "\n",
              "    .dataframe tbody tr th {\n",
              "        vertical-align: top;\n",
              "    }\n",
              "\n",
              "    .dataframe thead th {\n",
              "        text-align: right;\n",
              "    }\n",
              "</style>\n",
              "<table border=\"1\" class=\"dataframe\">\n",
              "  <thead>\n",
              "    <tr style=\"text-align: right;\">\n",
              "      <th></th>\n",
              "      <th>Customer Lifetime Value</th>\n",
              "      <th>Income</th>\n",
              "      <th>Monthly Premium Auto</th>\n",
              "      <th>Months Since Last Claim</th>\n",
              "      <th>Months Since Policy Inception</th>\n",
              "      <th>Number of Open Complaints</th>\n",
              "      <th>Number of Policies</th>\n",
              "      <th>months</th>\n",
              "      <th>response rate</th>\n",
              "    </tr>\n",
              "  </thead>\n",
              "  <tbody>\n",
              "    <tr>\n",
              "      <th>0</th>\n",
              "      <td>2763.519279</td>\n",
              "      <td>56274</td>\n",
              "      <td>69</td>\n",
              "      <td>32</td>\n",
              "      <td>5</td>\n",
              "      <td>0</td>\n",
              "      <td>1</td>\n",
              "      <td>2</td>\n",
              "      <td>0</td>\n",
              "    </tr>\n",
              "    <tr>\n",
              "      <th>1</th>\n",
              "      <td>6979.535903</td>\n",
              "      <td>0</td>\n",
              "      <td>94</td>\n",
              "      <td>13</td>\n",
              "      <td>42</td>\n",
              "      <td>0</td>\n",
              "      <td>8</td>\n",
              "      <td>1</td>\n",
              "      <td>0</td>\n",
              "    </tr>\n",
              "    <tr>\n",
              "      <th>2</th>\n",
              "      <td>12887.431650</td>\n",
              "      <td>48767</td>\n",
              "      <td>108</td>\n",
              "      <td>18</td>\n",
              "      <td>38</td>\n",
              "      <td>0</td>\n",
              "      <td>2</td>\n",
              "      <td>2</td>\n",
              "      <td>0</td>\n",
              "    </tr>\n",
              "    <tr>\n",
              "      <th>3</th>\n",
              "      <td>7645.861827</td>\n",
              "      <td>0</td>\n",
              "      <td>106</td>\n",
              "      <td>18</td>\n",
              "      <td>65</td>\n",
              "      <td>0</td>\n",
              "      <td>7</td>\n",
              "      <td>1</td>\n",
              "      <td>0</td>\n",
              "    </tr>\n",
              "    <tr>\n",
              "      <th>4</th>\n",
              "      <td>2813.692575</td>\n",
              "      <td>43836</td>\n",
              "      <td>73</td>\n",
              "      <td>12</td>\n",
              "      <td>44</td>\n",
              "      <td>0</td>\n",
              "      <td>1</td>\n",
              "      <td>2</td>\n",
              "      <td>0</td>\n",
              "    </tr>\n",
              "    <tr>\n",
              "      <th>...</th>\n",
              "      <td>...</td>\n",
              "      <td>...</td>\n",
              "      <td>...</td>\n",
              "      <td>...</td>\n",
              "      <td>...</td>\n",
              "      <td>...</td>\n",
              "      <td>...</td>\n",
              "      <td>...</td>\n",
              "      <td>...</td>\n",
              "    </tr>\n",
              "    <tr>\n",
              "      <th>9129</th>\n",
              "      <td>23405.987980</td>\n",
              "      <td>71941</td>\n",
              "      <td>73</td>\n",
              "      <td>18</td>\n",
              "      <td>89</td>\n",
              "      <td>0</td>\n",
              "      <td>2</td>\n",
              "      <td>2</td>\n",
              "      <td>0</td>\n",
              "    </tr>\n",
              "    <tr>\n",
              "      <th>9130</th>\n",
              "      <td>3096.511217</td>\n",
              "      <td>21604</td>\n",
              "      <td>79</td>\n",
              "      <td>14</td>\n",
              "      <td>28</td>\n",
              "      <td>0</td>\n",
              "      <td>1</td>\n",
              "      <td>2</td>\n",
              "      <td>1</td>\n",
              "    </tr>\n",
              "    <tr>\n",
              "      <th>9131</th>\n",
              "      <td>8163.890428</td>\n",
              "      <td>0</td>\n",
              "      <td>85</td>\n",
              "      <td>9</td>\n",
              "      <td>37</td>\n",
              "      <td>3</td>\n",
              "      <td>2</td>\n",
              "      <td>2</td>\n",
              "      <td>0</td>\n",
              "    </tr>\n",
              "    <tr>\n",
              "      <th>9132</th>\n",
              "      <td>7524.442436</td>\n",
              "      <td>21941</td>\n",
              "      <td>96</td>\n",
              "      <td>34</td>\n",
              "      <td>3</td>\n",
              "      <td>0</td>\n",
              "      <td>3</td>\n",
              "      <td>2</td>\n",
              "      <td>0</td>\n",
              "    </tr>\n",
              "    <tr>\n",
              "      <th>9133</th>\n",
              "      <td>2611.836866</td>\n",
              "      <td>0</td>\n",
              "      <td>77</td>\n",
              "      <td>3</td>\n",
              "      <td>90</td>\n",
              "      <td>0</td>\n",
              "      <td>1</td>\n",
              "      <td>2</td>\n",
              "      <td>0</td>\n",
              "    </tr>\n",
              "  </tbody>\n",
              "</table>\n",
              "<p>9134 rows × 9 columns</p>\n",
              "</div>"
            ],
            "text/plain": [
              "      Customer Lifetime Value  Income  ...  months  response rate\n",
              "0                 2763.519279   56274  ...       2              0\n",
              "1                 6979.535903       0  ...       1              0\n",
              "2                12887.431650   48767  ...       2              0\n",
              "3                 7645.861827       0  ...       1              0\n",
              "4                 2813.692575   43836  ...       2              0\n",
              "...                       ...     ...  ...     ...            ...\n",
              "9129             23405.987980   71941  ...       2              0\n",
              "9130              3096.511217   21604  ...       2              1\n",
              "9131              8163.890428       0  ...       2              0\n",
              "9132              7524.442436   21941  ...       2              0\n",
              "9133              2611.836866       0  ...       2              0\n",
              "\n",
              "[9134 rows x 9 columns]"
            ]
          },
          "metadata": {
            "tags": []
          },
          "execution_count": 57
        }
      ]
    },
    {
      "cell_type": "code",
      "metadata": {
        "colab": {
          "base_uri": "https://localhost:8080/"
        },
        "id": "SaMvFXiQrT6O",
        "outputId": "dd49aa71-02a5-4bb7-9fb7-7f5a7a36cd6a"
      },
      "source": [
        "from sklearn import linear_model\n",
        "\n",
        "model = linear_model.LinearRegression()\n",
        "model = model.fit(X,y)\n",
        "print(model.intercept_)\n",
        "print(model.coef_)"
      ],
      "execution_count": null,
      "outputs": [
        {
          "output_type": "stream",
          "text": [
            "70.74766719663603\n",
            "[-6.65502354e-04 -3.29501568e-03  5.34054887e+00 -1.39399075e-01\n",
            " -1.02578362e-01 -1.32659492e+00  2.82426486e-01 -2.16972374e-02\n",
            "  1.14996987e+01]\n"
          ],
          "name": "stdout"
        }
      ]
    },
    {
      "cell_type": "code",
      "metadata": {
        "colab": {
          "base_uri": "https://localhost:8080/"
        },
        "id": "Pugs8bjpsKft",
        "outputId": "50486f5e-ddc4-4df3-97dd-baddbdaa7842"
      },
      "source": [
        "sns.pairplot(numerical)\n",
        "plt.show()"
      ],
      "execution_count": null,
      "outputs": [
        {
          "output_type": "execute_result",
          "data": {
            "text/plain": [
              "<seaborn.axisgrid.PairGrid at 0x7fc7ffbc8910>"
            ]
          },
          "metadata": {
            "tags": []
          },
          "execution_count": 59
        }
      ]
    },
    {
      "cell_type": "code",
      "metadata": {
        "id": "M2lzuYgRsdWU"
      },
      "source": [
        "numerical1.describe()"
      ],
      "execution_count": null,
      "outputs": []
    },
    {
      "cell_type": "code",
      "metadata": {
        "id": "2NuASyxVtJcf"
      },
      "source": [
        "sns.displot(numerical1['Customer Lifetime Value'])\n",
        "plt.show()"
      ],
      "execution_count": null,
      "outputs": []
    },
    {
      "cell_type": "markdown",
      "metadata": {
        "id": "nQE-ZxjTuFeq"
      },
      "source": [
        "2. Normalize (numerical)."
      ]
    },
    {
      "cell_type": "code",
      "metadata": {
        "id": "n8ZUUKj_t4Qe"
      },
      "source": [
        "#importing libraries needed\n",
        "\n",
        "from sklearn.preprocessing import MinMaxScaler #map min value to 0 and max value to 1\n",
        "from sklearn.preprocessing import StandardScaler #for each value it will subtract the mean value, shifts the axis, and the .."
      ],
      "execution_count": null,
      "outputs": []
    },
    {
      "cell_type": "code",
      "metadata": {
        "id": "Zeu8JNB1uAGv"
      },
      "source": [
        "#using MinMaxScaler to scale it between values 0 and 1\n",
        "\n",
        "#using numerical1 variable here because we are trying to predict values for 'Total claim Amount', if we have that column scaled as well, we would need to scale it back later to get accurate predicted values.\n",
        "#it does not make sense to give predicted values between 0 and 1 to clients or boss.\n",
        "transformer = MinMaxScaler().fit(numerical1)\n",
        "x_normalized = transformer.transform(numerical1)\n",
        "print(x_normalized.shape)\n",
        "x_normalized = pd.DataFrame(x_normalized,columns=numerical1.columns) \n",
        "x_normalized.head()"
      ],
      "execution_count": null,
      "outputs": []
    },
    {
      "cell_type": "code",
      "metadata": {
        "id": "Av0C7XHcuXZu"
      },
      "source": [
        "transformer = StandardScaler().fit(numerical1)\n",
        "x_standardized = transformer.transform(numerical1)\n",
        "print(x_standardized.shape)\n",
        "x_standardized = pd.DataFrame(x_standardized,columns=numerical1.columns)\n",
        "x_standardized.head()\n",
        "#output will standardize values "
      ],
      "execution_count": null,
      "outputs": []
    },
    {
      "cell_type": "markdown",
      "metadata": {
        "id": "MU6VfXjOsrO4"
      },
      "source": [
        "# **Lab| Customer Analysis Round 6**"
      ]
    },
    {
      "cell_type": "markdown",
      "metadata": {
        "id": "14py8ehRsqBn"
      },
      "source": [
        "**Processing Data**"
      ]
    },
    {
      "cell_type": "markdown",
      "metadata": {
        "id": "WZbubNwhtcKb"
      },
      "source": [
        "1. **One Hot or Label Encoding**"
      ]
    },
    {
      "cell_type": "code",
      "metadata": {
        "id": "hlBPdegxuj60"
      },
      "source": [
        "categorical.head()\n",
        "X_cat = categorical"
      ],
      "execution_count": null,
      "outputs": []
    },
    {
      "cell_type": "code",
      "metadata": {
        "id": "b-caPWi7ejhZ"
      },
      "source": [
        "#Using OneHotEncoder to get categorical variables into multiple numerical columns\n",
        "X_cat1=X_cat.drop(['Customer','State','Response','EmploymentStatus','Education','Gender','Location Code','Marital Status','Policy Type','Policy','Renew Offer Type','Sales Channel','Vehicle Class','Vehicle Size'],axis=1)\n",
        "#import OneHotEncoder, assign encoder to fit of X_cat\n",
        "from sklearn.preprocessing import OneHotEncoder\n",
        "encoder = OneHotEncoder().fit(X_cat1)\n",
        "#Printing categories to see how the values of these variables look like\n",
        "print(encoder.categories_)\n"
      ],
      "execution_count": null,
      "outputs": []
    },
    {
      "cell_type": "code",
      "metadata": {
        "id": "PAFklqVd2CPJ"
      },
      "source": [
        "#some of the above results look quite different. Counting unique values for these:\n",
        "#X_cat1=X_cat.drop(['Customer','State','Response','Coverage','Education','Gender','Location Code','Marital Status','Policy Type','Policy','Renew Offer Type','Sales Channel','Vehicle Class','Vehicle Size'],axis=1)\n",
        "\n",
        "#viewing X_cat1\n",
        "X_cat1.head()"
      ],
      "execution_count": null,
      "outputs": []
    },
    {
      "cell_type": "code",
      "metadata": {
        "id": "53Adznvpth4e"
      },
      "source": [
        "#assign variable encoded to transform and convert to array\n",
        "encoded = encoder.transform(X_cat1).toarray()\n",
        "print(encoded)\n",
        "#create a dataframe with columns with \n",
        "onehot_encoded = pd.DataFrame(encoded,columns=encoder.categories_)\n",
        "onehot_encoded.head()"
      ],
      "execution_count": null,
      "outputs": []
    },
    {
      "cell_type": "code",
      "metadata": {
        "id": "lmo9vSqDtiBy"
      },
      "source": [
        "#Using OneHotEncoder to get categorical variables into multiple numerical columns\n",
        "X_cat2=X_cat.drop(['Customer','State','Response','Coverage','Education','Gender','Location Code','Marital Status','Policy Type','Policy','Renew Offer Type','Sales Channel','Vehicle Class','Vehicle Size'],axis=1)\n",
        "#import OneHotEncoder, assign encoder to fit of X_cat\n",
        "from sklearn.preprocessing import OneHotEncoder\n",
        "encoder2 = OneHotEncoder().fit(X_cat2)\n",
        "#Printing categories to see how the values of these variables look like\n",
        "print(encoder2.categories_)"
      ],
      "execution_count": null,
      "outputs": []
    },
    {
      "cell_type": "code",
      "metadata": {
        "id": "V6bU_ALBtiFZ"
      },
      "source": [
        "encoded1 = encoder2.transform(X_cat2).toarray()\n",
        "print(encoded1)\n",
        "#create a dataframe with columns with \n",
        "onehot_encoded1 = pd.DataFrame(encoded1,columns=encoder2.categories_)\n",
        "onehot_encoded1.head()"
      ],
      "execution_count": null,
      "outputs": []
    },
    {
      "cell_type": "markdown",
      "metadata": {
        "id": "cFJjA0ggti3i"
      },
      "source": [
        "2. **Concat DataFrames**"
      ]
    },
    {
      "cell_type": "code",
      "metadata": {
        "id": "AbEf7chQYyKw"
      },
      "source": [
        "#we can drop one axis from each of these so our dataframes are nice and clean before concatenating\n",
        "#we can drop it because we can still deduce one of the variables from others\n",
        "\n",
        "#onehot_encoded = onehot_encoded.drop(['Extended'],axis=1) #it's deleted already so that it doesn't give error\n",
        "onehot_encoded.head()\n"
      ],
      "execution_count": null,
      "outputs": []
    },
    {
      "cell_type": "code",
      "metadata": {
        "id": "TfbYDTSbZL8_"
      },
      "source": [
        "#onehot_encoded1 = onehot_encoded1.drop(['Disabled'],axis=1) #it's deleted already so that it doesn't give error\n",
        "onehot_encoded1.head()"
      ],
      "execution_count": null,
      "outputs": []
    },
    {
      "cell_type": "code",
      "metadata": {
        "id": "dWJx1VqGtm4H"
      },
      "source": [
        "# let's merge all this information together into a single dataset with all features, now numerical\n",
        "X = pd.concat([x_normalized,onehot_encoded], axis=1)\n",
        "#X = X.rename(columns={(\"Basic,\"):\"Basic Coverage\",(\"Premium,\"):\"Premium Coverage\"},inplace=True)\n",
        "#X = X.drop([\"Total Claim Amount\"],axis=1)\n",
        "\n",
        "X.head()"
      ],
      "execution_count": null,
      "outputs": []
    },
    {
      "cell_type": "code",
      "metadata": {
        "id": "8H2ZKBVcual5"
      },
      "source": [
        "#assigning y to target variable\n",
        "y = numerical['Total Claim Amount']\n",
        "y.head()"
      ],
      "execution_count": null,
      "outputs": []
    },
    {
      "cell_type": "code",
      "metadata": {
        "id": "04MW9AVoYyoi"
      },
      "source": [
        "#dropping total claim amount so our model is not finding the exact answer\n",
        "#X = X.drop([\"Total Claim Amount\"],axis=1)\n",
        "\n",
        "X.head()"
      ],
      "execution_count": null,
      "outputs": []
    },
    {
      "cell_type": "code",
      "metadata": {
        "id": "KUmp7usRua-3"
      },
      "source": [
        "#doing the same for second\n",
        "X1 = pd.concat([x_normalized, onehot_encoded1], axis=1)\n",
        "#X1 = X1.drop([\"Total Claim Amount\"],axis=1)\n",
        "X1.head()"
      ],
      "execution_count": null,
      "outputs": []
    },
    {
      "cell_type": "code",
      "metadata": {
        "id": "82UpJj8HZWxa"
      },
      "source": [
        "#X1 = X1.drop([\"Total Claim Amount\"],axis=1)\n",
        "X1.head()"
      ],
      "execution_count": null,
      "outputs": []
    },
    {
      "cell_type": "code",
      "metadata": {
        "id": "4dPnst35uasM"
      },
      "source": [
        "X2 = pd.concat([x_normalized,onehot_encoded,onehot_encoded1], axis=1)\n",
        "#X2 = X2.drop([\"Total Claim Amount\"],axis=1)\n",
        "X2.head()"
      ],
      "execution_count": null,
      "outputs": []
    },
    {
      "cell_type": "code",
      "metadata": {
        "id": "6B3z46ovZaiL"
      },
      "source": [
        "#X2 = X2.drop([\"Total Claim Amount\"],axis=1)\n",
        "X2.head(2)"
      ],
      "execution_count": null,
      "outputs": []
    },
    {
      "cell_type": "code",
      "metadata": {
        "id": "jS1SfjQluagT"
      },
      "source": [
        "#I am going to test for each X, X1 and X2 to see how modeling and predictions change with different features or combinations of them.\n",
        "#because i am curious\n",
        "from sklearn.model_selection import train_test_split\n",
        "X_train,X_test,y_train,y_test = train_test_split(X,y, test_size =0.2, random_state=100)\n",
        "X1_train,X1_test,y_train,y_test = train_test_split(X1,y, test_size =0.2, random_state=100)\n",
        "X2_train,X2_test,y_train,y_test = train_test_split(X2,y, test_size =0.2, random_state=100)"
      ],
      "execution_count": null,
      "outputs": []
    },
    {
      "cell_type": "code",
      "metadata": {
        "id": "MsY3LuZQuaVp"
      },
      "source": [
        "#printing shape for each of these three\n",
        "\n",
        "print(X_train.shape)\n",
        "print(X_test.shape)\n",
        "print(y_train.shape)\n",
        "print(y_test.shape)\n",
        "print(\"          \")\n",
        "print(\"----------\")\n",
        "print(\"          \")\n",
        "print(X1_train.shape)\n",
        "print(X1_test.shape)\n",
        "print(y_train.shape)\n",
        "print(y_test.shape)\n",
        "print(\"          \")\n",
        "print(\"----------\")\n",
        "print(\"          \")\n",
        "print(X2_train.shape)\n",
        "print(X2_test.shape)\n",
        "print(y_train.shape)\n",
        "print(y_test.shape)"
      ],
      "execution_count": null,
      "outputs": []
    },
    {
      "cell_type": "code",
      "metadata": {
        "id": "l8JB7S_-cBkJ"
      },
      "source": [
        "#checking for X\n",
        "X_train.head(2)"
      ],
      "execution_count": null,
      "outputs": []
    },
    {
      "cell_type": "code",
      "metadata": {
        "id": "fPqALivYcUt6"
      },
      "source": [
        "y_train.head(2)"
      ],
      "execution_count": null,
      "outputs": []
    },
    {
      "cell_type": "code",
      "metadata": {
        "id": "wn8z_As1caHK"
      },
      "source": [
        "X_test.head(2)"
      ],
      "execution_count": null,
      "outputs": []
    },
    {
      "cell_type": "code",
      "metadata": {
        "id": "uA8DfXRYcc9F"
      },
      "source": [
        "y_test.head(2)"
      ],
      "execution_count": null,
      "outputs": []
    },
    {
      "cell_type": "markdown",
      "metadata": {
        "id": "c6EnHiuPcnf6"
      },
      "source": [
        "On all outputs indexes are same, so it looks like it has worked for X, assuming the same happened for X1 and X2 as the codes are same."
      ]
    },
    {
      "cell_type": "markdown",
      "metadata": {
        "id": "q2qdy_x3ubTa"
      },
      "source": [
        "**Linear Regression**"
      ]
    },
    {
      "cell_type": "code",
      "metadata": {
        "id": "ASASPEt2cTor"
      },
      "source": [
        "#training/fitting models\n",
        "\n",
        "model = linear_model.LinearRegression()\n",
        "model = model.fit(X_train,y_train)\n",
        "\n",
        "modelA = linear_model.LinearRegression()\n",
        "modelA = modelA.fit(X1_train,y_train)\n",
        "\n",
        "modelB = linear_model.LinearRegression()\n",
        "modelB = modelB.fit(X2_train,y_train)\n"
      ],
      "execution_count": null,
      "outputs": []
    },
    {
      "cell_type": "code",
      "metadata": {
        "id": "HL_XYdQRuf1_"
      },
      "source": [
        "#Models have been fitted"
      ],
      "execution_count": null,
      "outputs": []
    },
    {
      "cell_type": "markdown",
      "metadata": {
        "id": "r2a-JaJ6ui4u"
      },
      "source": [
        "**Model Validation**"
      ]
    },
    {
      "cell_type": "markdown",
      "metadata": {
        "id": "hlUaxfgpVypH"
      },
      "source": [
        "**R2**\n"
      ]
    },
    {
      "cell_type": "code",
      "metadata": {
        "id": "5zVWkZUFum_u"
      },
      "source": [
        "#Now checking if the model is validated. \n",
        "\n",
        "#checking test portion of dataset scores and comparing:\n",
        "\n",
        "model.predict(X_test)"
      ],
      "execution_count": null,
      "outputs": []
    },
    {
      "cell_type": "code",
      "metadata": {
        "id": "3a3y36kKum4U"
      },
      "source": [
        "modelA.predict(X1_test)"
      ],
      "execution_count": null,
      "outputs": []
    },
    {
      "cell_type": "code",
      "metadata": {
        "id": "myBT59i0umxl"
      },
      "source": [
        "modelB.predict(X2_test)"
      ],
      "execution_count": null,
      "outputs": []
    },
    {
      "cell_type": "code",
      "metadata": {
        "id": "q-oD5Yv_umpO"
      },
      "source": [
        "#checking the prediction score for each of these models\n",
        "from sklearn.metrics import r2_score\n",
        "\n",
        "prediction1 = model.predict(X_test)\n",
        "r2_score(y_test,prediction1)\n"
      ],
      "execution_count": null,
      "outputs": []
    },
    {
      "cell_type": "code",
      "metadata": {
        "id": "FilofbqHumcR"
      },
      "source": [
        "prediction2 = modelA.predict(X1_test)\n",
        "r2_score(y_test,prediction2)"
      ],
      "execution_count": null,
      "outputs": []
    },
    {
      "cell_type": "code",
      "metadata": {
        "id": "2jE5LFpsulmc"
      },
      "source": [
        "prediction3 = modelB.predict(X2_test)\n",
        "r2scoreprev= r2_score(y_test,prediction3)\n",
        "r2_score(y_test,prediction3)"
      ],
      "execution_count": null,
      "outputs": []
    },
    {
      "cell_type": "markdown",
      "metadata": {
        "id": "_rRzIQNqV7tq"
      },
      "source": [
        "**MSE.**\n"
      ]
    },
    {
      "cell_type": "code",
      "metadata": {
        "id": "SKAFZtfeVvBg"
      },
      "source": [
        "#import mean_squarer error from sklearn.metrics\n",
        "from sklearn.metrics import mean_squared_error\n",
        "mse_model = mean_squared_error(y_test,prediction1)\n",
        "mse_modelA = mean_squared_error(y_test,prediction2)\n",
        "mse_modelB = mean_squared_error(y_test,prediction3)\n",
        "\n",
        "print(\"MSE for prediction 1(model):   \",mse_model)\n",
        "print(\"MSE for prediction 2(modelA):   \",mse_modelA)\n",
        "print(\"MSE for prediction 3(modelB):   \",mse_modelB)"
      ],
      "execution_count": null,
      "outputs": []
    },
    {
      "cell_type": "markdown",
      "metadata": {
        "id": "YECi_Uk-WAZ_"
      },
      "source": [
        "**RMSE.**\n"
      ]
    },
    {
      "cell_type": "code",
      "metadata": {
        "id": "W9IKkpmAVuv3"
      },
      "source": [
        "#calculation RMSE(it's just the square root of MSE)\n",
        "import math\n",
        "rmse_model = math.sqrt(mse_model)\n",
        "rmse_modelA = math.sqrt(mse_modelA)\n",
        "rmse_modelB = math.sqrt(mse_modelB)\n",
        "\n",
        "print(\"RMSE for prediction 1(model):   \",rmse_model)\n",
        "print(\"RMSE for prediction 2(modelA):   \",rmse_modelA)\n",
        "print(\"RMSE for prediction 3(modelB):   \",rmse_modelB)"
      ],
      "execution_count": null,
      "outputs": []
    },
    {
      "cell_type": "markdown",
      "metadata": {
        "id": "TC_rhhWtWD5c"
      },
      "source": [
        "**MAE.**"
      ]
    },
    {
      "cell_type": "code",
      "metadata": {
        "id": "Oy5ajwEnVvOi"
      },
      "source": [
        "#mae is the mean absoluter error, importing relevant library from sklearn\n",
        "\n",
        "from sklearn.metrics import mean_absolute_error\n",
        "mae_model = mean_absolute_error(y_test,prediction1)\n",
        "mae_modelA = mean_absolute_error(y_test,prediction2)\n",
        "mae_modelB = mean_absolute_error(y_test,prediction3)\n",
        "\n",
        "print(\"MAE for prediction 1(model):   \",mae_model)\n",
        "print(\"MAE for prediction 2(modelA):   \",mae_modelA)\n",
        "print(\"MAE for prediction 3(modelB):   \",mae_modelB)"
      ],
      "execution_count": null,
      "outputs": []
    },
    {
      "cell_type": "markdown",
      "metadata": {
        "id": "wB0LqCL_uo44"
      },
      "source": [
        "# **Lab| Customer Analysis Round 7**"
      ]
    },
    {
      "cell_type": "markdown",
      "metadata": {
        "id": "cy4zZyQWu321"
      },
      "source": [
        "**Improving the linear regression model**"
      ]
    },
    {
      "cell_type": "markdown",
      "metadata": {
        "id": "vvDmA_UvQSJa"
      },
      "source": [
        "**Finding: Noticed from my models:** (model, modelA and modelB)\n",
        "\n",
        "The r2_score increases as we add more categorical variables and errors (mse,rmse and mae) decrease as we add more categorical variables. So first, I will try to improve the performance of the model by adding other categorical variables."
      ]
    },
    {
      "cell_type": "code",
      "metadata": {
        "id": "ujlmkJdjuv0W"
      },
      "source": [
        "X_cat.head()\n",
        "#X_cat.isna()\n",
        "#X_cat.shape()--typed this to check why i was getting errors later, it stores it as a tuple."
      ],
      "execution_count": null,
      "outputs": []
    },
    {
      "cell_type": "code",
      "metadata": {
        "id": "S9XjmB4wkU0t"
      },
      "source": [
        "#looking at categorical columns, it looks like each index of the column customer is a separate individual. Checking if that is true\n",
        "\n",
        "#we are mostly interested in customers as a group, meaning if they are in the same state, or what level of employment status they have, how do they claim and what amounts they claim.\n",
        "\n",
        "#if we wanted to find individual customers details, we could just look into the database and find their values.\n",
        "X_cat['Customer'].shape\n",
        "print(\"    \")\n",
        "print(\"------\")\n",
        "print(\"    \")\n",
        "X_cat['Customer'].value_counts()"
      ],
      "execution_count": null,
      "outputs": []
    },
    {
      "cell_type": "markdown",
      "metadata": {
        "id": "sRwBlqDdmV0a"
      },
      "source": [
        "**Finding** There are unique 9134 customers and their count is 1 individually. It does not make sense to include them in the analysis. I am going to drop this variable in the following stops by simply not including this variable."
      ]
    },
    {
      "cell_type": "markdown",
      "metadata": {
        "id": "R_NpAyZzmvqK"
      },
      "source": [
        "In the lab part 6, my modelB was using concatenated version (numerical columns+coverage+employment status) as dataframe X2. So I am going to add other categorical variables to this one in the next steps."
      ]
    },
    {
      "cell_type": "code",
      "metadata": {
        "id": "6edFp9W2mnxy"
      },
      "source": [
        "#first I am going to assign all of these variables separately, i tried several ways to do all of them at once with one hot encoder, but got several types of error so doing them separately\n",
        "\n",
        "#categorical variables that are related to demogr\n",
        "X_cat_state = X_cat[['State']]\n",
        "X_cat_education = X_cat[['Education']]\n",
        "X_cat_gender = X_cat[['Gender']]\n",
        "X_cat_location = X_cat[['Location Code']]\n",
        "X_cat_marital = X_cat[['Marital Status']]\n",
        "\n",
        "#categorical variables that are related to what the company offers- policy, offers, policies dependant on vehicle class and size. response is also added here\n",
        "X_cat_response = X_cat[['Response']]\n",
        "X_cat_renew = X_cat[['Renew Offer Type']]\n",
        "X_cat_vehicle_s = X_cat[['Vehicle Size']]\n",
        "X_cat_vehicle_c = X_cat[['Vehicle Class']]\n",
        "#policy type and policy looks interrelated (as Policy type (Corporate)--> policy (corporate L3), so if policy is corporate L3, we can always tell it is a corporate policy type)\n",
        "#for this reason I am going to take only policy type as it will otherwise give us redundant information.\n",
        "X_cat_policyt = X_cat[['Policy Type']]\n"
      ],
      "execution_count": null,
      "outputs": []
    },
    {
      "cell_type": "code",
      "metadata": {
        "id": "DjlxiuXhpeAP"
      },
      "source": [
        "X_cat['Vehicle Size'].value_counts()\n",
        "print(\"    \")\n",
        "print(\"------\")\n",
        "print(\"    \")\n",
        "X_cat['Vehicle Class'].value_counts()\n",
        "print(\"    \")\n",
        "print(\"------\")\n",
        "print(\"    \")\n",
        "X_cat['Vehicle Class'].groupby(X_cat['Vehicle Size']).value_counts()\n",
        "#using group by vehicle Size to see if vehicle class is interrelated to vehicle class"
      ],
      "execution_count": null,
      "outputs": []
    },
    {
      "cell_type": "code",
      "metadata": {
        "id": "oPxtzJxpqU9m"
      },
      "source": [
        "#double-checking if my assumptions with policy and policy type were true\n",
        "X_cat['Policy'].groupby(X_cat['Policy Type']).value_counts()\n",
        "\n",
        "#they were correct, so not adding them back."
      ],
      "execution_count": null,
      "outputs": []
    },
    {
      "cell_type": "code",
      "metadata": {
        "id": "fD01lqCSrWdg"
      },
      "source": [
        "X_cat['Location Code'].groupby(X_cat['State']).value_counts() #location code cannot really be attritbuted back to individual states, so I am going to keep them\n",
        "\n",
        "X_cat['State'].groupby(X_cat['Location Code']).value_counts() #vice-versa also seems to be true from the output below"
      ],
      "execution_count": null,
      "outputs": []
    },
    {
      "cell_type": "code",
      "metadata": {
        "id": "YBGfRZAPu7vA"
      },
      "source": [
        "#running OneHotEncoder on each of these dfs I have created.\n",
        "#categorical variables that are related to demographics\n",
        "\n",
        "encoder_state = OneHotEncoder().fit(X_cat_state)\n",
        "encoder_education = OneHotEncoder().fit(X_cat_education)\n",
        "encoder_gender = OneHotEncoder().fit(X_cat_gender)\n",
        "encoder_location = OneHotEncoder().fit(X_cat_location)\n",
        "encoder_marital = OneHotEncoder().fit(X_cat_marital)\n",
        "\n",
        "\n",
        "#categorical variables that are related to what the company offers- policy, offers, policies dependant on vehicle class and size; response is also added here\n",
        "encoder_response = OneHotEncoder().fit(X_cat_response)\n",
        "encoder_renew = OneHotEncoder().fit(X_cat_renew)\n",
        "encoder_vehicle_s = OneHotEncoder().fit(X_cat_vehicle_s)\n",
        "encoder_vehicle_c = OneHotEncoder().fit(X_cat_vehicle_c)\n",
        "encoder_policyt = OneHotEncoder().fit(X_cat_policyt)\n"
      ],
      "execution_count": null,
      "outputs": []
    },
    {
      "cell_type": "code",
      "metadata": {
        "id": "FKIBswfPtj28"
      },
      "source": [
        "#Printing categories to see how the values of these variables look like\n",
        "print(\"Demographic categorical variables:  \")\n",
        "print(\"    \")\n",
        "print(\"------\")\n",
        "print(\"    \")\n",
        "print(encoder_state.categories_)\n",
        "print(\"    \")\n",
        "print(\"------\")\n",
        "print(\"    \")\n",
        "print(encoder_response.categories_)\n",
        "print(\"    \")\n",
        "print(\"------\")\n",
        "print(\"    \")\n",
        "print(encoder_education.categories_)\n",
        "print(\"    \")\n",
        "print(\"------\")\n",
        "print(\"    \")\n",
        "print(encoder_gender.categories_)\n",
        "print(\"    \")\n",
        "print(\"------\")\n",
        "print(\"    \")\n",
        "print(encoder_location.categories_)\n",
        "print(\"    \")\n",
        "print(\"------\")\n",
        "print(\"    \")\n",
        "print(encoder_marital.categories_)\n",
        "print(\"    \")\n",
        "print(\"------\")\n",
        "print(\"    \")\n",
        "print(\"Company/Policy related categorical variables:  \")\n",
        "print(\"    \")\n",
        "print(\"------\")\n",
        "print(\"    \")\n",
        "print(encoder_renew.categories_)\n",
        "print(\"    \")\n",
        "print(\"------\")\n",
        "print(\"    \")\n",
        "print(encoder_vehicle_s.categories_)\n",
        "print(\"    \")\n",
        "print(\"------\")\n",
        "print(\"    \")\n",
        "print(encoder_vehicle_c.categories_)\n",
        "print(\"    \")\n",
        "print(\"------\")\n",
        "print(\"    \")\n",
        "print(encoder_policyt.categories_)\n",
        "print(\"    \")\n",
        "print(\"------\")\n",
        "print(\"    \")"
      ],
      "execution_count": null,
      "outputs": []
    },
    {
      "cell_type": "code",
      "metadata": {
        "id": "oym7ixv4u71-"
      },
      "source": [
        "#encoding these categories columns separately into respective array\n",
        "\n",
        "#demographic variables\n",
        "encoded_state = encoder_state.transform(X_cat_state).toarray()\n",
        "encoded_education = encoder_education.transform(X_cat_education).toarray()\n",
        "encoded_gender = encoder_gender.transform(X_cat_gender).toarray()\n",
        "encoded_location = encoder_location.transform(X_cat_location).toarray()\n",
        "encoded_marital = encoder_marital.transform(X_cat_marital).toarray()\n",
        "\n",
        "#company/policy related variables and response\n",
        "encoded_renew = encoder_renew.transform(X_cat_renew).toarray()\n",
        "encoded_response = encoder_response.transform(X_cat_response).toarray()\n",
        "encoded_vehicle_s = encoder_vehicle_s.transform(X_cat_vehicle_s).toarray()\n",
        "encoded_vehicle_c = encoder_vehicle_c.transform(X_cat_vehicle_c).toarray()\n",
        "encoded_policyt = encoder_policyt.transform(X_cat_policyt).toarray()\n",
        "#printing one of them to check if the above commands stored them into array correctly\n",
        "print(encoded_state)\n",
        "#onehot_encoded_all={X_cat:[]}\n",
        "#now it is is being storied in an array"
      ],
      "execution_count": null,
      "outputs": []
    },
    {
      "cell_type": "code",
      "metadata": {
        "id": "0voofATtu77f"
      },
      "source": [
        "#create a dataframe with columns with these categorical variables\n",
        "\n",
        "#demographic variables\n",
        "\n",
        "onehot_encoded_state = pd.DataFrame(encoded_state,columns=encoder_state.categories_)\n",
        "\n",
        "onehot_encoded_education = pd.DataFrame(encoded_education,columns=encoder_education.categories_)\n",
        "onehot_encoded_gender = pd.DataFrame(encoded_gender,columns=encoder_gender.categories_)\n",
        "onehot_encoded_location = pd.DataFrame(encoded_location,columns=encoder_location.categories_)\n",
        "onehot_encoded_marital = pd.DataFrame(encoded_marital,columns=encoder_marital.categories_)\n",
        "\n",
        "#company/policy related variables and response\n",
        "onehot_encoded_renew = pd.DataFrame(encoded_renew,columns=encoder_renew.categories_)\n",
        "onehot_encoded_response = pd.DataFrame(encoded_response,columns=encoder_response.categories_)\n",
        "onehot_encoded_vehicle_s = pd.DataFrame(encoded_vehicle_s,columns=encoder_vehicle_s.categories_)\n",
        "onehot_encoded_vehicle_c = pd.DataFrame(encoded_vehicle_c,columns=encoder_vehicle_c.categories_)\n",
        "onehot_encoded_policyt = pd.DataFrame(encoded_policyt,columns=encoder_policyt.categories_)\n",
        "\n",
        "#checking if converting back to DataFrame worked by getting output of one of these\n",
        "onehot_encoded_vehicle_s.head(2)\n",
        "#pd.DataFrame(encoded_all,columns=encoder_all.categories_).head()"
      ],
      "execution_count": null,
      "outputs": []
    },
    {
      "cell_type": "code",
      "metadata": {
        "id": "KOdMNnNzu8BJ"
      },
      "source": [
        "#all of the onehot_encoded_variablename will sum up to 1 if i add them across rows, so we can drop one of the columns from each\n",
        "\n",
        "#demographic variables\n",
        "\n",
        "onehot_encoded_state = onehot_encoded_state.drop(['Arizona'],axis=1)#- ran it already and it has dropped, if i run it again it will give me error\n",
        "onehot_encoded_education = onehot_encoded_education.drop(['Bachelor'],axis=1)\n",
        "#onehot_encoded_gender = onehot_encoded_gender.drop(['M'],axis=1) - again only two categories\n",
        "onehot_encoded_location = onehot_encoded_location.drop(['Rural'],axis=1)\n",
        "onehot_encoded_marital = onehot_encoded_marital.drop(['Divorced'],axis=1)\n",
        "\n",
        "#company/policy related variables and response\n",
        "onehot_encoded_renew = onehot_encoded_renew.drop(['Offer1'],axis=1)\n",
        "#onehot_encoded_response = onehot_encoded_state.drop(['Arizona'],axis=1)#- reponse only has two categories so deciding not to drop\n",
        "onehot_encoded_vehicle_s = onehot_encoded_vehicle_s.drop(['Large'],axis=1)\n",
        "onehot_encoded_vehicle_c = onehot_encoded_vehicle_c.drop(['SUV'],axis=1)\n",
        "onehot_encoded_policyt = onehot_encoded_policyt.drop(['Special Auto'],axis=1)"
      ],
      "execution_count": null,
      "outputs": []
    },
    {
      "cell_type": "code",
      "metadata": {
        "id": "UMELi_fUu8GA"
      },
      "source": [
        "#checking outputs to see if it worked properly\n",
        "onehot_encoded_state.head(2)\n",
        "print(\"    \")\n",
        "print(\"------\")\n",
        "print(\"    \")\n",
        "onehot_encoded_renew.head(2)"
      ],
      "execution_count": null,
      "outputs": []
    },
    {
      "cell_type": "markdown",
      "metadata": {
        "id": "Y31ypaf75fJO"
      },
      "source": [
        "**Note:** I could have used LabelEncoder for this above step as well, but it would shrink it down to 1 column for categorical variables and it would have made it numerical(and treated it as a numerical relationship). I am not sure if that would work for this case study, so i have stuck with One_hot_encoder for this one as it could result in unintended consequences."
      ]
    },
    {
      "cell_type": "markdown",
      "metadata": {
        "id": "jRYjb_Tn3OSo"
      },
      "source": [
        "**Numerical variable types** In the previous model, I used MinMaxScaler, in this one I am going to try StandardScaler to see if it improves the performace."
      ]
    },
    {
      "cell_type": "code",
      "metadata": {
        "id": "iebTnp9Ou8KZ"
      },
      "source": [
        "#already done this before, so just copying it here so i can refer to my variables better:\n",
        "#transformer = StandardScaler().fit(numerical1)\n",
        "#x_standardized = transformer.transform(numerical1)\n",
        "#print(x_standardized.shape)\n",
        "#x_standardized = pd.DataFrame(x_standardized,columns=numerical1.columns)\n",
        "#x_standardized.head()\n",
        "#output will standardize values \n"
      ],
      "execution_count": null,
      "outputs": []
    },
    {
      "cell_type": "markdown",
      "metadata": {
        "id": "DzDlOcWG6Ams"
      },
      "source": [
        "**Concatenating dataframes so i can build new models**"
      ]
    },
    {
      "cell_type": "code",
      "metadata": {
        "id": "9DwGSRED40ll"
      },
      "source": [
        "X_demo = pd.concat([x_standardized,onehot_encoded1,onehot_encoded_state,onehot_encoded_education,onehot_encoded_education,onehot_encoded_location,onehot_encoded_marital],axis=1)\n",
        "#onehot_encoded1 was the one i created earler for employment status variable\n",
        "\n",
        "X_other = pd.concat([x_standardized,onehot_encoded,onehot_encoded_response,onehot_encoded_renew,onehot_encoded_vehicle_c,onehot_encoded_vehicle_s,onehot_encoded_policyt],axis=1)\n",
        "#onehot_encoded was the one i created earler for coverage variable\n",
        "\n",
        "X_all = pd.concat([x_standardized,onehot_encoded1,onehot_encoded_state,onehot_encoded_education,onehot_encoded_education,onehot_encoded_location,onehot_encoded_marital,onehot_encoded,onehot_encoded_response,onehot_encoded_renew,onehot_encoded_vehicle_c,onehot_encoded_vehicle_s,onehot_encoded_policyt],axis=1)\n",
        "#this model will measure performance if I add all the variables - minus customers\n",
        "\n",
        "X_compare = pd.concat([x_standardized,onehot_encoded,onehot_encoded1],axis=1)\n",
        "#I also want to compare if x_standardized will result in better performance in comparison to same experiment we did earlier with x_normalized (this was my modelB), so creating a new one here so i can easily compare them\n",
        "\n",
        "X_demo.head(2)\n",
        "X_other.head(2)\n",
        "X_all.head(2)\n",
        "X_compare.head(2)"
      ],
      "execution_count": null,
      "outputs": []
    },
    {
      "cell_type": "code",
      "metadata": {
        "id": "YNAUMiW640xR"
      },
      "source": [
        "y = numerical['Total Claim Amount'] #this was assigned in my previous experiment as well, but redoing it here so if anything had changed before in the process I will have the same target\n",
        "y.head(2)"
      ],
      "execution_count": null,
      "outputs": []
    },
    {
      "cell_type": "code",
      "metadata": {
        "id": "ujl3PLMe4075"
      },
      "source": [
        "#reassigning testsize and random state for my previous experiment with X2(x_normalized used-minmaxscaler)so I can see if test_size or random_state makes any improvement by itself, then I will also compare it with X_compare which uses standardscaler with same variables.\n",
        "#I will call this my \"control\" just so i am not referring to the whole variable again\n",
        "X2_c=pd.concat([x_normalized,onehot_encoded,onehot_encoded1], axis=1)\n",
        "X2_c_train,X2_c_test,y_train,y_test = train_test_split(X2_c,y,test_size =0.3,random_state=1000)"
      ],
      "execution_count": null,
      "outputs": []
    },
    {
      "cell_type": "code",
      "metadata": {
        "id": "xnbUErFa41GV"
      },
      "source": [
        "#now doing the train test split for the new ones I have created\n",
        "X_demo_train,X_demo_test,y_train,y_test = train_test_split(X_demo,y,test_size=0.3,random_state=1000) #i will call this \"demo\"(for demographic)\n",
        "X_other_train,X_other_test,y_train,y_test = train_test_split(X_other,y,test_size=0.3,random_state=1000) #i will call this \"other\" (for all other types of variables)\n",
        "X_all_train,X_all_test,y_train,y_test = train_test_split(X_all,y,test_size=0.3,random_state=1000) #i will call this \"all\" as it includes all variables (excluding the ones we have dropped for reasons explained already)\n",
        "X_compare_train,X_compare_test,y_train,y_test = train_test_split(X_compare,y,test_size=0.3,random_state=1000) #i will call this \"compare\"."
      ],
      "execution_count": null,
      "outputs": []
    },
    {
      "cell_type": "code",
      "metadata": {
        "id": "6U-56SU041Qe"
      },
      "source": [
        "#checking train and test shapes for all of these\n",
        "print(\"Shape for my control:  \")\n",
        "print(\"-------\")\n",
        "print(X2_c_train.shape)\n",
        "print(X2_c_test.shape)\n",
        "print(y_train.shape)\n",
        "print(y_test.shape)\n",
        "print(\"Shape for my compare:  \")\n",
        "print(\"-------\")\n",
        "print(X_compare_train.shape)\n",
        "print(X_compare_test.shape)\n",
        "print(y_train.shape)\n",
        "print(y_test.shape)\n",
        "print(\"Shape for demo:  \")\n",
        "print(\"-------\")\n",
        "print(X_demo_train.shape)\n",
        "print(X_demo_test.shape)\n",
        "print(y_train.shape)\n",
        "print(y_test.shape)\n",
        "print(\"Shape for others:  \")\n",
        "print(\"-------\")\n",
        "print(X_other_train.shape)\n",
        "print(X_other_test.shape)\n",
        "print(y_train.shape)\n",
        "print(y_test.shape)\n",
        "print(\"Shape for all:  \")\n",
        "print(\"-------\")\n",
        "print(X_all_train.shape)\n",
        "print(X_all_test.shape)\n",
        "print(y_train.shape)\n",
        "print(y_test.shape)"
      ],
      "execution_count": null,
      "outputs": []
    },
    {
      "cell_type": "code",
      "metadata": {
        "id": "kn2XWIdZ41a0"
      },
      "source": [
        "#checking train and test head() for all of these\n",
        "print(\"head for my control:  \")\n",
        "print(\"-------\")\n",
        "X2_c_train.head(2)\n",
        "X2_c_test.head(2)\n",
        "y_train.head(2)\n",
        "y_test.head(2)\n",
        "print(\"head for my compare:  \")\n",
        "print(\"-------\")\n",
        "X_compare_train.head(2)\n",
        "X_compare_test.head(2)\n",
        "y_train.head(2)\n",
        "y_test.head(2)\n",
        "print(\"head for demo:  \")\n",
        "print(\"-------\")\n",
        "X_demo_train.head(2)\n",
        "X_demo_test.head(2)\n",
        "y_train.head(2)\n",
        "y_test.head(2)\n",
        "print(\"head for others:  \")\n",
        "print(\"-------\")\n",
        "X_other_train.head(2)\n",
        "X_other_test.head(2)\n",
        "y_train.head(2)\n",
        "y_test.head(2)\n",
        "print(\"head for all:  \")\n",
        "print(\"-------\")\n",
        "X_all_train.head(2)\n",
        "X_all_test.head(2)\n",
        "y_train.head(2)\n",
        "y_test.head(2)"
      ],
      "execution_count": null,
      "outputs": []
    },
    {
      "cell_type": "markdown",
      "metadata": {
        "id": "voLmvycaC08L"
      },
      "source": [
        "**Training/fitting model**"
      ]
    },
    {
      "cell_type": "code",
      "metadata": {
        "id": "7OFO0pYv41g_"
      },
      "source": [
        "#we have done this part before, but i am assigning a new variable 'lm_modelname' for linear modelw so i don't get confused with model names as i used model variable earlier\n",
        "\n",
        "lm_control = linear_model.LinearRegression()\n",
        "lm_compare = linear_model.LinearRegression()\n",
        "lm_demo = linear_model.LinearRegression()\n",
        "lm_other = linear_model.LinearRegression()\n",
        "lm_all = linear_model.LinearRegression()\n",
        "\n",
        "#now fitting each of these newly created models\n",
        "\n",
        "model_control = lm_control.fit(X2_c_train,y_train)\n",
        "model_compare = lm_compare.fit(X_compare_train,y_train)\n",
        "model_demo = lm_demo.fit(X_demo_train,y_train)\n",
        "model_other = lm_other.fit(X_other_train,y_train)\n",
        "model_all = lm_all.fit(X_all_train,y_train)"
      ],
      "execution_count": null,
      "outputs": []
    },
    {
      "cell_type": "code",
      "metadata": {
        "id": "NeYyh98zE4cv"
      },
      "source": [
        "#creating new predictions variables\n",
        "\n",
        "pred_control = lm_control.predict(X2_c_test)\n",
        "pred_compare = lm_compare.predict(X_compare_test)\n",
        "pred_demo = lm_demo.predict(X_demo_test)\n",
        "pred_other = lm_other.predict(X_other_test)\n",
        "pred_all = lm_all.predict(X_all_test)"
      ],
      "execution_count": null,
      "outputs": []
    },
    {
      "cell_type": "markdown",
      "metadata": {
        "id": "VeVU2bXCGUaa"
      },
      "source": [
        "**Model Validation** *Calculating and Printing* all r2scores, mse, rmse, and mae for all of the models above"
      ]
    },
    {
      "cell_type": "code",
      "metadata": {
        "id": "-j4mNMsZHYxI"
      },
      "source": [
        "#calculating values first\n",
        "r2control = r2_score(y_test,pred_control)\n",
        "r2compare = r2_score(y_test,pred_compare)\n",
        "r2demo = r2_score(y_test,pred_demo)\n",
        "r2other = r2_score(y_test,pred_other)\n",
        "r2all = r2_score(y_test,pred_all)\n",
        "\n",
        "#mse\n",
        "mse_control = mean_squared_error(y_test,pred_control)\n",
        "mse_compare = mean_squared_error(y_test,pred_compare)\n",
        "mse_demo = mean_squared_error(y_test,pred_demo)\n",
        "mse_other = mean_squared_error(y_test,pred_other)\n",
        "mse_all = mean_squared_error(y_test,pred_all)\n",
        "#rmse\n",
        "\n",
        "rmse_control = math.sqrt(mse_control)\n",
        "rmse_compare = math.sqrt(mse_compare)\n",
        "rmse_demo = math.sqrt(mse_demo)\n",
        "rmse_other = math.sqrt(mse_other)\n",
        "rmse_all = math.sqrt(mse_all)\n",
        "\n",
        "#mae\n",
        "mae_control = mean_absolute_error(y_test,pred_control)\n",
        "mae_compare = mean_absolute_error(y_test,pred_compare)\n",
        "mae_demo = mean_absolute_error(y_test,pred_demo)\n",
        "mae_other = mean_absolute_error(y_test,pred_other)\n",
        "mae_all = mean_absolute_error(y_test,pred_all)"
      ],
      "execution_count": null,
      "outputs": []
    },
    {
      "cell_type": "code",
      "metadata": {
        "id": "eFJxNFZFGcXw"
      },
      "source": [
        "#I wanted to compare if test_size and random_state affected the performance. So first, printing all scores from lab6 for my modelB which I will compare with control. \n",
        "\n",
        "print(\"Previous results with test-size=.20 and random_state=100:  \")\n",
        "print(\"-----\")\n",
        "print(\"r2score:  \",r2scoreprev)\n",
        "print(\"MSE:  \",mse_modelB)\n",
        "print(\"RMSE:  \",rmse_modelB)\n",
        "print(\"MAE:  \",mae_modelB)\n",
        "\n",
        "#now printing results from pred_control to see if it changed by much:\n",
        "\n",
        "print(\"Control results with test-size=.30 and random_state=1000:  \")\n",
        "print(\"-----\")\n",
        "print(\"r2score:  \",r2control)\n",
        "print(\"MSE:  \",mse_control)\n",
        "print(\"RMSE:  \",rmse_control)\n",
        "print(\"MAE:  \",mae_control)\n",
        "\n",
        "\n"
      ],
      "execution_count": null,
      "outputs": []
    },
    {
      "cell_type": "markdown",
      "metadata": {
        "id": "OSyWdT0gZRWk"
      },
      "source": [
        "**Finding:** The performance increased considerably when we took bigger test-size and defined more random_state!\n",
        "\n"
      ]
    },
    {
      "cell_type": "code",
      "metadata": {
        "id": "NB0NA7ZxKBM5"
      },
      "source": [
        "#now printing results from this round of improvement steps\n",
        "\n",
        "print(\"Control results with test-size=.30 and random_state=1000:  \")\n",
        "print(\"------------------\")\n",
        "print(\"r2score:  \",r2control)\n",
        "print(\"MSE:  \",mse_control)\n",
        "print(\"RMSE:  \",rmse_control)\n",
        "print(\"MAE:  \",mae_control)\n",
        "print(\"-----\")\n",
        "print(\"Compare results with test-size=.30 and random_state=1000:  \")\n",
        "print(\"------------------\")\n",
        "print(\"r2score:  \",r2compare)\n",
        "print(\"MSE:  \",mse_compare)\n",
        "print(\"RMSE:  \",rmse_compare)\n",
        "print(\"MAE:  \",mae_compare)\n",
        "print(\"-----\")\n",
        "print(\"Demo results with test-size=.30 and random_state=1000:  \")\n",
        "print(\"------------------\")\n",
        "print(\"r2score:  \",r2demo)\n",
        "print(\"MSE:  \",mse_demo)\n",
        "print(\"RMSE:  \",rmse_demo)\n",
        "print(\"MAE:  \",mae_demo)\n",
        "print(\"-----\")\n",
        "print(\"Other results with test-size=.30 and random_state=1000:  \")\n",
        "print(\"------------------\")\n",
        "print(\"r2score:  \",r2other)\n",
        "print(\"MSE:  \",mse_other)\n",
        "print(\"RMSE:  \",rmse_other)\n",
        "print(\"MAE:  \",mae_other)\n",
        "print(\"-----\")\n",
        "print(\"All results with test-size=.30 and random_state=1000:  \")\n",
        "print(\"------------------\")\n",
        "print(\"r2score:  \",r2all)\n",
        "print(\"MSE:  \",mse_all)\n",
        "print(\"RMSE:  \",rmse_all)\n",
        "print(\"MAE:  \",mae_all)\n"
      ],
      "execution_count": null,
      "outputs": []
    },
    {
      "cell_type": "markdown",
      "metadata": {
        "id": "a5lXTi4GfRgF"
      },
      "source": [
        "Whoa! There are significant differences in the performance of each of the models we have considered. Now, I will move to the final round tasks as that requires reporting these findings!"
      ]
    },
    {
      "cell_type": "markdown",
      "metadata": {
        "id": "7BtEgk0Su9_j"
      },
      "source": [
        "# **Lab | Customer Analysis Final Round**\n",
        "\n",
        "# **Reporting**"
      ]
    },
    {
      "cell_type": "markdown",
      "metadata": {
        "id": "WIM-ZeIXvJYJ"
      },
      "source": [
        "**Present findings**"
      ]
    },
    {
      "cell_type": "markdown",
      "metadata": {
        "id": "CBkb3e-cM4qU"
      },
      "source": [
        "# **Part 1** Understanding the Data:\n",
        "\n",
        "In this part of the process, we uploaded the data and created dataframes. The main objective of this data was to understand customer deomgraphics and buying behavior, understanding how variables are stored and what type of variables we have in the dataset. \n",
        "\n",
        "To achieve the above stated objective, we used following steps. Findings from each step are included with the steps we took to load and understand the data.\n",
        "\n",
        "1. Read the three files into python as dataframes using Pandas. \n",
        "\n",
        "2. Inspected the DataFrame's shapes:\n",
        "\n",
        "All three files had same number of columns, but when we generated the descriptive statistics of the second datafile, it was missing \"Customer Lifetime Value\" which suggested that there was something wrong with the data in this column. \n",
        "\n",
        "3. Standardized header name: \n",
        "\n",
        "We standardized all headnames for each datafiles. We chose to lower case them, so that it will make it easier for us later to find and manipulate column headers. \n",
        "\n",
        "During this step we also looked further into \"Customer Lifetime Value\" and found out that it was stored as an \"object\" datatype. To correct this, we defined a function to replace the \"%\" sign that accompanied values of Customer lifetime value in datafile1 and datafile2 data. After successfully, correcting these, we defined a function to convert these strings to floats. Hence, after  successfully converting these strings to floats, we were able to complete preliminary cleaning of the data.\n",
        "\n",
        "4. Rearranged the columns in the dataframe: Each datafile was storing columns in a different order, so we used simple reindexing to standardize the column headers across each datafile.\n",
        "\n",
        "5. Concatenated the three dataframes: Since the number of columns in each of the datafiles were same, we concatenated these dataframes into a single one. After the merged datframe was created, we also noticed that customer column was most likely storing car plates numbers, gender column had null values and Customer lifetime values were corrected due to our actions in step 2.\n",
        "\n",
        "6/7/8.  In these three steps, we extracted numerical and categorical datatypes. We also looked into each variable and tried to understand what they probably meant/what information or insights we could get out of them.\n",
        "\n",
        "9. Performed the data cleaning operations: we deleted the columns education and the number of open complaints. We had already corrected string to float issue with the customer lifetime value, but since they were stored as percentage, we wrote a lambda function to get the values in numbers instead of percentage values. At this stage, we also checked for duplicate rows and deleted them from our dataframe. Finally, we used to filters to filter data of customers with income zero or less.\n"
      ]
    },
    {
      "cell_type": "markdown",
      "metadata": {
        "id": "fLEIIayBUdAj"
      },
      "source": [
        "# **Part 2** Dealing with the Data:\n",
        "\n",
        "1. Double-checking numerical and categorical data types: We checked each variables datatypes and inspected the dataset for null values. \n",
        "\n",
        "2. Dealing with Null values: We did not find any variable with null values, so no action was taken here.\n",
        "\n",
        "3. Correcting datetime format: We converted the datetime values in the \"Effective To Date\" column to machine readable datatime values. To check if this conversion worked, we used filters to filter the information for the first quarter.\n",
        "\n",
        "4. Wrote a function to conduct all the previous mentioned data transformations."
      ]
    },
    {
      "cell_type": "markdown",
      "metadata": {
        "id": "1SveS4kZWGIb"
      },
      "source": [
        "# **Part 3** Exploratory Data Analytics:\n",
        "\n",
        "1. Describe Dataframe: We used data.describe() to briefly check if the datatypes were all stored correctly. \n",
        "\n",
        "2. Created Visualizations to inspect some variables and their relations with other variables quickly. These included plots of the total number of responses, the response rate by the sales channel, the response rate by the total claim amount and the response rate by income."
      ]
    },
    {
      "cell_type": "markdown",
      "metadata": {
        "id": "DrhAHD6kXDft"
      },
      "source": [
        "# **Part 4** Splitting numerical and categorical datatypes, dealing with numerical variables\n",
        "\n",
        "1. Split the numeric data into numerical dataframe and categorical data into categoricals dataframe. \n",
        "\n",
        "2. Checked the normality of the numerical variables visually. We created plots to visually inspect if the numerical variables were normal distributions or not. We used seaborn library to create distribution plots and also used Matplotlib to create histograms. We did not find any distributions to be following normal distributions so we added the note to normalize them later.\n",
        "\n",
        "3. Checked multicollinearity: We created correlation matrix, and used heatmap to inspect if any of the numerical variables were highly correlated. We also used variance inflation factor to inspect multicollinearity. We did not find any variables to be highly correlated, so we decided not to drop any of them for time being."
      ]
    },
    {
      "cell_type": "markdown",
      "metadata": {
        "id": "sV_orbwFZ04h"
      },
      "source": [
        "# **Part 5** Processing the data:\n",
        "\n",
        "1. We implemented X-y split. We assigned y to our target variable \"Total Claim Amount\", and ran linear regression to find y-intercept and coefficient. \n",
        "\n",
        "2. Normalize (numerical): We used MinMaxScaler to normalize the variables and assigned them to new DataFrame \"x_normalized\". We also repeated the same process for StandardScaler and assigned the resulting normalized variables to new DataFrame \"x_standardized\"."
      ]
    },
    {
      "cell_type": "markdown",
      "metadata": {
        "id": "UiSvHqCfbrL-"
      },
      "source": [
        "# **Part 6** Further Processing, Linear Regression and Model Validation\n",
        "\n",
        "1. In this part, we further processed the data. We used OneHot encoding to encode categorical variables. \n",
        "2. After encoding these variables, we concatenated the dataframes - merging numerical and categorical variables into one. \n",
        "3. I considered three models in this part, for which I assigned y to our target variable \"Total Claim Amount\" and three X dataframes [X -> numerical + categorical (only \"coverage\", X1 -> numerical + categorical (only \"employment status\"), and X2 -> numerical + categorical (both \"coverage\" and \"employment status\")]. I wanted to explore if the performance of ML algorithm results in different r-squared scores/less errors (MSE, RMSE, and MAE). \n",
        "4. At this point, we applied Train-test split to each of these dataframes. After training, we checked the indexes of train and test to see if they were matching. On all outputs, the indexes were the same so we moved forward to the linear regression.\n",
        "5. We training and fit our models, then we made predictions for each of our models [X->model, X1->modelA and X2->modelB].\n",
        "\n",
        "6. **Model Validation:**\n",
        "    1. r-squared: We noticed significant differences across these three models: We noticed the highest score of .48906 with modelB that combined both \"coverage\" and employment status\" with numerical variables. ModelB (\"employment status\" +numerical variables) performed slightly less with the score of 0.48775, while the model with only \"coverage\" performed the lowest with the score of 0.47486. There was a difference of 1% between the highest and lowest performing model so it is not prudent to make any assumptions of these variables. But, it suggested that the performance would increase if we added more relevant variables to the model, if we are going to increase the performance.\n",
        "    2. Mean squared error: As it was with r-squared, we also noticed the mean squared errors followed the same trend as r-squared. The MSE lowered as we went from model to modelA to modelB.\n",
        "\n",
        "    *   MSE for prediction 1 (model):    41828.53395726324\n",
        "    *   MSE for prediction 2 (modelA):    40801.78680008948\n",
        "    *   MSE for prediction 3 (modelB):    40697.40364137796\n",
        "\n",
        "    3. Root mean squared error: RMSE also showed similar results as we had the lowest root mean squared error with modelB, meaning modelB was least off by the predicted values and actual value. \n",
        "\n",
        "    *   RMSE for prediction 1 (model):    204.5202531713259\n",
        "    *   RMSE for prediction 2 (modelA):    201.99452170811335\n",
        "    *   RMSE for prediction 3 (modelB):    201.7359750797511\n",
        "\n",
        "    4. Mean absolute error: MAE also showed similar results, and suggested that out of these three, our best model was modelB with least error.\n",
        "\n",
        "    *  MAE for prediction 1 (model):    148.05554723528942\n",
        "    *  MAE for prediction 2 (modelA):    148.04352566168507\n",
        "    *  MAE for prediction 3 (modelB):    147.67662222097346 \n",
        "\n",
        "*Note:* Although out of these three models, modelB performed the best, the errors were still quite huge. When making business decisions on this level of predictive strength, it could cost the company huge amount with a slight wrong decision made based on the inferences from our model(s). For this reason, we would need to improve our models so the company can rely on the predictions from our machine learning algorithm."
      ]
    },
    {
      "cell_type": "markdown",
      "metadata": {
        "id": "sKQ0bM3qbs-K"
      },
      "source": [
        "#**Part 7** Improving the linear regression model\n",
        "\n",
        "1. Based on findings from part 6, it was interesting to consider three aspects to improve our models performance.\n",
        "\n",
        "   *  increase performance by having more test data, and assigning more random states so our algorithm knows more and is reliable. So for this iteration, we increased the test data to 30% and assigned random states to 1000 instead of 100 as in previous iteration.\n",
        "   *  increase performance by using a different normalization, so we used StandardScaler for normalizing our numerical values.\n",
        "   *  increase performance by including more categorical variables. Upon inspection, it was found that there were two groups of variable in the dataset. First, the categorical variables that described demographics of the customer. Second, the categorical variables that described what companies offered, and how customers reacted to it by choosing their offerings and/or responding. \n",
        "\n",
        "2. To answer the questions in (1.), I created five models as follows to improve the performance of the linear regression. These models are outlined as follows:\n",
        "\n",
        "   *  model_control: This was a copy of modelB but with increased test data (30%) and random state (1000) while it still used x_normalized (MinMaxScaler). (X2_c -> numerical + categorical (employee status and coverage)\n",
        "   *  model_compare: Same as model_control, but used x_standardized (StandardScaler) instead of x_normalized.\n",
        "   *  model_demo: In this one, i kept test data and random state same as model_control, but it included other variables as well. Additional variables were the ones that could be traced to customers like state, marital status, etc. (X_demo -> numerical + categorical (demographic variables))\n",
        "   *  model_other: In this one, i kept test data and random state same as model_control, but it included other variables as well. Additional variables were the ones that could be traced to company offerings to which customers react like offers, policy types, vehicle sizes, etc. (X_other -> numerical + categorical (other variables))\n",
        "   *  model_all: In this one, i kept test data and random state same as model_control, but it included all other relevant categorical variables as well. (X_demo -> numerical + categorical (all relevant variables))\n",
        "\n",
        "3. At this point, the steps for fitting and training were repeated for each of these models. \n",
        "\n",
        "4. **Model validation and measuring improvement: **\n",
        "\n",
        "*  Comparison between model_control and modelB: There were clear improvements in model_control as we increased the test size and random state. The r-squared jumped by 5% and we saw significant decrease in errors. Finding are as follows:\n",
        "\n",
        "Previous results with test-size=.20 and random_state=100:  \n",
        "-----\n",
        "*  r2score:   0.4890610390060556\n",
        "*  MSE:   40697.40364137796\n",
        "*  RMSE:   201.7359750797511\n",
        "*  MAE:   147.67662222097346\n",
        "\n",
        "Control results with test-size=.30 and random_state=1000:  \n",
        "-----\n",
        "*  r2score:   0.5340920549146959\n",
        "*  MSE:   39327.36606491327\n",
        "*  RMSE:   198.31128577293143\n",
        "*  MAE:   143.50288070284358\n",
        "\n",
        "**Note:** increasing the test size and assigning more random states definitely seems like a good thing to do in this kind of dataset. \n",
        "\n",
        "  *  Comparison between models using StandardScaler and with same test-size and random states:\n",
        "\n",
        "\"Control\" results with test-size=.30 and random_state=1000:  \n",
        "------------------\n",
        "*  r2score:   0.5340920549146959\n",
        "*  MSE:   39327.36606491327\n",
        "*  RMSE:   198.31128577293143\n",
        "*  MAE:   143.50288070284358\n",
        "-----\n",
        "\"Compare\" results with test-size=.30 and random_state=1000:  \n",
        "------------------\n",
        "*  r2score:   0.5340920549146959\n",
        "*  MSE:   39327.36606491327\n",
        "*  RMSE:   198.31128577293143\n",
        "*  MAE:   143.50288070284358\n",
        "-----\n",
        "\"Demo\" results with test-size=.30 and random_state=1000:  \n",
        "------------------\n",
        "*  r2score:   0.7650406506767646\n",
        "*  MSE:   19832.957215436356\n",
        "*  RMSE:   140.82953246899726\n",
        "*  MAE:   95.80004096789494\n",
        "-----\n",
        "\"Other\" results with test-size=.30 and random_state=1000:  \n",
        "------------------\n",
        "*  r2score:   0.5301054838112393\n",
        "*  MSE:   39663.873185650904\n",
        "*  RMSE:   199.15791017594782\n",
        "*  MAE:   141.61640490557716\n",
        "-----\n",
        "\"All\" results with test-size=.30 and random_state=1000:  \n",
        "------------------\n",
        "*  r2score:   0.7664781839282322\n",
        "*  MSE:   19711.61479788948\n",
        "*  RMSE:   140.39805838361684\n",
        "*  MAE:   94.99190527931154\n",
        "\n",
        "**Key Findings:**\n",
        "\n",
        "1. Between control and compare models which had same test size and random state, but different normalization used (MinMaxScaler and StandardScaler), no differences were noticed. \n",
        "2. Between the four models, which had same normalization (StandardScaler) and same test size & random states, we noticed considerable differences as they used different sets of columns in data frames. The best performance was found when all relevant categorical variables were added. It resulted in r-squared score of 0.766 which was about 30% increase in performance from our first iteration. Also, noticed huge decrease in errors, which would mean good news for decision makers. \n",
        "3. Interestingly, the next best model was the model_demo which only had demographic variables added to the numerical dataframe. There were minute differences in terms of performance with model_all performance which suggests that the company could probably build prediction models focusing on these instead of other variables in the dataset- helping them to narrow down the key performance indictors from these set of demographic indicators. It could also be prudent to just use these variables for their models as it would decrease load on algorithms or machines running these algorithms, increasing efficiency and performance if there are tons of data.\n",
        "4. Similarly, model_others performed along the performance of model_compare and model_control, which means the categorical variables are not good variables to choose by themselves when making models for this company.\n",
        "5. Finally, there was a difference of about 50 dollars or more dollars on RMSE and MAE, and over 20k on MSE. This is a significant gain in terms of predictive USD value as we had discussed along the lines of business decision making and costs in part 6.\n",
        "   "
      ]
    },
    {
      "cell_type": "code",
      "metadata": {
        "id": "KtUvxcplusgv"
      },
      "source": [
        ""
      ],
      "execution_count": null,
      "outputs": []
    }
  ]
}